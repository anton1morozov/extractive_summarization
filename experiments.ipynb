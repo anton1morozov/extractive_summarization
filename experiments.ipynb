{
 "cells": [
  {
   "cell_type": "code",
   "execution_count": 1,
   "id": "4a0d221e",
   "metadata": {
    "scrolled": true
   },
   "outputs": [
    {
     "name": "stdout",
     "output_type": "stream",
     "text": [
      "/home/anton/Work/interviews/aspose/repository/extractive_summarization/venv/bin/python\n",
      "/home/anton/Work/interviews/aspose/repository/extractive_summarization/venv/bin/pip\n"
     ]
    }
   ],
   "source": [
    "!which python\n",
    "!which pip"
   ]
  },
  {
   "cell_type": "code",
   "execution_count": 14,
   "id": "4c44bfb1",
   "metadata": {},
   "outputs": [
    {
     "name": "stdout",
     "output_type": "stream",
     "text": [
      "Looking in links: https://download.pytorch.org/whl/torch_stable.html\n",
      "Collecting torch==1.9.0+cu111\n",
      "  Using cached https://download.pytorch.org/whl/cu111/torch-1.9.0%2Bcu111-cp38-cp38-linux_x86_64.whl (2041.3 MB)\n",
      "Collecting torchvision==0.10.0+cu111\n",
      "  Using cached https://download.pytorch.org/whl/cu111/torchvision-0.10.0%2Bcu111-cp38-cp38-linux_x86_64.whl (23.2 MB)\n",
      "Collecting torchaudio==0.9.0\n",
      "  Using cached torchaudio-0.9.0-cp38-cp38-manylinux1_x86_64.whl (1.9 MB)\n",
      "Requirement already satisfied: typing-extensions in ./venv/lib/python3.8/site-packages (from torch==1.9.0+cu111) (3.7.4.3)\n",
      "Requirement already satisfied: numpy in ./venv/lib/python3.8/site-packages (from torchvision==0.10.0+cu111) (1.19.5)\n",
      "Requirement already satisfied: pillow>=5.3.0 in ./venv/lib/python3.8/site-packages (from torchvision==0.10.0+cu111) (8.3.1)\n",
      "Installing collected packages: torch, torchvision, torchaudio\n",
      "Successfully installed torch-1.9.0+cu111 torchaudio-0.9.0 torchvision-0.10.0+cu111\n"
     ]
    }
   ],
   "source": [
    "!pip install torch==1.9.0+cu111 torchvision==0.10.0+cu111 torchaudio==0.9.0 -f https://download.pytorch.org/whl/torch_stable.html"
   ]
  },
  {
   "cell_type": "markdown",
   "id": "0c1f69e7",
   "metadata": {},
   "source": [
    "## Imports"
   ]
  },
  {
   "cell_type": "code",
   "execution_count": 1,
   "id": "0999f99c",
   "metadata": {},
   "outputs": [
    {
     "name": "stderr",
     "output_type": "stream",
     "text": [
      "[nltk_data] Downloading collection 'all'\n",
      "[nltk_data]    | \n",
      "[nltk_data]    | Downloading package abc to /home/anton/nltk_data...\n",
      "[nltk_data]    |   Package abc is already up-to-date!\n",
      "[nltk_data]    | Downloading package alpino to\n",
      "[nltk_data]    |     /home/anton/nltk_data...\n",
      "[nltk_data]    |   Package alpino is already up-to-date!\n",
      "[nltk_data]    | Downloading package biocreative_ppi to\n",
      "[nltk_data]    |     /home/anton/nltk_data...\n",
      "[nltk_data]    |   Package biocreative_ppi is already up-to-date!\n",
      "[nltk_data]    | Downloading package brown to /home/anton/nltk_data...\n",
      "[nltk_data]    |   Package brown is already up-to-date!\n",
      "[nltk_data]    | Downloading package brown_tei to\n",
      "[nltk_data]    |     /home/anton/nltk_data...\n",
      "[nltk_data]    |   Package brown_tei is already up-to-date!\n",
      "[nltk_data]    | Downloading package cess_cat to\n",
      "[nltk_data]    |     /home/anton/nltk_data...\n",
      "[nltk_data]    |   Package cess_cat is already up-to-date!\n",
      "[nltk_data]    | Downloading package cess_esp to\n",
      "[nltk_data]    |     /home/anton/nltk_data...\n",
      "[nltk_data]    |   Package cess_esp is already up-to-date!\n",
      "[nltk_data]    | Downloading package chat80 to\n",
      "[nltk_data]    |     /home/anton/nltk_data...\n",
      "[nltk_data]    |   Package chat80 is already up-to-date!\n",
      "[nltk_data]    | Downloading package city_database to\n",
      "[nltk_data]    |     /home/anton/nltk_data...\n",
      "[nltk_data]    |   Package city_database is already up-to-date!\n",
      "[nltk_data]    | Downloading package cmudict to\n",
      "[nltk_data]    |     /home/anton/nltk_data...\n",
      "[nltk_data]    |   Package cmudict is already up-to-date!\n",
      "[nltk_data]    | Downloading package comparative_sentences to\n",
      "[nltk_data]    |     /home/anton/nltk_data...\n",
      "[nltk_data]    |   Package comparative_sentences is already up-to-\n",
      "[nltk_data]    |       date!\n",
      "[nltk_data]    | Downloading package comtrans to\n",
      "[nltk_data]    |     /home/anton/nltk_data...\n",
      "[nltk_data]    |   Package comtrans is already up-to-date!\n",
      "[nltk_data]    | Downloading package conll2000 to\n",
      "[nltk_data]    |     /home/anton/nltk_data...\n",
      "[nltk_data]    |   Package conll2000 is already up-to-date!\n",
      "[nltk_data]    | Downloading package conll2002 to\n",
      "[nltk_data]    |     /home/anton/nltk_data...\n",
      "[nltk_data]    |   Package conll2002 is already up-to-date!\n",
      "[nltk_data]    | Downloading package conll2007 to\n",
      "[nltk_data]    |     /home/anton/nltk_data...\n",
      "[nltk_data]    |   Package conll2007 is already up-to-date!\n",
      "[nltk_data]    | Downloading package crubadan to\n",
      "[nltk_data]    |     /home/anton/nltk_data...\n",
      "[nltk_data]    |   Package crubadan is already up-to-date!\n",
      "[nltk_data]    | Downloading package dependency_treebank to\n",
      "[nltk_data]    |     /home/anton/nltk_data...\n",
      "[nltk_data]    |   Package dependency_treebank is already up-to-date!\n",
      "[nltk_data]    | Downloading package dolch to /home/anton/nltk_data...\n",
      "[nltk_data]    |   Package dolch is already up-to-date!\n",
      "[nltk_data]    | Downloading package europarl_raw to\n",
      "[nltk_data]    |     /home/anton/nltk_data...\n",
      "[nltk_data]    |   Package europarl_raw is already up-to-date!\n",
      "[nltk_data]    | Downloading package floresta to\n",
      "[nltk_data]    |     /home/anton/nltk_data...\n",
      "[nltk_data]    |   Package floresta is already up-to-date!\n",
      "[nltk_data]    | Downloading package framenet_v15 to\n",
      "[nltk_data]    |     /home/anton/nltk_data...\n",
      "[nltk_data]    |   Package framenet_v15 is already up-to-date!\n",
      "[nltk_data]    | Downloading package framenet_v17 to\n",
      "[nltk_data]    |     /home/anton/nltk_data...\n",
      "[nltk_data]    |   Package framenet_v17 is already up-to-date!\n",
      "[nltk_data]    | Downloading package gazetteers to\n",
      "[nltk_data]    |     /home/anton/nltk_data...\n",
      "[nltk_data]    |   Package gazetteers is already up-to-date!\n",
      "[nltk_data]    | Downloading package genesis to\n",
      "[nltk_data]    |     /home/anton/nltk_data...\n",
      "[nltk_data]    |   Package genesis is already up-to-date!\n",
      "[nltk_data]    | Downloading package gutenberg to\n",
      "[nltk_data]    |     /home/anton/nltk_data...\n",
      "[nltk_data]    |   Package gutenberg is already up-to-date!\n",
      "[nltk_data]    | Downloading package ieer to /home/anton/nltk_data...\n",
      "[nltk_data]    |   Package ieer is already up-to-date!\n",
      "[nltk_data]    | Downloading package inaugural to\n",
      "[nltk_data]    |     /home/anton/nltk_data...\n",
      "[nltk_data]    |   Package inaugural is already up-to-date!\n",
      "[nltk_data]    | Downloading package indian to\n",
      "[nltk_data]    |     /home/anton/nltk_data...\n",
      "[nltk_data]    |   Package indian is already up-to-date!\n",
      "[nltk_data]    | Downloading package jeita to /home/anton/nltk_data...\n",
      "[nltk_data]    |   Package jeita is already up-to-date!\n",
      "[nltk_data]    | Downloading package kimmo to /home/anton/nltk_data...\n",
      "[nltk_data]    |   Package kimmo is already up-to-date!\n",
      "[nltk_data]    | Downloading package knbc to /home/anton/nltk_data...\n",
      "[nltk_data]    |   Package knbc is already up-to-date!\n",
      "[nltk_data]    | Downloading package lin_thesaurus to\n",
      "[nltk_data]    |     /home/anton/nltk_data...\n",
      "[nltk_data]    |   Package lin_thesaurus is already up-to-date!\n",
      "[nltk_data]    | Downloading package mac_morpho to\n",
      "[nltk_data]    |     /home/anton/nltk_data...\n",
      "[nltk_data]    |   Package mac_morpho is already up-to-date!\n",
      "[nltk_data]    | Downloading package machado to\n",
      "[nltk_data]    |     /home/anton/nltk_data...\n",
      "[nltk_data]    |   Package machado is already up-to-date!\n",
      "[nltk_data]    | Downloading package masc_tagged to\n",
      "[nltk_data]    |     /home/anton/nltk_data...\n",
      "[nltk_data]    |   Package masc_tagged is already up-to-date!\n",
      "[nltk_data]    | Downloading package moses_sample to\n",
      "[nltk_data]    |     /home/anton/nltk_data...\n",
      "[nltk_data]    |   Package moses_sample is already up-to-date!\n",
      "[nltk_data]    | Downloading package movie_reviews to\n",
      "[nltk_data]    |     /home/anton/nltk_data...\n",
      "[nltk_data]    |   Package movie_reviews is already up-to-date!\n",
      "[nltk_data]    | Downloading package names to /home/anton/nltk_data...\n",
      "[nltk_data]    |   Package names is already up-to-date!\n",
      "[nltk_data]    | Downloading package nombank.1.0 to\n",
      "[nltk_data]    |     /home/anton/nltk_data...\n",
      "[nltk_data]    |   Package nombank.1.0 is already up-to-date!\n",
      "[nltk_data]    | Downloading package nps_chat to\n",
      "[nltk_data]    |     /home/anton/nltk_data...\n",
      "[nltk_data]    |   Package nps_chat is already up-to-date!\n",
      "[nltk_data]    | Downloading package omw to /home/anton/nltk_data...\n",
      "[nltk_data]    |   Package omw is already up-to-date!\n",
      "[nltk_data]    | Downloading package opinion_lexicon to\n",
      "[nltk_data]    |     /home/anton/nltk_data...\n",
      "[nltk_data]    |   Package opinion_lexicon is already up-to-date!\n",
      "[nltk_data]    | Downloading package paradigms to\n",
      "[nltk_data]    |     /home/anton/nltk_data...\n",
      "[nltk_data]    |   Package paradigms is already up-to-date!\n",
      "[nltk_data]    | Downloading package pil to /home/anton/nltk_data...\n",
      "[nltk_data]    |   Package pil is already up-to-date!\n",
      "[nltk_data]    | Downloading package pl196x to\n",
      "[nltk_data]    |     /home/anton/nltk_data...\n",
      "[nltk_data]    |   Package pl196x is already up-to-date!\n",
      "[nltk_data]    | Downloading package ppattach to\n",
      "[nltk_data]    |     /home/anton/nltk_data...\n",
      "[nltk_data]    |   Package ppattach is already up-to-date!\n",
      "[nltk_data]    | Downloading package problem_reports to\n",
      "[nltk_data]    |     /home/anton/nltk_data...\n",
      "[nltk_data]    |   Package problem_reports is already up-to-date!\n",
      "[nltk_data]    | Downloading package propbank to\n",
      "[nltk_data]    |     /home/anton/nltk_data...\n",
      "[nltk_data]    |   Package propbank is already up-to-date!\n",
      "[nltk_data]    | Downloading package ptb to /home/anton/nltk_data...\n",
      "[nltk_data]    |   Package ptb is already up-to-date!\n",
      "[nltk_data]    | Downloading package product_reviews_1 to\n",
      "[nltk_data]    |     /home/anton/nltk_data...\n",
      "[nltk_data]    |   Package product_reviews_1 is already up-to-date!\n",
      "[nltk_data]    | Downloading package product_reviews_2 to\n",
      "[nltk_data]    |     /home/anton/nltk_data...\n",
      "[nltk_data]    |   Package product_reviews_2 is already up-to-date!\n",
      "[nltk_data]    | Downloading package pros_cons to\n",
      "[nltk_data]    |     /home/anton/nltk_data...\n",
      "[nltk_data]    |   Package pros_cons is already up-to-date!\n",
      "[nltk_data]    | Downloading package qc to /home/anton/nltk_data...\n",
      "[nltk_data]    |   Package qc is already up-to-date!\n",
      "[nltk_data]    | Downloading package reuters to\n",
      "[nltk_data]    |     /home/anton/nltk_data...\n",
      "[nltk_data]    |   Package reuters is already up-to-date!\n",
      "[nltk_data]    | Downloading package rte to /home/anton/nltk_data...\n",
      "[nltk_data]    |   Package rte is already up-to-date!\n",
      "[nltk_data]    | Downloading package semcor to\n",
      "[nltk_data]    |     /home/anton/nltk_data...\n",
      "[nltk_data]    |   Package semcor is already up-to-date!\n",
      "[nltk_data]    | Downloading package senseval to\n",
      "[nltk_data]    |     /home/anton/nltk_data...\n",
      "[nltk_data]    |   Package senseval is already up-to-date!\n",
      "[nltk_data]    | Downloading package sentiwordnet to\n",
      "[nltk_data]    |     /home/anton/nltk_data...\n",
      "[nltk_data]    |   Package sentiwordnet is already up-to-date!\n",
      "[nltk_data]    | Downloading package sentence_polarity to\n",
      "[nltk_data]    |     /home/anton/nltk_data...\n",
      "[nltk_data]    |   Package sentence_polarity is already up-to-date!\n",
      "[nltk_data]    | Downloading package shakespeare to\n",
      "[nltk_data]    |     /home/anton/nltk_data...\n",
      "[nltk_data]    |   Package shakespeare is already up-to-date!\n",
      "[nltk_data]    | Downloading package sinica_treebank to\n",
      "[nltk_data]    |     /home/anton/nltk_data...\n",
      "[nltk_data]    |   Package sinica_treebank is already up-to-date!\n",
      "[nltk_data]    | Downloading package smultron to\n",
      "[nltk_data]    |     /home/anton/nltk_data...\n",
      "[nltk_data]    |   Package smultron is already up-to-date!\n",
      "[nltk_data]    | Downloading package state_union to\n",
      "[nltk_data]    |     /home/anton/nltk_data...\n",
      "[nltk_data]    |   Package state_union is already up-to-date!\n",
      "[nltk_data]    | Downloading package stopwords to\n",
      "[nltk_data]    |     /home/anton/nltk_data...\n",
      "[nltk_data]    |   Package stopwords is already up-to-date!\n",
      "[nltk_data]    | Downloading package subjectivity to\n",
      "[nltk_data]    |     /home/anton/nltk_data...\n",
      "[nltk_data]    |   Package subjectivity is already up-to-date!\n",
      "[nltk_data]    | Downloading package swadesh to\n",
      "[nltk_data]    |     /home/anton/nltk_data...\n",
      "[nltk_data]    |   Package swadesh is already up-to-date!\n",
      "[nltk_data]    | Downloading package switchboard to\n",
      "[nltk_data]    |     /home/anton/nltk_data...\n",
      "[nltk_data]    |   Package switchboard is already up-to-date!\n",
      "[nltk_data]    | Downloading package timit to /home/anton/nltk_data...\n",
      "[nltk_data]    |   Package timit is already up-to-date!\n",
      "[nltk_data]    | Downloading package toolbox to\n",
      "[nltk_data]    |     /home/anton/nltk_data...\n",
      "[nltk_data]    |   Package toolbox is already up-to-date!\n",
      "[nltk_data]    | Downloading package treebank to\n",
      "[nltk_data]    |     /home/anton/nltk_data...\n",
      "[nltk_data]    |   Package treebank is already up-to-date!\n",
      "[nltk_data]    | Downloading package twitter_samples to\n",
      "[nltk_data]    |     /home/anton/nltk_data...\n",
      "[nltk_data]    |   Package twitter_samples is already up-to-date!\n",
      "[nltk_data]    | Downloading package udhr to /home/anton/nltk_data...\n",
      "[nltk_data]    |   Package udhr is already up-to-date!\n",
      "[nltk_data]    | Downloading package udhr2 to /home/anton/nltk_data...\n",
      "[nltk_data]    |   Package udhr2 is already up-to-date!\n",
      "[nltk_data]    | Downloading package unicode_samples to\n",
      "[nltk_data]    |     /home/anton/nltk_data...\n",
      "[nltk_data]    |   Package unicode_samples is already up-to-date!\n",
      "[nltk_data]    | Downloading package universal_treebanks_v20 to\n",
      "[nltk_data]    |     /home/anton/nltk_data...\n",
      "[nltk_data]    |   Package universal_treebanks_v20 is already up-to-\n",
      "[nltk_data]    |       date!\n",
      "[nltk_data]    | Downloading package verbnet to\n",
      "[nltk_data]    |     /home/anton/nltk_data...\n",
      "[nltk_data]    |   Package verbnet is already up-to-date!\n",
      "[nltk_data]    | Downloading package verbnet3 to\n",
      "[nltk_data]    |     /home/anton/nltk_data...\n",
      "[nltk_data]    |   Package verbnet3 is already up-to-date!\n",
      "[nltk_data]    | Downloading package webtext to\n",
      "[nltk_data]    |     /home/anton/nltk_data...\n",
      "[nltk_data]    |   Package webtext is already up-to-date!\n",
      "[nltk_data]    | Downloading package wordnet to\n",
      "[nltk_data]    |     /home/anton/nltk_data...\n",
      "[nltk_data]    |   Package wordnet is already up-to-date!\n",
      "[nltk_data]    | Downloading package wordnet_ic to\n",
      "[nltk_data]    |     /home/anton/nltk_data...\n",
      "[nltk_data]    |   Package wordnet_ic is already up-to-date!\n",
      "[nltk_data]    | Downloading package words to /home/anton/nltk_data...\n",
      "[nltk_data]    |   Package words is already up-to-date!\n",
      "[nltk_data]    | Downloading package ycoe to /home/anton/nltk_data...\n",
      "[nltk_data]    |   Package ycoe is already up-to-date!\n",
      "[nltk_data]    | Downloading package rslp to /home/anton/nltk_data...\n",
      "[nltk_data]    |   Package rslp is already up-to-date!\n",
      "[nltk_data]    | Downloading package maxent_treebank_pos_tagger to\n",
      "[nltk_data]    |     /home/anton/nltk_data...\n",
      "[nltk_data]    |   Package maxent_treebank_pos_tagger is already up-\n",
      "[nltk_data]    |       to-date!\n",
      "[nltk_data]    | Downloading package universal_tagset to\n",
      "[nltk_data]    |     /home/anton/nltk_data...\n",
      "[nltk_data]    |   Package universal_tagset is already up-to-date!\n",
      "[nltk_data]    | Downloading package maxent_ne_chunker to\n",
      "[nltk_data]    |     /home/anton/nltk_data...\n"
     ]
    },
    {
     "name": "stderr",
     "output_type": "stream",
     "text": [
      "[nltk_data]    |   Package maxent_ne_chunker is already up-to-date!\n",
      "[nltk_data]    | Downloading package punkt to /home/anton/nltk_data...\n",
      "[nltk_data]    |   Package punkt is already up-to-date!\n",
      "[nltk_data]    | Downloading package book_grammars to\n",
      "[nltk_data]    |     /home/anton/nltk_data...\n",
      "[nltk_data]    |   Package book_grammars is already up-to-date!\n",
      "[nltk_data]    | Downloading package sample_grammars to\n",
      "[nltk_data]    |     /home/anton/nltk_data...\n",
      "[nltk_data]    |   Package sample_grammars is already up-to-date!\n",
      "[nltk_data]    | Downloading package spanish_grammars to\n",
      "[nltk_data]    |     /home/anton/nltk_data...\n",
      "[nltk_data]    |   Package spanish_grammars is already up-to-date!\n",
      "[nltk_data]    | Downloading package basque_grammars to\n",
      "[nltk_data]    |     /home/anton/nltk_data...\n",
      "[nltk_data]    |   Package basque_grammars is already up-to-date!\n",
      "[nltk_data]    | Downloading package large_grammars to\n",
      "[nltk_data]    |     /home/anton/nltk_data...\n",
      "[nltk_data]    |   Package large_grammars is already up-to-date!\n",
      "[nltk_data]    | Downloading package tagsets to\n",
      "[nltk_data]    |     /home/anton/nltk_data...\n",
      "[nltk_data]    |   Package tagsets is already up-to-date!\n",
      "[nltk_data]    | Downloading package snowball_data to\n",
      "[nltk_data]    |     /home/anton/nltk_data...\n",
      "[nltk_data]    |   Package snowball_data is already up-to-date!\n",
      "[nltk_data]    | Downloading package bllip_wsj_no_aux to\n",
      "[nltk_data]    |     /home/anton/nltk_data...\n",
      "[nltk_data]    |   Package bllip_wsj_no_aux is already up-to-date!\n",
      "[nltk_data]    | Downloading package word2vec_sample to\n",
      "[nltk_data]    |     /home/anton/nltk_data...\n",
      "[nltk_data]    |   Package word2vec_sample is already up-to-date!\n",
      "[nltk_data]    | Downloading package panlex_swadesh to\n",
      "[nltk_data]    |     /home/anton/nltk_data...\n",
      "[nltk_data]    |   Package panlex_swadesh is already up-to-date!\n",
      "[nltk_data]    | Downloading package mte_teip5 to\n",
      "[nltk_data]    |     /home/anton/nltk_data...\n",
      "[nltk_data]    |   Package mte_teip5 is already up-to-date!\n",
      "[nltk_data]    | Downloading package averaged_perceptron_tagger to\n",
      "[nltk_data]    |     /home/anton/nltk_data...\n",
      "[nltk_data]    |   Package averaged_perceptron_tagger is already up-\n",
      "[nltk_data]    |       to-date!\n",
      "[nltk_data]    | Downloading package averaged_perceptron_tagger_ru to\n",
      "[nltk_data]    |     /home/anton/nltk_data...\n",
      "[nltk_data]    |   Package averaged_perceptron_tagger_ru is already\n",
      "[nltk_data]    |       up-to-date!\n",
      "[nltk_data]    | Downloading package perluniprops to\n",
      "[nltk_data]    |     /home/anton/nltk_data...\n",
      "[nltk_data]    |   Package perluniprops is already up-to-date!\n",
      "[nltk_data]    | Downloading package nonbreaking_prefixes to\n",
      "[nltk_data]    |     /home/anton/nltk_data...\n",
      "[nltk_data]    |   Package nonbreaking_prefixes is already up-to-date!\n",
      "[nltk_data]    | Downloading package vader_lexicon to\n",
      "[nltk_data]    |     /home/anton/nltk_data...\n",
      "[nltk_data]    |   Package vader_lexicon is already up-to-date!\n",
      "[nltk_data]    | Downloading package porter_test to\n",
      "[nltk_data]    |     /home/anton/nltk_data...\n",
      "[nltk_data]    |   Package porter_test is already up-to-date!\n",
      "[nltk_data]    | Downloading package wmt15_eval to\n",
      "[nltk_data]    |     /home/anton/nltk_data...\n",
      "[nltk_data]    |   Package wmt15_eval is already up-to-date!\n",
      "[nltk_data]    | Downloading package mwa_ppdb to\n",
      "[nltk_data]    |     /home/anton/nltk_data...\n",
      "[nltk_data]    |   Package mwa_ppdb is already up-to-date!\n",
      "[nltk_data]    | \n",
      "[nltk_data]  Done downloading collection all\n"
     ]
    }
   ],
   "source": [
    "from collections import defaultdict\n",
    "\n",
    "import fasttext\n",
    "import fasttext.util\n",
    "from fasttext import FastText\n",
    "import nltk\n",
    "from nltk.tokenize import sent_tokenize, word_tokenize\n",
    "from itertools import combinations\n",
    "\n",
    "import numpy as np\n",
    "import re\n",
    "from sklearn.metrics.pairwise import cosine_similarity\n",
    "from matplotlib import pyplot as plt\n",
    "import networkx as nx\n",
    "from nltk.corpus import stopwords\n",
    "import json\n",
    "import os\n",
    "\n",
    "from rouge import Rouge\n",
    "\n",
    "# import seaborn as sns\n",
    "from shutil import rmtree\n",
    "\n",
    "import tensorflow as tf\n",
    "import tensorflow_datasets as tfds\n",
    "\n",
    "import torch\n",
    "from torch.utils.tensorboard import SummaryWriter\n",
    "from torch.utils.data import Dataset, DataLoader\n",
    "import torch.nn as nn\n",
    "import torch.nn.functional as F\n",
    "\n",
    "from tqdm import tqdm\n",
    "\n",
    "from typing import List, Dict, Set, Tuple\n",
    "\n",
    "rouge = Rouge()\n",
    "\n",
    "nltk.download('all')\n",
    "stopwords = set(stopwords.words('english'))\n"
   ]
  },
  {
   "cell_type": "markdown",
   "id": "451b0393",
   "metadata": {},
   "source": [
    "# Helpers"
   ]
  },
  {
   "cell_type": "code",
   "execution_count": 2,
   "id": "ff3785c4",
   "metadata": {},
   "outputs": [],
   "source": [
    "def text_to_sentences(text: str) -> List[str]:\n",
    "    return sent_tokenize(text.replace('\\n', ' ').strip())\n",
    "\n",
    "def sentence_to_words(sentence: str) -> List[str]:\n",
    "    return word_tokenize(sentence)\n",
    "\n",
    "def tokenize_text(text: str) -> List[str]:\n",
    "    return [sentence_to_words(s) for s in text_to_sentences(text)]\n",
    "\n",
    "# def _sentence_to_vec(self, sentence: str) -> np.ndarray:\n",
    "#         vec = np.zeros((self.word2vec.get_dimension(),), dtype=np.float32)\n",
    "#         res = re.sub(r'[^\\w\\s]', '', sentence)\n",
    "#         words = word_tokenize(sentence)\n",
    "#         for word in words:\n",
    "# #             if self.remove_stopwords and word not in stopwords:\n",
    "# #                 vec += self.word2vec.get_word_vector(word)\n",
    "#             vec += self.word2vec.get_word_vector(word)\n",
    "#         return vec / len(words)"
   ]
  },
  {
   "cell_type": "markdown",
   "id": "e4b530d3",
   "metadata": {},
   "source": [
    "## Summarization metrics\n",
    "BLEU and ROUGE\n",
    "\n",
    "#### BLEU\n"
   ]
  },
  {
   "cell_type": "code",
   "execution_count": 2,
   "id": "669a3f50",
   "metadata": {
    "pycharm": {
     "is_executing": true
    }
   },
   "outputs": [
    {
     "name": "stderr",
     "output_type": "stream",
     "text": [
      "Warning : `load_model` does not return WordVectorModel or SupervisedModel any more, but a `FastText` object which is very similar.\n"
     ]
    },
    {
     "name": "stdout",
     "output_type": "stream",
     "text": [
      "300\n"
     ]
    }
   ],
   "source": [
    "\n",
    "\n",
    "# Downloading\n",
    "fasttext.util.download_model('en', if_exists='ignore')\n",
    "# fasttext.util.download_model('ru', if_exists='ignore')\n",
    "\n",
    "ft_en = fasttext.load_model('cc.en.300.bin')\n",
    "# ft_ru = fasttext.load_model('cc.ru.300.bin')\n",
    "\n",
    "print(ft_en.get_dimension())\n",
    "# print(ft_ru.get_dimension())\n",
    "# ft_en.get_word_vector('cat')"
   ]
  },
  {
   "cell_type": "code",
   "execution_count": 19,
   "id": "df90e714",
   "metadata": {},
   "outputs": [],
   "source": [
    "text = \"\"\"\n",
    "Одной из областей применения обработки естественного языка является\n",
    "суммаризация текстов, подразумевающая создание краткой версии текста, документа,\n",
    "статьи с помощью машинного обучения. Есть два вида суммаризации: абстрактная или\n",
    "генерирующая, когда на основе существующего текста модель создает новый текст\n",
    "меньшего объема, как правило в исходном тексте представленный лишь частично, и\n",
    "экстрактная или извлекающая, когда модель ранжирует предложения, фразы или\n",
    "абзацы в тексте и отбирает заданное пользователем число наиболее важных\n",
    "элементов, при этом идут они в той же последовательности, что и в оригинальном\n",
    "тексте, из-за чего как правило нарушается связность результата.\n",
    "В качестве тестового задания предлагается реализовать последний подход для\n",
    "суммаризации текстов, как требующий меньше времени и ресурсов.\n",
    "\"\"\""
   ]
  },
  {
   "cell_type": "code",
   "execution_count": 46,
   "id": "b298e778",
   "metadata": {},
   "outputs": [],
   "source": [
    "sentence = text_to_sentences(text)[0]"
   ]
  },
  {
   "cell_type": "code",
   "execution_count": 55,
   "id": "62d5b341",
   "metadata": {},
   "outputs": [],
   "source": [
    "vec = sentence_to_vec(sentence, ft_ru)"
   ]
  },
  {
   "cell_type": "code",
   "execution_count": 59,
   "id": "9c8fef99",
   "metadata": {},
   "outputs": [
    {
     "data": {
      "text/plain": [
       "array([[0.]])"
      ]
     },
     "execution_count": 59,
     "metadata": {},
     "output_type": "execute_result"
    }
   ],
   "source": [
    "cosine_similarity(np.array([1, 0]).reshape(1, -1), np.array([0, 1]).reshape(1, -1))"
   ]
  },
  {
   "cell_type": "code",
   "execution_count": 60,
   "id": "28d9fb32",
   "metadata": {},
   "outputs": [
    {
     "data": {
      "text/plain": [
       "array([[1, 0]])"
      ]
     },
     "execution_count": 60,
     "metadata": {},
     "output_type": "execute_result"
    }
   ],
   "source": [
    "np.array([1, 0]).reshape(1, -1)"
   ]
  },
  {
   "cell_type": "code",
   "execution_count": 52,
   "id": "58eaef90",
   "metadata": {},
   "outputs": [
    {
     "name": "stdout",
     "output_type": "stream",
     "text": [
      "(0, 1)\n",
      "(0, 2)\n",
      "(0, 3)\n",
      "(1, 2)\n",
      "(1, 3)\n",
      "(2, 3)\n"
     ]
    }
   ],
   "source": [
    "print(*combinations(range(4), 2), sep='\\n')"
   ]
  },
  {
   "cell_type": "code",
   "execution_count": 73,
   "id": "f0fead5f",
   "metadata": {},
   "outputs": [],
   "source": [
    "# news = \"\"\"\n",
    "# Третья волна коронавируса быстрее распространяется из-за новых вариантов COVID-19, сообщил глава Минздрава Михаил Мурашко.\n",
    "# Он назвал эту волну более агрессивной.\n",
    "# «Третья волна, она в силу того, что меняется штамм, более агрессивна и быстрее распространяется среди населения»,— сказал господин Мурашко в ходе рабочей поездки в Астрахань (цитата по ТАСС).\n",
    "# Министр отметил, что дельта-штамм более заразен, при заболевании сокращается инкубационный период и время до развития тяжелых осложнений.\n",
    "# По его словам, часто «уже на пятые сутки формируются грозные тяжелые осложнения».\n",
    "# Михаил Мурашко призвал заболевших обращаться к врачу «фактические в первые сутки», чтобы получить лекарство и начать терапию.\n",
    "# «Тогда исходы позволяют нам держаться обычных стандартных показателей»,— добавил он.\n",
    "# Роспотребнадзор считает, что для борьбы с новыми мутациями нужна ревакцинация раз в полгода.\n",
    "# Ведомство отмечало, что эффект вакцин против дельта-штамма снижается.\n",
    "# Вместе с тем Всемирная организация здравоохранения призывает ввести временный мораторий на ревакцинацию. \n",
    "# \"\"\"\n",
    "\n",
    "\n",
    "news = \"\"\"\n",
    "Тегеран не подтверждает информацию о причастности к нападению на танкер-химовоз Mercer Street в Аравийском море.\n",
    "Об этом заявил глава пресс-службы вооруженных сил Ирана Аболфазл Шекарчи.\n",
    "«Если бы нам пришлось противостоять врагам... Мы бы объявили об этом открыто, поэтому недавнее заявление врагов — это психологическая операция»,— сказал господин Шекарчи, комментируя совместное заявление стран G7 о причастности Тегерана к нападению на танкер (цитата по Reuters).\n",
    "Накануне страны G7 выпустили совместное заявление, в котором утверждается, что Иран причастен к нападению 30 июля на танкер Mercer Street в Аравийском море, который следовал под флагом Либерии.\n",
    "Инцидент произошел в 280 км от побережья Омана.\n",
    "В результате погибли два члена экипажа судна — гражданин Румынии и подданный Великобритании.\n",
    "Лондон и Вашингтон заявили, что ведут консультации с союзниками, чтобы дать согласованный ответ на нападение.\n",
    "\"\"\"\n",
    "\n",
    "sentences = text_to_sentences(news)\n",
    "vecs = [sentence_to_vec(s, ft_ru) for s in sentences]\n",
    "matrix = get_similarity_matrix(vecs)"
   ]
  },
  {
   "cell_type": "code",
   "execution_count": 74,
   "id": "d45f2e6c",
   "metadata": {},
   "outputs": [
    {
     "data": {
      "text/plain": [
       "<matplotlib.image.AxesImage at 0x7fa6b9c3c2e0>"
      ]
     },
     "execution_count": 74,
     "metadata": {},
     "output_type": "execute_result"
    },
    {
     "data": {
      "image/png": "[encoded data removed]",
      "text/plain": [
       "<Figure size 432x288 with 1 Axes>"
      ]
     },
     "metadata": {
      "needs_background": "light"
     },
     "output_type": "display_data"
    }
   ],
   "source": [
    "plt.imshow(matrix, vmin=0, vmax=1)"
   ]
  },
  {
   "cell_type": "code",
   "execution_count": 75,
   "id": "a28c4c8e",
   "metadata": {},
   "outputs": [
    {
     "data": {
      "text/plain": [
       "<matplotlib.image.AxesImage at 0x7fa6b9c0cee0>"
      ]
     },
     "execution_count": 75,
     "metadata": {},
     "output_type": "execute_result"
    },
    {
     "data": {
      "image/png": "[encoded data removed]",
      "text/plain": [
       "<Figure size 432x288 with 1 Axes>"
      ]
     },
     "metadata": {
      "needs_background": "light"
     },
     "output_type": "display_data"
    }
   ],
   "source": [
    "plt.imshow(matrix / matrix.sum(0)[:, None], vmin=0, vmax=1)"
   ]
  },
  {
   "cell_type": "code",
   "execution_count": 88,
   "id": "be798fd1",
   "metadata": {},
   "outputs": [],
   "source": [
    "def textrank(m: np.ndarray, d: float = 0.85, iterations: int = 100, init_value: float = 40) -> np.ndarray:\n",
    "#     assert 0. < init_value <= 1., f\"Initial value must be in interval (0, 1]\"\n",
    "    assert m.shape[0] == m.shape[1], f\"Similarity matrix must be square\"\n",
    "    assert iterations > 0, f\"Iterations count must be \"\n",
    "    ranks = np.full((m.shape[0],), fill_value=init_value)\n",
    "    print(ranks)\n",
    "    \n",
    "#     di = m.sum(0)\n",
    "#     dm = m / di[:, None]\n",
    "#     dm = m / ()\n",
    "#     print(dm)\n",
    "    \n",
    "    for iteration in range(iterations):\n",
    "        ranks = (1 - d) + d * np.dot(m, ranks)\n",
    "#         new_ranks = ranks.copy()\n",
    "#         for i in range(len(ranks)):\n",
    "# #             new_ranks[i] = ranks[i] * (1 - d) + d * ((ranks * m[i]).sum())\n",
    "#             new_ranks[i] = (1 - d) + d * ((ranks * dm[i]).sum())\n",
    "#         ranks = new_ranks\n",
    "        print(ranks)\n",
    "    return ranks"
   ]
  },
  {
   "cell_type": "code",
   "execution_count": 89,
   "id": "eac689a3",
   "metadata": {},
   "outputs": [
    {
     "name": "stdout",
     "output_type": "stream",
     "text": [
      "[40 40 40 40 40 40 40]\n",
      "[150.4198313  112.87925526 155.17651942 153.03441527 126.43737259\n",
      " 139.78975072 144.3353556 ]\n",
      "[529.54698895 409.32703482 541.0276969  537.27181738 454.18016088\n",
      " 492.86542395 513.8334758 ]\n",
      "[1873.82529014 1443.77821284 1919.01851402 1902.22449702 1603.21422617\n",
      " 1745.36076915 1813.635577  ]\n",
      "[6627.68536448 5108.56802474 6783.8918333  6727.31622838 5672.20169481\n",
      " 6171.7505484  6418.1822918 ]\n",
      "[23441.57197674 18067.48201892 23996.90350631 23794.61648283\n",
      " 20061.3231014  21830.21468672 22698.14398733]\n",
      "[82911.21006533 63903.95126632 84873.18838823 84159.38068392\n",
      " 70955.76657794 77210.9649855  80283.45798644]\n",
      "[293249.7784026  226022.32631772 300190.81912743 297664.87762922\n",
      " 250964.27778882 273089.1967524  283954.45523446]\n",
      "[1037199.60565773  799421.96079785 1061748.18149787 1052815.10109715\n",
      "  887639.32874775  965892.78807596 1004323.64856014]\n",
      "[3668485.77126547 2827486.49794839 3755312.97365624 3723716.71025737\n",
      " 3139503.949962   3416280.05959453 3552205.77305449]\n",
      "[12975118.86173695 10000576.7323378  13282218.45072526 13170465.73386856\n",
      " 11104155.52101316 12083088.62513907 12563846.88005281]\n",
      "[45891879.11026961 35371179.39841164 46978064.5254783  46582804.3648147\n",
      " 39274442.76964825 42736845.10215288 44437245.22923133]\n",
      "[1.62315628e+08 1.25104818e+08 1.66157372e+08 1.64759371e+08\n",
      " 1.38910325e+08 1.51156544e+08 1.57170714e+08]\n",
      "[5.74096412e+08 4.42484979e+08 5.87684330e+08 5.82739721e+08\n",
      " 4.91313868e+08 5.34627692e+08 5.55899291e+08]\n",
      "[2.03052961e+09 1.56503130e+09 2.07858891e+09 2.06110025e+09\n",
      " 1.73773488e+09 1.89093215e+09 1.96616796e+09]\n",
      "[7.18180854e+09 5.53538105e+09 7.35179014e+09 7.28993427e+09\n",
      " 6.14621876e+09 6.68806431e+09 6.95416692e+09]\n",
      "[2.54014389e+10 1.95781665e+10 2.60026492e+10 2.57838703e+10\n",
      " 2.17386469e+10 2.36551080e+10 2.45962901e+10]\n",
      "[8.98427039e+10 6.92462906e+10 9.19691330e+10 9.11953308e+10\n",
      " 7.68877239e+10 8.36660819e+10 8.69949618e+10]\n",
      "[3.17765914e+11 2.44918172e+11 3.25286910e+11 3.22550039e+11\n",
      " 2.71945264e+11 2.95919733e+11 3.07693695e+11]\n",
      "[1.12391070e+12 8.66254502e+11 1.15051181e+12 1.14083174e+12\n",
      " 9.61847001e+11 1.04664264e+12 1.08828613e+12]\n",
      "[3.97517544e+12 3.06386764e+12 4.06926130e+12 4.03502369e+12\n",
      " 3.40197009e+12 3.70188495e+12 3.84917439e+12]\n",
      "[1.40598535e+13 1.08366362e+13 1.43926271e+13 1.42715316e+13\n",
      " 1.20324755e+13 1.30932486e+13 1.36141986e+13]\n",
      "[4.97284921e+13 3.83282500e+13 5.09054838e+13 5.04771795e+13\n",
      " 4.25578306e+13 4.63096937e+13 4.81522493e+13]\n",
      "[1.75885398e+14 1.35563723e+14 1.80048316e+14 1.78533441e+14\n",
      " 1.50523385e+14 1.63793402e+14 1.70310363e+14]\n",
      "[6.22091520e+14 4.79477223e+14 6.36815403e+14 6.31457420e+14\n",
      " 5.32388263e+14 5.79323171e+14 6.02373100e+14]\n",
      "[2.20028418e+15 1.69586968e+15 2.25236129e+15 2.23341056e+15\n",
      " 1.88301148e+15 2.04901621e+15 2.13054183e+15]\n",
      "[7.78221585e+15 5.99814516e+15 7.96640810e+15 7.89938100e+15\n",
      " 6.66004959e+15 7.24719404e+15 7.53554313e+15]\n",
      "[2.75250279e+16 2.12149234e+16 2.81765000e+16 2.79394310e+16\n",
      " 2.35560224e+16 2.56327018e+16 2.66525677e+16]\n",
      "[9.73536554e+16 7.50353587e+16 9.96578563e+16 9.88193634e+16\n",
      " 8.33156244e+16 9.06606608e+16 9.42678388e+16]\n",
      "[3.44331503e+17 2.65393608e+17 3.52481263e+17 3.49515586e+17\n",
      " 2.94680195e+17 3.20658957e+17 3.33417235e+17]\n",
      "[1.21787090e+18 9.38674356e+17 1.24669590e+18 1.23620656e+18\n",
      " 1.04225850e+18 1.13414314e+18 1.17926807e+18]\n",
      "[4.30750459e+18 3.32001044e+18 4.40945614e+18 4.37235623e+18\n",
      " 3.68637863e+18 4.01136671e+18 4.17096972e+18]\n",
      "[1.52352731e+19 1.17425913e+19 1.55958670e+19 1.54646478e+19\n",
      " 1.30384040e+19 1.41878589e+19 1.47523610e+19]\n",
      "[5.38858502e+19 4.15325350e+19 5.51612397e+19 5.46971287e+19\n",
      " 4.61157133e+19 5.01812363e+19 5.21778317e+19]\n",
      "[1.90589616e+20 1.46897003e+20 1.95100559e+20 1.93459038e+20\n",
      " 1.63107310e+20 1.77486715e+20 1.84548501e+20]\n",
      "[6.74099074e+20 5.19562060e+20 6.90053890e+20 6.84247973e+20\n",
      " 5.76896523e+20 6.27755242e+20 6.52732171e+20]\n",
      "[2.38423043e+21 1.83764630e+21 2.44066124e+21 2.42012621e+21\n",
      " 2.04043337e+21 2.22031628e+21 2.30865753e+21]\n",
      "[8.43281788e+21 6.49959687e+21 8.63240881e+21 8.55977818e+21\n",
      " 7.21683726e+21 7.85306765e+21 8.16552304e+21]\n",
      "[2.98261513e+22 2.29885149e+22 3.05320872e+22 3.02751989e+22\n",
      " 2.55253325e+22 2.77756246e+22 2.88807525e+22]\n",
      "[1.05492531e+23 8.13083994e+22 1.07989366e+23 1.07080774e+23\n",
      " 9.02809047e+22 9.82399945e+22 1.02148737e+23]\n",
      "[3.73118006e+23 2.87580813e+23 3.81949095e+23 3.78735484e+23\n",
      " 3.19315792e+23 3.47466408e+23 3.61291293e+23]\n",
      "[1.31968628e+24 1.01714859e+24 1.35092109e+24 1.33955482e+24\n",
      " 1.12939248e+24 1.22895879e+24 1.27785622e+24]\n",
      "[4.66761684e+24 3.59756706e+24 4.77809165e+24 4.73789015e+24\n",
      " 3.99456405e+24 4.34672150e+24 4.51966750e+24]\n",
      "[1.65089592e+25 1.27242852e+25 1.68996991e+25 1.67575098e+25\n",
      " 1.41284293e+25 1.53739800e+25 1.59856751e+25]\n",
      "[5.83907682e+25 4.50047018e+25 5.97727816e+25 5.92698704e+25\n",
      " 4.99710390e+25 5.43764444e+25 5.65399573e+25]\n",
      "[2.06523123e+26 1.59177758e+26 2.11411186e+26 2.09632432e+26\n",
      " 1.76743266e+26 1.92324805e+26 1.99976964e+26]\n",
      "[7.30454518e+26 5.62998035e+26 7.47743175e+26 7.41451876e+26\n",
      " 6.25125723e+26 6.80236289e+26 7.07301318e+26]\n",
      "[2.58355478e+27 1.99127561e+27 2.64470328e+27 2.62245149e+27\n",
      " 2.21101590e+27 2.40593723e+27 2.50166391e+27]\n",
      "[9.13781098e+27 7.04297051e+27 9.35408794e+27 9.27538530e+27\n",
      " 7.82017300e+27 8.50959297e+27 8.84816999e+27]\n",
      "[3.23196512e+28 2.49103807e+28 3.30846042e+28 3.28062398e+28\n",
      " 2.76592791e+28 3.00976982e+28 3.12952160e+28]\n",
      "[1.14311826e+29 8.81058734e+28 1.17017399e+29 1.16032847e+29\n",
      " 9.78284903e+28 1.06452969e+29 1.10688486e+29]\n",
      "[4.04311092e+29 3.11622894e+29 4.13880471e+29 4.10398198e+29\n",
      " 3.46010953e+29 3.76514992e+29 3.91495653e+29]\n",
      "[1.43001355e+30 1.10218336e+30 1.46385962e+30 1.45154312e+30\n",
      " 1.22381097e+30 1.33170113e+30 1.38468644e+30]\n",
      "[5.05783488e+30 3.89832773e+30 5.17754551e+30 5.13398312e+30\n",
      " 4.32851411e+30 4.71011233e+30 4.89751680e+30]\n",
      "[1.78891268e+31 1.37880498e+31 1.83125330e+31 1.81584566e+31\n",
      " 1.53095820e+31 1.66592621e+31 1.73220956e+31]\n",
      "[6.32723023e+31 4.87671457e+31 6.47698537e+31 6.42248985e+31\n",
      " 5.41486743e+31 5.89223765e+31 6.12667616e+31]\n",
      "[2.23788689e+32 1.72485199e+32 2.29085400e+32 2.27157940e+32\n",
      " 1.91519202e+32 2.08403376e+32 2.16695265e+32]\n",
      "[7.91521340e+32 6.10065307e+32 8.10255349e+32 8.03438090e+32\n",
      " 6.77386940e+32 7.37104811e+32 7.66432506e+32]\n",
      "[2.79954288e+33 2.15774850e+33 2.86580346e+33 2.84169140e+33\n",
      " 2.39585933e+33 2.60707630e+33 2.71080583e+33]\n",
      "[9.90174230e+33 7.63177080e+33 1.01361003e+34 1.00508180e+34\n",
      " 8.47394830e+33 9.22100455e+33 9.58788700e+33]\n",
      "[3.50216106e+34 2.69929167e+34 3.58505145e+34 3.55488785e+34\n",
      " 2.99716260e+34 3.26138997e+34 3.39115314e+34]\n",
      "[1.23868423e+35 9.54716239e+34 1.26800185e+35 1.25733325e+35\n",
      " 1.06007063e+35 1.15352557e+35 1.19942169e+35]\n",
      "[4.38111956e+35 3.37674920e+35 4.48481346e+35 4.44707951e+35\n",
      " 3.74937860e+35 4.07992071e+35 4.24225131e+35]\n",
      "[1.54956429e+36 1.19432714e+36 1.58623993e+36 1.57289376e+36\n",
      " 1.32612295e+36 1.44303285e+36 1.50044779e+36]\n",
      "[5.48067559e+36 4.22423233e+36 5.61039416e+36 5.56318990e+36\n",
      " 4.69038278e+36 5.10388304e+36 5.30695474e+36]\n",
      "[1.93846780e+37 1.49407463e+37 1.98434815e+37 1.96765240e+37\n",
      " 1.65894803e+37 1.80519952e+37 1.87702423e+37]\n",
      "[6.85619383e+37 5.28441342e+37 7.01846866e+37 6.95941726e+37\n",
      " 5.86755646e+37 6.38483538e+37 6.63887321e+37]\n",
      "[2.42497677e+38 1.86905156e+38 2.48237198e+38 2.46148601e+38\n",
      " 2.07530424e+38 2.25826134e+38 2.34811233e+38]\n",
      "[8.57693418e+38 6.61067455e+38 8.77993611e+38 8.70606422e+38\n",
      " 7.34017253e+38 7.98727606e+38 8.30507130e+38]\n",
      "[3.03358783e+39 2.33813871e+39 3.10538786e+39 3.07926001e+39\n",
      " 2.59615587e+39 2.82503082e+39 2.93743226e+39]\n",
      "[1.07295391e+40 8.26979546e+39 1.09834897e+40 1.08910777e+40\n",
      " 9.18237994e+39 9.99189095e+39 1.03894452e+40]\n",
      "[3.79494568e+40 2.92495550e+40 3.88476580e+40 3.85208048e+40\n",
      " 3.24772878e+40 3.53404586e+40 3.67465737e+40]\n",
      "[1.34223963e+41 1.03453159e+41 1.37400824e+41 1.36244772e+41\n",
      " 1.14869373e+41 1.24996161e+41 1.29969470e+41]\n",
      "[4.74738610e+41 3.65904924e+41 4.85974893e+41 4.81886038e+41\n",
      " 4.06283088e+41 4.42100668e+41 4.59690831e+41]\n",
      "[1.67910962e+42 1.29417423e+42 1.71885138e+42 1.70438946e+42\n",
      " 1.43698833e+42 1.56367203e+42 1.62588692e+42]\n",
      "[5.93886625e+42 4.57738292e+42 6.07942945e+42 6.02827886e+42\n",
      " 5.08250408e+42 5.53057342e+42 5.75062215e+42]\n",
      "[2.10052590e+43 1.61898096e+43 2.15024189e+43 2.13215037e+43\n",
      " 1.79763796e+43 1.95611624e+43 2.03394558e+43]\n",
      "[7.42937937e+43 5.72619635e+43 7.60522056e+43 7.54123240e+43\n",
      " 6.35809081e+43 6.91861482e+43 7.19389050e+43]\n",
      "[2.62770756e+44 2.02530638e+44 2.68990108e+44 2.66726902e+44\n",
      " 2.24880201e+44 2.44705454e+44 2.54441718e+44]\n",
      "[9.29397557e+44 7.16333441e+44 9.51394868e+44 9.43390102e+44\n",
      " 7.95381924e+44 8.65502135e+44 8.99938464e+44]\n",
      "[3.28719919e+45 2.53360975e+45 3.36500179e+45 3.33668962e+45\n",
      " 2.81319743e+45 3.06120659e+45 3.18300492e+45]\n",
      "[1.16265407e+46 8.96115970e+45 1.19017218e+46 1.18015841e+46\n",
      " 9.95003728e+45 1.08272243e+46 1.12580145e+46]\n",
      "[4.11220742e+46 3.16948508e+46 4.20953661e+46 4.17411876e+46\n",
      " 3.51924258e+46 3.82949608e+46 3.98186288e+46]\n",
      "[1.45445238e+47 1.12101960e+47 1.48887688e+47 1.47634989e+47\n",
      " 1.24472582e+47 1.35445982e+47 1.40835064e+47]\n",
      "[5.14427294e+47 3.96494989e+47 5.26602942e+47 5.22172255e+47\n",
      " 4.40248813e+47 4.79060784e+47 4.98121504e+47]\n",
      "[1.81948508e+48 1.40236866e+48 1.86254930e+48 1.84687834e+48\n",
      " 1.55712217e+48 1.69439677e+48 1.76181290e+48]\n",
      "[6.43536218e+48 4.96005730e+48 6.58767662e+48 6.53224978e+48\n",
      " 5.50740716e+48 5.99293561e+48 6.23138065e+48]\n",
      "[2.27613223e+49 1.75432959e+49 2.33000454e+49 2.31040055e+49\n",
      " 1.94792253e+49 2.11964976e+49 2.20398572e+49]\n",
      "[8.05048388e+49 6.20491283e+49 8.24102559e+49 8.17168794e+49\n",
      " 6.88963438e+49 7.49701884e+49 7.79530787e+49]\n",
      "[2.84738688e+50 2.19462428e+50 2.91477985e+50 2.89025572e+50\n",
      " 2.43680440e+50 2.65163106e+50 2.75713333e+50]\n",
      "[1.00709624e+51 7.76219726e+50 1.03093255e+51 1.02225858e+51\n",
      " 8.61876751e+50 9.37859091e+50 9.75174335e+50]\n",
      "[3.56201276e+51 2.74542239e+51 3.64631974e+51 3.61564064e+51\n",
      " 3.04838392e+51 3.31712691e+51 3.44910772e+51]\n",
      "[1.25985327e+52 9.71032277e+51 1.28967192e+52 1.27882099e+52\n",
      " 1.07818716e+52 1.17323925e+52 1.21991973e+52]\n",
      "[4.45599261e+52 3.43445762e+52 4.56145862e+52 4.52307981e+52\n",
      " 3.81345523e+52 4.14964628e+52 4.31475111e+52]\n",
      "[1.57604625e+53 1.21473811e+53 1.61334867e+53 1.59977441e+53\n",
      " 1.34878630e+53 1.46769419e+53 1.52609034e+53]\n",
      "[5.57433997e+53 4.29642418e+53 5.70627543e+53 5.65826445e+53\n",
      " 4.77054111e+53 5.19110806e+53 5.39765024e+53]\n",
      "[1.97159609e+54 1.51960827e+54 2.01826052e+54 2.00127945e+54\n",
      " 1.68729935e+54 1.83605026e+54 1.90910245e+54]\n",
      "[6.97336573e+54 5.37472369e+54 7.13841383e+54 7.07835324e+54\n",
      " 5.96783262e+54 6.49395179e+54 6.75233111e+54]\n",
      "[2.46641946e+55 1.90099353e+55 2.52479555e+55 2.50355264e+55\n",
      " 2.11077105e+55 2.29685488e+55 2.38824142e+55]\n",
      "[8.72351342e+55 6.72365055e+55 8.92998464e+55 8.85485029e+55\n",
      " 7.46561560e+55 8.12377808e+55 8.44700442e+55]\n",
      "[3.08543164e+56 2.37809735e+56 3.15845873e+56 3.13188436e+56\n",
      " 2.64052400e+56 2.87331041e+56 2.98763279e+56]\n",
      "[3.08543164e+56 2.37809735e+56 3.15845873e+56 3.13188436e+56\n",
      " 2.64052400e+56 2.87331041e+56 2.98763279e+56]\n"
     ]
    }
   ],
   "source": [
    "ranks = textrank(matrix)\n",
    "print(ranks)\n",
    "# nx_graph = nx.from_numpy_array(matrix)\n",
    "# scores = nx.pagerank(nx_graph)"
   ]
  },
  {
   "cell_type": "code",
   "execution_count": 58,
   "id": "b6ae0384",
   "metadata": {},
   "outputs": [
    {
     "data": {
      "text/plain": [
       "dict_items([(0, 0.1517488912087936), (1, 0.11871791422061005), (2, 0.15602764876042094), (3, 0.1540501923781136), (4, 0.1306368876737971), (5, 0.1425194999362859), (6, 0.14629896582197882)])"
      ]
     },
     "execution_count": 58,
     "metadata": {},
     "output_type": "execute_result"
    }
   ],
   "source": [
    "scores.items()"
   ]
  },
  {
   "cell_type": "code",
   "execution_count": 61,
   "id": "11140b9b",
   "metadata": {},
   "outputs": [],
   "source": [
    "a = np.arange(25).reshape(5, 5)"
   ]
  },
  {
   "cell_type": "code",
   "execution_count": 93,
   "id": "8f6e1cea",
   "metadata": {},
   "outputs": [
    {
     "data": {
      "text/plain": [
       "[(2, 0.15602764876042094),\n",
       " (3, 0.1540501923781136),\n",
       " (0, 0.1517488912087936),\n",
       " (6, 0.14629896582197882),\n",
       " (5, 0.1425194999362859),\n",
       " (4, 0.1306368876737971),\n",
       " (1, 0.11871791422061005)]"
      ]
     },
     "execution_count": 93,
     "metadata": {},
     "output_type": "execute_result"
    }
   ],
   "source": [
    "sorted(list(scores.items()), key=lambda x: x[1], reverse=True)"
   ]
  },
  {
   "cell_type": "code",
   "execution_count": 63,
   "id": "8ac18543",
   "metadata": {},
   "outputs": [
    {
     "data": {
      "text/plain": [
       "array([ 4,  9, 14, 19, 24])"
      ]
     },
     "execution_count": 63,
     "metadata": {},
     "output_type": "execute_result"
    }
   ],
   "source": [
    "b = np.array([4, 9, 14, 19, 24])\n",
    "b"
   ]
  },
  {
   "cell_type": "code",
   "execution_count": 64,
   "id": "a44551d8",
   "metadata": {},
   "outputs": [
    {
     "data": {
      "text/plain": [
       "array([[0.        , 0.25      , 0.5       , 0.75      , 1.        ],\n",
       "       [0.55555556, 0.66666667, 0.77777778, 0.88888889, 1.        ],\n",
       "       [0.71428571, 0.78571429, 0.85714286, 0.92857143, 1.        ],\n",
       "       [0.78947368, 0.84210526, 0.89473684, 0.94736842, 1.        ],\n",
       "       [0.83333333, 0.875     , 0.91666667, 0.95833333, 1.        ]])"
      ]
     },
     "execution_count": 64,
     "metadata": {},
     "output_type": "execute_result"
    }
   ],
   "source": [
    "a / b[:, None]"
   ]
  },
  {
   "cell_type": "code",
   "execution_count": 3,
   "id": "a26d9cd6",
   "metadata": {},
   "outputs": [],
   "source": [
    "class SingleLangSummarizer:\n",
    "    \n",
    "    def __init__(self, word2vec, remove_stopwords=False, lemmatize=False):\n",
    "        self.word2vec = word2vec\n",
    "        self.remove_stopwords = remove_stopwords\n",
    "        self.lemmatize = lemmatize\n",
    "        \n",
    "    def _text_to_sentences(self, text: str) -> List[str]:\n",
    "        return sent_tokenize(text.replace('\\n', ' ').strip())\n",
    "    \n",
    "    def _sentence_to_vec(self, sentence: str) -> np.ndarray:\n",
    "        vec = np.zeros((self.word2vec.get_dimension(),), dtype=np.float32)\n",
    "        res = re.sub(r'[^\\w\\s]', '', sentence)\n",
    "        words = word_tokenize(sentence)\n",
    "        for word in words:\n",
    "#             if self.remove_stopwords and word not in stopwords:\n",
    "#                 vec += self.word2vec.get_word_vector(word)\n",
    "            vec += self.word2vec.get_word_vector(word)\n",
    "        return vec / len(words)\n",
    "    \n",
    "    def _get_similarity_matrix(self, sentences) -> np.ndarray:\n",
    "        matrix = np.zeros((len(sentences), len(sentences)), dtype=np.float32)\n",
    "        for i, j in combinations(range(len(sentences)), 2):\n",
    "            similarity = cosine_similarity(sentences[i].reshape(1, -1), sentences[j].reshape(1, -1))\n",
    "            matrix[i][j] = matrix[j][i] = similarity  \n",
    "        return matrix\n",
    "        \n",
    "    def summarize(self, text: str, k: int) -> str:\n",
    "        sentences = self._text_to_sentences(text)\n",
    "#         print('debug: sentences:')\n",
    "#         print(*sentences, sep='\\n')\n",
    "        vecs = [self._sentence_to_vec(s) for s in sentences]\n",
    "        matrix = self._get_similarity_matrix(vecs)\n",
    "        nx_graph = nx.from_numpy_array(matrix)\n",
    "        scores = nx.pagerank(nx_graph)\n",
    "        sorted_scores = sorted(list(scores.items()), key=lambda x: x[1], reverse=True)[:k]\n",
    "        result_idxs = [e[0] for e in sorted(sorted_scores, key=lambda x: x[0])]\n",
    "        result = ' '.join(sentences[i] for i in result_idxs)\n",
    "        return result"
   ]
  },
  {
   "cell_type": "code",
   "execution_count": 120,
   "id": "f3cbba6b",
   "metadata": {},
   "outputs": [
    {
     "name": "stdout",
     "output_type": "stream",
     "text": [
      "Тегеран не подтверждает информацию о причастности к нападению на танкер-химовоз Mercer Street в Аравийском море. «Если бы нам пришлось противостоять врагам... Мы бы объявили об этом открыто, поэтому недавнее заявление врагов — это психологическая операция»,— сказал господин Шекарчи, комментируя совместное заявление стран G7 о причастности Тегерана к нападению на танкер (цитата по Reuters). Накануне страны G7 выпустили совместное заявление, в котором утверждается, что Иран причастен к нападению 30 июля на танкер Mercer Street в Аравийском море, который следовал под флагом Либерии.\n"
     ]
    }
   ],
   "source": [
    "summarizer = SingleLangSummarizer(ft_ru)\n",
    "print(summarizer.summarize(news, 3))"
   ]
  },
  {
   "cell_type": "code",
   "execution_count": 3,
   "id": "3f2e35e1",
   "metadata": {},
   "outputs": [],
   "source": [
    "scitldr_testset = '/home/anton/Work/interviews/aspose/datasets/scitldr-master/SciTLDR-Data/SciTLDR-FullText/test.jsonl'\n",
    "with open(scitldr_testset, 'r') as fp:\n",
    "    lines = fp.readlines()"
   ]
  },
  {
   "cell_type": "code",
   "execution_count": 126,
   "id": "d8d351a5",
   "metadata": {},
   "outputs": [
    {
     "data": {
      "text/plain": [
       "'{\"source\": [\"Incremental class learning involves sequentially learning classes in bursts of examples from the same class.\", \"This violates the assumptions that underlie  methods for training standard deep neural networks, and will cause them to suffer from catastrophic forgetting.\", \"Arguably, the best method for incremental class learning is iCaRL, but it requires storing  training examples for each class, making it challenging to scale.\", \"Here, we propose FearNet for incremental class learning.\", \"FearNet is a generative model that does not store previous examples, making it memory efficient.\", \"FearNet uses a brain-inspired dual-memory system in which new memories are consolidated from a network for recent memories inspired by the mammalian hippocampal complex to a network for long-term storage inspired by medial prefrontal cortex.\", \"Memory consolidation is inspired by mechanisms that occur during sleep.\", \"FearNet also uses a module inspired by the basolateral amygdala for determining which memory system to use for recall.  \", \"FearNet achieves state-of-the-art performance at incremental class learning on image (CIFAR-100, CUB-200) and audio classification (AudioSet) benchmarks.\\\\n\", \"In incremental classification, an agent must sequentially learn to classify training examples, without necessarily having the ability to re-study previously seen examples.\", \"While deep neural networks (DNNs) have revolutionized machine perception BID26 , off-the-shelf DNNs cannot incrementally learn classes due to catastrophic forgetting.\", \"Catastrophic forgetting is a phenomenon in which a DNN completely fails to learn new data without forgetting much of its previously learned knowledge BID29 .\", \"While methods have been developed to try and mitigate catastrophic forgetting, as shown in BID23 , these methods are not sufficient and perform poorly on larger datasets.\", \"In this paper, we propose FearNet, a brain-inspired system for incrementally learning categories that significantly outperforms previous methods.\", \"The standard way for dealing with catastrophic forgetting in DNNs is to avoid it altogether by mixing new training examples with old ones and completely re-training the model offline.\", \"For large datasets, this may require weeks of time, and it is not a scalable solution.\", \"An ideal incremental learning system would be able to assimilate new information without the need to store the entire training dataset.\", \"A major application for incremental learning includes real-time operation on-board embedded platforms that have limited computing power, storage, and memory, e.g., smart toys, smartphone applications, and robots.\", \"For example, a toy robot may need to learn to recognize objects within its local environment and of interest to its owner.\", \"Using cloud computing to overcome these resource limitations may pose privacy risks and may not be scalable to a large number of embedded devices.\", \"A better solution is on-device incremental learning, which requires the model to use less storage and computational power.\", \"In this paper, we propose an incremental learning framework called FearNet (see Fig. 1 ).\", \"FearNet has three brain-inspired sub-systems: 1) a recent memory system for quick recall, 2) a memory system for long-term storage, and 3) a sub-system that determines which memory system to use for a particular example.\", \"FearNet mitigates catastrophic forgetting by consolidating recent memories into long-term storage using pseudorehearsal BID34 .\", \"Pseudorehearsal allows the network to revisit previous memories during incremental training without the need to store previous training examples, which is more memory efficient.\", \"Figure 1: FearNet consists of three braininspired modules based on 1) mPFC (longterm storage), 2) HC (recent storage), and 3) BLA for determining whether to use mPFC or HC for recall.\", \"Problem Formulation:\", \"Here, incremental class learning consists of T study-sessions.\", \"At time t, the learner receives a batch of data B t , which contains N t labeled training samples, i.e., B t = {(x j , y j )} Nt j=1 , where x j \\\\u2208 R d is the input feature vector to be classified and y j is its corresponding label.\", \"The number of training samples N t may vary between sessions, and the data inside a study-session is not assumed to be independent and identically distributed (iid).\", \"During a study session, the learner only has access to its current batch, but it may use its own memory to store information from prior study sessions.\", \"We refer to the first session as the model\\'s \\\\\"base-knowledge,\\\\\" which contains exemplars from M \\\\u2265 1 classes.\", \"The batches learned in all subsequent sessions contain only one class, i.e., all y j will be identical within those sessions.\", \"Novel Contributions: Our contributions include:1.\", \"FearNet\\'s architecture includes three neural networks: one inspired by the hippocampal complex (HC) for recent memories, one inspired by the medial prefrontal cortex (mPFC) for long-term storage, and one inspired by the basolateral amygdala (BLA) that determines whether to use HC or mPFC for recall.2.\", \"Motivated by memory replay during sleep, FearNet employs a generative autoencoder for pseudorehearsal, which mitigates catastrophic forgetting by generating previously learned examples that are replayed alongside novel information during consolidation.\", \"This process does not involve storing previous training data.3.\", \"FearNet achieves state-of-the-art results on large image and audio datasets with a relatively small memory footprint, demonstrating how dual-memory models can be scaled.\", \"Catastrophic forgetting in DNNs occurs due to the plasticity-stability dilemma BID0 .\", \"If the network is too plastic, older memories will quickly be overwritten; however, if the network is too stable, it is unable to learn new data.\", \"This problem was recognized almost 30 years ago BID29 BID14 , methods developed in the 1980s and 1990s are extensively discussed, and French argued that mitigating catastrophic forgetting would require having two separate memory centers: one for the long-term storage of older memories and another to quickly process new information as it comes in.\", \"He also theorized that this type of dual-memory system would be capable of consolidating memories from the fast learning memory center to longterm storage.\", \"Catastrophic forgetting often occurs when a system is trained on non-iid data.\", \"One strategy for reducing this phenomenon is to mix old examples with new examples, which simulates iid conditions.\", \"For example, if the system learns ten classes in a study session and then needs to learn 10 new classes in a later study session, one solution could be to mix examples from the first study session into the later study session.\", \"This method is known as rehearsal, and it is one of the earliest methods for reducing catastrophic forgetting BID22 .\", \"Rehearsal essentially uses an external memory to strengthen the model\\'s representations for examples learned previously, so that they are not overwritten when learning data from new classes.\", \"Rehearsal reduces forgetting, but performance is still worse than offline models.\", \"Moreover, rehearsal requires storing all of the training data.\", \"BID34 argued that storing of training examples was inefficient and of \\\\\"little interest,\\\\\" so he introduced pseudorehearsal.\", \"Rather than replaying past training data, in pseudorehearsal, the algorithm generates new examples for a given class.\", \"In BID34 , this was done by creating random input vectors, having the network assign them a label, and then mixing them into the new training data.\", \"This idea was revived in BID8 , where a generative autoencoder was used to create pseudo-examples for unsupervised incremental learning.\", \"This method inspired FearNet\\'s approach to memory consolidation.\", \"Pseudorehearsal is related to memory replay that occurs in mammalian brains, which involves reactivation of recently encoded memories in HC so that they can be integrated into long-term storage in mPFC BID31 .Recently there has been renewed interest in solving catastrophic forgetting in supervised learning.\", \"Many new methods are designed to mitigate catastrophic forgetting when each study session contains a permuted version of the entire training dataset (see BID20 ).\", \"Unlike incremental class learning, all labels are contained in each study session.\", \"PathNet uses an evolutionary algorithm to find the optimal path through a large DNN, and then freezes the weights along that path BID11 .\", \"It assumes all classes are seen in each study session, and it is not capable of incremental class learning.\", \"Elastic Weight Consolidation (EWC) employs a regularization scheme that redirects plasticity to the weights that are least important to previously learned study sessions BID24 .\", \"After EWC learns a study session, it uses the training data to build a Fisher matrix that determines the importance of each feature to the classification task it just learned.\", \"EWC was shown to work poorly at incremental class learning in BID23 .The Fixed Expansion Layer (FEL) model mitigates catastrophic forgetting by using sparse updates BID6 .\", \"FEL uses two hidden layers, where the second hidden layer (i.e., the FEL layer) has connectivity constraints.\", \"The FEL layer is much larger than the first hidden layer, is sparsely populated with excitatory and inhibitory weights, and is not updated during training.\", \"This limits learning of dense shared representations, which reduces the risk of learning interfering with old memories.\", \"FEL requires a large number of units to work well BID23 .\", \"Figure 2: iCaRL\\'s performance depends heavily on the number of exemplars per class (EPC) that it stores.\", \"Reducing EPC from 20 (blue) to 1 (red) severely impairs its ability to recall older information.\", \"Gepperth & Karaoguz (2016) introduced a new approach for incremental learning, which we call GeppNet.\", \"GeppNet uses a self-organizing map (SOM) to reorganize the input onto a two-dimensional lattice.\", \"This serves as a long-term memory, which is fed into a simple linear layer for classification.\", \"After the SOM is initialized, it can only be updated if the input is sufficiently novel.\", \"This prevents the model from forgetting older data too quickly.\", \"GeppNet also uses rehearsal using all previous training data.\", \"A variant of GeppNet, GeppNet+STM, uses a fixed-size memory buffer to store novel examples.\", \"When this buffer is full, it replaces the oldest example.\", \"During pre-defined intervals, the buffer is used to train the model.\", \"GeppNet+STM is better at retaining base-knowledge since it only trains during its consolidation phase, but the STM-free version learns new data better because it updates the model on every novel labeled input.iCaRL BID33 is an incremental class learning framework.\", \"Rather than directly using a DNN for classification, iCaRL uses it for supervised representation learning.\", \"During a study session, iCaRL updates a DNN using the study session\\'s data and a set of J stored examples from earlier sessions (J = 2, 000 for CIFAR-100 in their paper), which is a kind of rehearsal.\", \"After a study session, the J examples retained are carefully chosen using herding.\", \"After learning the entire dataset, iCaRL has retained J/T exemplars per class (e.g., J/T = 20 for CIFAR-100).\", \"The DNN in iCaRL is then used to compute an embedding for each stored example, and then the mean embedding for each class seen is computed.\", \"To classify a new instance, the DNN is used to compute an embedding for it, and then the class with the nearest mean embedding is assigned.\", \"iCaRL\\'s performance is heavily influenced by the number of examples it stores, as shown in Fig. 2 .\", \"FearNet is heavily inspired by the dual-memory model of mammalian memory BID28 , which has considerable experimental support from neuroscience BID12 BID38 BID25 BID4 BID39 BID15 .\", \"This theory proposes that HC and mPFC operate as complementary memory systems, where HC is responsible for recalling recent memories and mPFC is responsible for recalling remote (mature) memories.\", \"GeppNet is the most recent DNN to be based on this theory, but it was also independently explored in the 1990s in French (1997) and BID3 .\", \"In this section, we review some of the evidence for the dual-memory model.\", \"One of the major reasons why HC is thought to be responsible for recent memories is that if HC is bilaterally destroyed, then anterograde amnesia occurs with old memories for semantic information preserved.\", \"One mechanism HC may use to facilitate creating new memories is adult neurogenesis.\", \"This occurs in HC\\'s dentate gyrus BID2 BID9 .\", \"The new neurons have higher initial plasticity, but it reduces as time progresses BID7 .In contrast, mPFC is responsible for the recall of remote (long-term) memories BID4 .\", \"BID39 and BID15 showed that mPFC plays a strong role in memory consolidation during REM sleep.\", \"BID28 and BID10 theorized that, during sleep, HC reactivates recent memories to prevent forgetting which causes these recent memories to replay in mPFC as well, with dreams possibly being caused by this process.\", \"After memories are transferred from HC to mPFC, evidence suggests that corresponding memory in HC is erased (Poe, 2017).Recently, BID25 performed contextual fear conditioning (CFC) experiments in mice to trace the formation and consolidation of recent memories to long-term storage.\", \"CFC experiments involve shocking mice while subjecting them to various visual stimuli (i.e., colored lights).\", \"They found that BLA, which is responsible for regulating the brain\\'s fear response, would shift where it retrieved the corresponding memory from (HC or mPFC) as that memory was consolidated over time.\", \"FearNet follows the memory consolidation theory proposed by BID25 .\", \"FearNet has two complementary memory centers, 1) a short-term memory system that immediately learns new information for recent recall (HC) and 2) a DNN for the storage of remote memories (mPFC).\", \"FearNet also has a separate BLA network that determines which memory center contains the associated memory required for prediction.\", \"During sleep phases, FearNet uses a generative model to consolidate data from HC to mPFC through pseudorehearsal.\", \"Pseudocode for FearNet is provided in the supplemental material.\", \"Because the focus of our work is not representation learning, we use pre-trained ResNet embeddings to obtain features that are fed to FearNet.\", \"FearNet\\'s HC model is a variant of a probabilistic neural network BID37 .\", \"HC computes class conditional probabilities using stored training examples.\", \"Formally, HC estimates the probability that an input feature vector x belongs to class k as DISPLAYFORM0 (1) DISPLAYFORM1 where > 0 is a regularization parameter and u k,j is the j\\'th stored exemplar in HC for class k. All exemplars are removed from HC after they are consolidated into mPFC.FearNet\\'s mPFC is implemented using a DNN trained both to reconstruct its input using a symmetric encoder-decoder (autoencoder) and to compute P mP F C (C = k|x).\", \"The autoencoder enables us to The mPFC and BLA sub-systems in FearNet.\", \"mPFC is responsible for the long-term storage of remote memories.\", \"BLA is used during prediction time to determine if the memory should be recalled from short-or long-term memory.use pseudorehearsal, which is described in more detail in Sec. 4.2.\", \"The loss function for mPFC is DISPLAYFORM2 where L class is the supervised classification loss and L recon is the unsupervised reconstruction loss, as illustrated in FIG1 .\", \"For L class , we use standard softmax loss.\", \"L recon is the weighted sum of mean squared error (MSE) reconstruction losses from each layer, which is given by DISPLAYFORM3 where M is the number of mPFC layers, H j is the number of hidden units in layer j, h encoder,(i,j) and h decoder, (i,j) are the outputs of the encoder/decoder at layer j respectively, and \\\\u03bb j is the reconstruction weight for that layer.\", \"mPFC is similar to a Ladder Network BID32 , which combines classification and reconstruction to improve regularization, especially during lowshot learning.\", \"The \\\\u03bb j hyperparameters were found empirically, with \\\\u03bb 0 being largest and decreasing for deeper layers (see supplementary material).\", \"This prioritizes the reconstruction task, which makes the generated pseudo-examples more realistic.\", \"When training is completed during a study session, all of the data in HC is pushed through the encoder to extract a dense feature representation of the original data, and then we compute a mean feature vector \\\\u00b5 c and covariance matrix \\\\u03a3 c for each class c. These are stored and used to generate pseudo-examples during consolidation (see Sec. 4.2).\", \"We study FearNet\\'s performance as a function of how much data is stored in HC in Sec. 6.2.\", \"During FearNet\\'s sleep phase, the original inputs stored in HC are transferred to mPFC using pseudo-examples created by an autoencoder.\", \"This process is known as intrinsic replay, and it was used by Draelos et al. FORMULA1 for unsupervised learning.\", \"Using the class statistics from the encoder, pseudo-examples for class c are generated by sampling a Gaussian with mean \\\\u00b5 c and covariance matrix \\\\u03a3 c to obtainx rand .\", \"Then,x rand is passed through the decoder to generate a pseudo-example.\", \"To create a balanced training set, for each class that mPFC has learned, we generate m pseudo-examples, where m is the average number of examples per class stored in HC.\", \"The pseudo-examples are mixed with the data in HC, and the mixture is used to fine-tune mPFC using backpropagation.\", \"After consolidation, all units in HC are deleted.\", \"During prediction, FearNet uses the BLA network ( FIG1 ) to determine whether to classify an input x using HC or mPFC.\", \"This can be challenging because if HC has only been trained on one class, it will put all of its probability mass on that class, whereas mPFC will likely be less confident.\", \"The output of BLA is given by A (x) and will be a value between 0 and 1, with a 1 indicating mPFC should be used.\", \"BLA is trained after each study session using only the data in HC and with pseudoexamples generated with mPFC, using the same procedure described in Sec. 4.2.\", \"Instead of using solely BLA to determine which network to use, we found that combining its output with those of mPFC and HC improved results.\", \"The predicted class\\\\u0177 is computed a\\\\u015d DISPLAYFORM0 where DISPLAYFORM1 \\\\u03c8 is the probability of the class according to HC weighted by the confidence that the associated memory is actually stored in HC.\", \"BLA has the same number of layers/units as the mPFC encoder, and uses a logistic output unit.\", \"We discuss alternative BLA models in supplemental material.\", \"Evaluating Incremental Learning Performance.\", \"To evaluate how well the incrementally trained models perform compared to an offline model, we use the three metrics proposed in BID23 .\", \"After each study session t in which a model learned a new class k, we compute the model\\'s test accuracy on the new class (\\\\u03b1 new,t ), the accuracy on the base-knowledge (\\\\u03b1 base,t ), and the accuracy of all of the test data seen to this point (\\\\u03b1 all,t ).\", \"After all T study sessions are complete, a model\\'s ability to retain the base-knowledge is given by DISPLAYFORM0 , where \\\\u03b1 of f line is the accuracy of a multi-layer perceptron (MLP) trained offline (i.e., it is given all of the training data at once).\", \"The model\\'s ability to immediately recall new information is measured by and \\\\u2126 all are relative to an offline MLP model, so a value of 1 indicates that a model has similar performance to the offline baseline.\", \"This allows results across datasets to be better compared.\", \"Note that \\\\u2126 base > 1 and \\\\u2126 all > 1 only if the incremental learning algorithm is more accurate than the offline model, which can occur due to better regularization strategies employed by different models.\", \"Datasets.\", \"We evaluate all of the models on three benchmark datasets TAB1 : CIFAR-100, CUB-200, and AudioSet.\", \"CIFAR-100 is a popular image classification dataset containing 100 mutually-exclusive object categories, and it was used in BID33 to evaluate iCaRL.\", \"All images are 32 \\\\u00d7 32 pixels.\", \"CUB-200 is a fine-grained image classification dataset containing high resolution images of 200 different bird species BID40 .\", \"We use the 2011 version of the dataset.\", \"AudioSet is an audio classification dataset BID16 .\", \"We use the variant of AudioSet used by BID23 , which contains a 100 class subset such that none of the classes were super-or sub-classes of one another.\", \"Also, since the AudioSet data samples can have more than one class, the chosen samples had only one of the 100 classes chosen in this subset.\", \"DISPLAYFORM1 For CIFAR-100 and CUB-200, we extract ResNet-50 image embeddings as the input to each of the models, where ResNet-50 was pre-trained on ImageNet BID21 .\", \"We use the output after the mean pooling layer and normalize the features to unit length.\", \"For AudioSet, we use the audio CNN embeddings produced by pre-training the model on the YouTube-8M dataset BID1 .\", \"We use the pre-extracted AudioSet feature embeddings, which represent ten second sound clips (i.e., ten 128-dimensional vectors concatenated in order).Comparison Models.\", \"We compare FearNet to FEL, GeppNet, GeppNet+STM, iCaRL, and an onenearest neighbor (1-NN).\", \"FEL, GeppNet, and GeppNet+STM were chosen due to their previously reported efficacy at incremental class learning in BID23 .\", \"iCARL is explicitly designed for incremental class learning, and represents the state-of-the-art on this problem.\", \"We compare against 1-NN due to its similarity to our HC model.\", \"1-NN does not forget any previously observed examples, but it tends to have worse generalization error than parametric methods and requires storing all of the training data.\", \"In each of our experiments, all models take the same feature embedding as input for a given dataset.\", \"This required modifying iCaRL by turning its CNN into a fully connected network.\", \"We performed a hyperparameter search for each model/dataset combination to tune the number of units and layers (see Supplemental Materials).Training Parameters.\", \"FearNet was implemented in Tensorflow.\", \"For mPFC and BLA, each fully connected layer uses an exponential linear unit activation function BID5 .\", \"The output of the encoder also connects to a softmax output layer.\", \"Xavier initialization is used to initialize all weight layers BID19 , and all of the biases are initialized to one.\", \"BLA\\'s architecture is identical to mPFC\\'s encoder, except it has a logistic output unit, instead of a softmax layer.mPFC and BLA were trained using NAdam.\", \"We train mPFC on the base-knowledge set for 1,000 epochs, consolidate HC over to mPFC for 60 epochs, and train BLA for 20 epochs.\", \"Because mPFC\\'s decoder is vital to preserving memories, its learning rate is 1/100 times lower than the encoder.\", \"We performed a hyperparameter search for each dataset and model, varying the model shape (64-1,024 units), depth (2-4 layers), and how often to sleep (see Sec. 6.2).\", \"Across datasets, mPFC and BLA performed best with two hidden layers, but the number of units per layer varied across datasets.\", \"The specific values used for each dataset are given in supplemental material.\", \"In preliminary experiments, we found no benefit to adding weight decay to mPFC, likely because the reconstruction task helps regularize the model.\", \"Unless otherwise noted, each class is only seen in one unique study-session and the first baseknowledge study session contains half the classes in the dataset.\", \"We perform additional experiments to study how changing the number of base-knowledge classes affects performance in Sec. 6.2.\", \"Unless otherwise noted, FearNet sleeps every 10 study sessions across datasets.\", \"TAB2 shows incremental class learning summary results for all six methods.\", \"FearNet achieves the best \\\\u2126 base and \\\\u2126 all on all three datasets.\", \"FIG3 shows that FearNet more closely resembles the offline MLP baseline than other methods.\", \"\\\\u2126 new measures test accuracy on the most recently trained class.\", \"1 For FearNet, this measures the performance of HC and BLA.\", \"\\\\u2126 new does not account for how well the class was consolidated into mPFC which happens later during a sleep phase; however, \\\\u2126 all does account for this.\", \"FEL achieves a high \\\\u2126 new score because it is able to achieve nearly perfect test accuracy on every new class it learns, but this results in forgetting more quickly than FearNet.\", \"1-NN is similar to our HC model; but on its own, it fails to generalize as well as FearNet, is memory inefficient, and is slow to make predictions.\", \"The final mean-class test accuracy for the offline MLP used to normalize the metrics is 69.9% for CIFAR-100, 59.8% for CUB-200, and 45.8% for AudioSet.\", \"Table 3 : FearNet performance when the location of the associated memory is known using an oracle versus using BLA.\", \"Novelty Detection with BLA.\", \"We evaluated the performance of BLA by comparing it to an oracle version of FearNet, i.e., a version that knew if the relevant memory was stored in either mPFC or HC.\", \"Table 3 shows that FearNet\\'s BLA does a good job at predicting which network to use; however, the decrease in \\\\u2126 new suggests BLA is sometimes using mPFC when it should be using HC.\", \"FIG5 , it is better able to retain its base-knowledge, but this reduces its ability to recall new information.\", \"In humans, sleep deprivation is known to impair new learning BID41 , and that forgetting occurs during sleep BID30 .\", \"Each time FearNet sleeps, the mPFC weights are perturbed which can cause it to gradually forget older memories.\", \"Sleeping less causes HC\\'s recall performance to deteriorate.\", \"Table 4 : Multi-modal incremental learning experiment.\", \"FearNet was trained with various base-knowledge sets (column-header) and then incrementally trained on all remaining data.\", \"Multi-Modal Incremental Learning.\", \"As shown in Sec. 6.1, FearNet can incrementally learn and retain information from a single dataset, but how does it perform if new inputs differ greatly from previously learned ones?\", \"This scenario is one of the first shown to cause catastrophic forgetting in MLPs.\", \"To study this, we trained FearNet to incrementally learn CIFAR-100 and AudioSet, which after training is a 200-way classification problem.\", \"To do this, AudioSet\\'s features are zero-padded to make them the same length as CIFAR-100s.\", \"Table 4 shows the performance of FearNet for three separate training paradigms: 1) FearNet learns CIFAR-100 as the baseknowledge and then incrementally learns AudioSet; 2) FearNet learns AudioSet as the baseknowledge and then incrementally learns CIFAR-100; and 3) the base-knowledge contains a 50/50 split from both datasets with FearNet incrementally learning the remaining classes.\", \"Our results suggest FearNet is capable of incrementally learning multi-modal information, if the model has a good starting point (high base-knowledge); however, if the model starts with lower base-knowledge performance (e.g., AudioSet), the model struggles to learn new information incrementally (see Supplemental Material for detailed plots).Base-Knowledge Effect on Performance.\", \"In this section, we examine how the size of the baseknowledge (i.e., number of classes) affects FearNet\\'s performance on CUB-200.\", \"To do this, we varied the size of the base-knowledge from 10-150 classes, with the remaining classes learned incrementally.\", \"Detailed plots are provided in the Supplemental Material.\", \"As the base-knowledge size increases, there is a noticeable increase in overall model performance because 1) mPFC has a better learned representation from a larger quantity of data and 2) there are not as many incremental learning steps remaining for the dataset, so the base-knowledge performance is less perturbed.\", \"FearNet\\'s mPFC is trained to both discriminate examples and also generate new examples.\", \"While the main use of mPFC\\'s generative abilities is to enable psuedorehearsal, this ability may also help make the model more robust to catastrophic forgetting.\", \"BID18 observed that unsupervised networks are more robust (but not immune) to catastrophic forgetting because there are no target outputs to be forgotten.\", \"Since the pseudoexample generator is learned as a unsupervised reconstruction task, this could explain why FearNet is slow to forget old information.\", \"Table 5 : Memory requirements to train CIFAR-100 and the amount of memory that would be required if these models were trained up to 1,000 classes.\", \"Table 5 shows the memory requirements for each model in Sec. 6.1 for learning CIFAR-100 and a hypothetical extrapolation for learning 1,000 classes.\", \"This chart accounts for a fixed model capacity and storage of any data or class statistics.\", \"FearNet\\'s memory footprint is comparatively small because it only stores class statistics rather than some or all of the raw training data, which makes it better suited for deployment.\", \"An open question is how to deal with storage and updating of class statistics if classes are seen in more than one study sessions.\", \"One possibility is to use a running update for the class means and covariances, but it may be better to favor the data from the most recent study session due to learning in the autoencoder.\", \"FearNet assumed that the output of the mPFC encoder was normally distributed for each class, which may not be the case.\", \"It would be interesting to consider modeling the classes with a more complex model, e.g., a Gaussian Mixture Model.\", \"BID34 showed that pseudorehearsal worked reasonably well with randomly generated vectors because they were associated with the weights of a given class.\", \"Replaying these vectors strengthened their corresponding weights, which could be what is happening with the pseudo-examples generated by FearNet\\'s decoder.\", \"The largest impact on model size is the stored covariance matrix \\\\u03a3 c for each class.\", \"We tested a variant of FearNet that used a diagonal \\\\u03a3 c instead of a full covariance matrix.\", \"TAB5 shows that performance degrades, but FearNet still works.\", \"FearNet can be adapted to other paradigms, such as unsupervised learning and regression.\", \"For unsupervised learning, FearNet\\'s mPFC already does a form of it implicitly.\", \"For regression, this would require changing mPFC\\'s loss function and may require grouping input feature vectors into similar collections.\", \"FearNet could also be adapted to perform the supervised data permutation experiment performed by BID20 and BID24 .\", \"This would likely require storing statistics from previous permutations and classes.\", \"FearNet would sleep between learning different permutations; however, if the number of classes was high, recent recall may suffer.\", \"In this paper, we proposed a brain-inspired framework capable of incrementally learning data with different modalities and object classes.\", \"FearNet outperforms existing methods for incremental class learning on large image and audio classification benchmarks, demonstrating that FearNet is capable of recalling and consolidating recently learned information while also retaining old information.\", \"In addition, we showed that FearNet is more memory efficient, making it ideal for platforms where size, weight, and power requirements are limited.\", \"Future work will include 1) integrating BLA directly into the model (versus training it independently); 2) replacing HC with a semi-parametric model; 3) learning the feature embedding from raw inputs; and 4) replacing the pseduorehearsal mechanism with a generative model that does not require the storage of class statistics, which would be more memory efficient.\", \"A SUPPLEMENTAL MATERIAL A.1 MODEL HYPERPARAMETERS TAB1 shows the training parameters for the FearNet model for each dataset.\", \"We also experimented with various dropout rates, weight decay, and various activation functions; however, weight decay did not work well with FearNet\\'s mPFC.\", \"TAB1 : FearNet Training Parameters TAB2 shows the training parameters for the iCaRL framework used in this paper.\", \"We adapted the code from the author\\'s GitHub page for our own experiments.\", \"The ResNet-18 convolutional neural network was replaced with a fully-connected neural network.\", \"We experimented with various regularization strategies to increase the initial base-knowledge accuracy with weight decay working the best.\", \"The values that are given as a range of values are the hyperparameter search spaces.\", \"TAB9 shows the training parameters for GeppNet and GeppNet+STM.\", \"Parameters not listed here are the default parameters defined by BID17 .\", \"The values that are given as a range of values are the hyperparameter search spaces.\", \"A.3 BLA VARIANTS Our BLA model is a classifier that determines whether a prediction should be made using HC (recent memory) or mPFC (remote memory).\", \"An alternative approach would be to use an outlier detection algorithm that determines whether the data being processed by a sub-network is an outlier for that sub-network and should therefore be processed by the other sub-network.\", \"To explore this alternative BLA formulation, we experimented with three outlier detection algorithms: 1) one-class support vector machine (SVM) BID36 , 2) determining if the data fits into a Gaussian distribution using a minimum covariance determinant estimation (i.e., elliptical envelope) (Rousseeuw BID35 , and 3) the isolation forest BID27 .\", \"All three of these methods set a rejection criterion for if the test sample exists in HC; whereas the binary MLP reports a probability on how likely the test sample resides in HC.\", \"TAB5 : Performance of different BLA variants.\", \"Pseudocode for FearNet\\'s training and prediction algorithms are given in Algorithms 1 and 2 respectively.\", \"The variables match the ones defined in the paper.\", \"Algorithm 1: FearNet Training Data: X,y Classes/Study-Sessions: T; K: Sleep Frequency; Initialize mPFC with base-knowledge; Store \\\\u00b5 t , \\\\u03a3 t for each class in the base-knowledge; for c \\\\u2190 T /2 to T do Store X, y for class c in HC; if c % K == 0 then Fine-tune mPFC with X, y in HC and pseudoexamples generated by mPFC decoder; Update \\\\u00b5 t , \\\\u03a3 t for all classes seen so far; Clear HC; else Update BLA;Algorithm 2: FearNet Prediction Data: X A (X) \\\\u2190 P BLA (C = 1|X); \\\\u03c8 \\\\u2190 max k P HC (C=k|X)A(X) 1\\\\u2212A(X); if \\\\u03c8 > max k P mP F C (C = k|X) then return arg max k P HC (C = k |X); else return arg max k P mP F C (C = k |X);A.5 MULTI-MODAL LEARNING EXPERIMENT Fig. S1 shows the plots for the multi-modal experiments in Sec. 6.2.\", \"The three base-knowledge experiments were 1) CIFAR-100 is the base-knowledge and AudioSet is trained incrementally, 2) AudioSet is the base-knowledge and then AudioSet is trained incrementally, and 3) the base-knowledge is a 50/50 mix of the two datasets and then the remaining classes are trained incrementally.\", \"For all three base-knowledge experiments, we show the mean-class accuracy on the base-knowledge and the entire test set.\", \"FearNet works well when it adequately learns the base-knowledge (Experiment #1 and #3); however, when FearNet learns it poorly, incremental learning deteriorates.\", \"A.6 BASE-KNOWLEDGE EFFECT ON PERFORMANCE Figure S1 : Detailed plots for the multi-modal experiment.\", \"The top row is when the base-knowledge was CIFAR-100, the middle row is when the base-knowledge was AudioSet, and the bottom row is when the base-knowledge was a 50/50 mix from the two datasets.\", \"The left column represents the mean-class accuracy on the base-knowledge test set and the right column computes mean-class accuracy on the entire test set.remains relatively even because the size of the base-knowledge has no effect on the HC model\\'s ability to immediately recall new information; however, there is a very slight decrease that corresponds to the BLA model erroneously favoring mPFC in a few cases.\", \"Most importantly, \\\\u2126 all sees an increase in performance because; like \\\\u2126 base , there are not as many sleep phases to perturb older memories in mPFC.\"], \"source_labels\": [0, 0, 0, 0, 1, 0, 0, 0, 0], \"rouge_scores\": [0.285714281044898, 0.18181817681818196, 0.22727272227272738, 0.26666666275555556, 0.3243243195032871, 0.2799999950720001, 0.2499999957031251, 0.2926829218560381, 0.1999999950500001], \"paper_id\": \"SJ1Xmf-Rb\", \"target\": [\"FearNet is a memory efficient neural-network, inspired by memory formation in the mammalian brain, that is capable of incremental class learning without catastrophic forgetting.\", \"This paper presents a novel solution to an incremental classification problem based on a dual memory system. \"], \"title\": \"FearNet: Brain-Inspired Model for Incremental Learning\"}\\n'"
      ]
     },
     "execution_count": 126,
     "metadata": {},
     "output_type": "execute_result"
    }
   ],
   "source": [
    "lines[0]"
   ]
  },
  {
   "cell_type": "code",
   "execution_count": 5,
   "id": "17adb928",
   "metadata": {},
   "outputs": [
    {
     "data": {
      "text/plain": [
       "{'source': ['Incremental class learning involves sequentially learning classes in bursts of examples from the same class.',\n",
       "  'This violates the assumptions that underlie  methods for training standard deep neural networks, and will cause them to suffer from catastrophic forgetting.',\n",
       "  'Arguably, the best method for incremental class learning is iCaRL, but it requires storing  training examples for each class, making it challenging to scale.',\n",
       "  'Here, we propose FearNet for incremental class learning.',\n",
       "  'FearNet is a generative model that does not store previous examples, making it memory efficient.',\n",
       "  'FearNet uses a brain-inspired dual-memory system in which new memories are consolidated from a network for recent memories inspired by the mammalian hippocampal complex to a network for long-term storage inspired by medial prefrontal cortex.',\n",
       "  'Memory consolidation is inspired by mechanisms that occur during sleep.',\n",
       "  'FearNet also uses a module inspired by the basolateral amygdala for determining which memory system to use for recall.  ',\n",
       "  'FearNet achieves state-of-the-art performance at incremental class learning on image (CIFAR-100, CUB-200) and audio classification (AudioSet) benchmarks.\\n',\n",
       "  'In incremental classification, an agent must sequentially learn to classify training examples, without necessarily having the ability to re-study previously seen examples.',\n",
       "  'While deep neural networks (DNNs) have revolutionized machine perception BID26 , off-the-shelf DNNs cannot incrementally learn classes due to catastrophic forgetting.',\n",
       "  'Catastrophic forgetting is a phenomenon in which a DNN completely fails to learn new data without forgetting much of its previously learned knowledge BID29 .',\n",
       "  'While methods have been developed to try and mitigate catastrophic forgetting, as shown in BID23 , these methods are not sufficient and perform poorly on larger datasets.',\n",
       "  'In this paper, we propose FearNet, a brain-inspired system for incrementally learning categories that significantly outperforms previous methods.',\n",
       "  'The standard way for dealing with catastrophic forgetting in DNNs is to avoid it altogether by mixing new training examples with old ones and completely re-training the model offline.',\n",
       "  'For large datasets, this may require weeks of time, and it is not a scalable solution.',\n",
       "  'An ideal incremental learning system would be able to assimilate new information without the need to store the entire training dataset.',\n",
       "  'A major application for incremental learning includes real-time operation on-board embedded platforms that have limited computing power, storage, and memory, e.g., smart toys, smartphone applications, and robots.',\n",
       "  'For example, a toy robot may need to learn to recognize objects within its local environment and of interest to its owner.',\n",
       "  'Using cloud computing to overcome these resource limitations may pose privacy risks and may not be scalable to a large number of embedded devices.',\n",
       "  'A better solution is on-device incremental learning, which requires the model to use less storage and computational power.',\n",
       "  'In this paper, we propose an incremental learning framework called FearNet (see Fig. 1 ).',\n",
       "  'FearNet has three brain-inspired sub-systems: 1) a recent memory system for quick recall, 2) a memory system for long-term storage, and 3) a sub-system that determines which memory system to use for a particular example.',\n",
       "  'FearNet mitigates catastrophic forgetting by consolidating recent memories into long-term storage using pseudorehearsal BID34 .',\n",
       "  'Pseudorehearsal allows the network to revisit previous memories during incremental training without the need to store previous training examples, which is more memory efficient.',\n",
       "  'Figure 1: FearNet consists of three braininspired modules based on 1) mPFC (longterm storage), 2) HC (recent storage), and 3) BLA for determining whether to use mPFC or HC for recall.',\n",
       "  'Problem Formulation:',\n",
       "  'Here, incremental class learning consists of T study-sessions.',\n",
       "  'At time t, the learner receives a batch of data B t , which contains N t labeled training samples, i.e., B t = {(x j , y j )} Nt j=1 , where x j ∈ R d is the input feature vector to be classified and y j is its corresponding label.',\n",
       "  'The number of training samples N t may vary between sessions, and the data inside a study-session is not assumed to be independent and identically distributed (iid).',\n",
       "  'During a study session, the learner only has access to its current batch, but it may use its own memory to store information from prior study sessions.',\n",
       "  'We refer to the first session as the model\\'s \"base-knowledge,\" which contains exemplars from M ≥ 1 classes.',\n",
       "  'The batches learned in all subsequent sessions contain only one class, i.e., all y j will be identical within those sessions.',\n",
       "  'Novel Contributions: Our contributions include:1.',\n",
       "  \"FearNet's architecture includes three neural networks: one inspired by the hippocampal complex (HC) for recent memories, one inspired by the medial prefrontal cortex (mPFC) for long-term storage, and one inspired by the basolateral amygdala (BLA) that determines whether to use HC or mPFC for recall.2.\",\n",
       "  'Motivated by memory replay during sleep, FearNet employs a generative autoencoder for pseudorehearsal, which mitigates catastrophic forgetting by generating previously learned examples that are replayed alongside novel information during consolidation.',\n",
       "  'This process does not involve storing previous training data.3.',\n",
       "  'FearNet achieves state-of-the-art results on large image and audio datasets with a relatively small memory footprint, demonstrating how dual-memory models can be scaled.',\n",
       "  'Catastrophic forgetting in DNNs occurs due to the plasticity-stability dilemma BID0 .',\n",
       "  'If the network is too plastic, older memories will quickly be overwritten; however, if the network is too stable, it is unable to learn new data.',\n",
       "  'This problem was recognized almost 30 years ago BID29 BID14 , methods developed in the 1980s and 1990s are extensively discussed, and French argued that mitigating catastrophic forgetting would require having two separate memory centers: one for the long-term storage of older memories and another to quickly process new information as it comes in.',\n",
       "  'He also theorized that this type of dual-memory system would be capable of consolidating memories from the fast learning memory center to longterm storage.',\n",
       "  'Catastrophic forgetting often occurs when a system is trained on non-iid data.',\n",
       "  'One strategy for reducing this phenomenon is to mix old examples with new examples, which simulates iid conditions.',\n",
       "  'For example, if the system learns ten classes in a study session and then needs to learn 10 new classes in a later study session, one solution could be to mix examples from the first study session into the later study session.',\n",
       "  'This method is known as rehearsal, and it is one of the earliest methods for reducing catastrophic forgetting BID22 .',\n",
       "  \"Rehearsal essentially uses an external memory to strengthen the model's representations for examples learned previously, so that they are not overwritten when learning data from new classes.\",\n",
       "  'Rehearsal reduces forgetting, but performance is still worse than offline models.',\n",
       "  'Moreover, rehearsal requires storing all of the training data.',\n",
       "  'BID34 argued that storing of training examples was inefficient and of \"little interest,\" so he introduced pseudorehearsal.',\n",
       "  'Rather than replaying past training data, in pseudorehearsal, the algorithm generates new examples for a given class.',\n",
       "  'In BID34 , this was done by creating random input vectors, having the network assign them a label, and then mixing them into the new training data.',\n",
       "  'This idea was revived in BID8 , where a generative autoencoder was used to create pseudo-examples for unsupervised incremental learning.',\n",
       "  \"This method inspired FearNet's approach to memory consolidation.\",\n",
       "  'Pseudorehearsal is related to memory replay that occurs in mammalian brains, which involves reactivation of recently encoded memories in HC so that they can be integrated into long-term storage in mPFC BID31 .Recently there has been renewed interest in solving catastrophic forgetting in supervised learning.',\n",
       "  'Many new methods are designed to mitigate catastrophic forgetting when each study session contains a permuted version of the entire training dataset (see BID20 ).',\n",
       "  'Unlike incremental class learning, all labels are contained in each study session.',\n",
       "  'PathNet uses an evolutionary algorithm to find the optimal path through a large DNN, and then freezes the weights along that path BID11 .',\n",
       "  'It assumes all classes are seen in each study session, and it is not capable of incremental class learning.',\n",
       "  'Elastic Weight Consolidation (EWC) employs a regularization scheme that redirects plasticity to the weights that are least important to previously learned study sessions BID24 .',\n",
       "  'After EWC learns a study session, it uses the training data to build a Fisher matrix that determines the importance of each feature to the classification task it just learned.',\n",
       "  'EWC was shown to work poorly at incremental class learning in BID23 .The Fixed Expansion Layer (FEL) model mitigates catastrophic forgetting by using sparse updates BID6 .',\n",
       "  'FEL uses two hidden layers, where the second hidden layer (i.e., the FEL layer) has connectivity constraints.',\n",
       "  'The FEL layer is much larger than the first hidden layer, is sparsely populated with excitatory and inhibitory weights, and is not updated during training.',\n",
       "  'This limits learning of dense shared representations, which reduces the risk of learning interfering with old memories.',\n",
       "  'FEL requires a large number of units to work well BID23 .',\n",
       "  \"Figure 2: iCaRL's performance depends heavily on the number of exemplars per class (EPC) that it stores.\",\n",
       "  'Reducing EPC from 20 (blue) to 1 (red) severely impairs its ability to recall older information.',\n",
       "  'Gepperth & Karaoguz (2016) introduced a new approach for incremental learning, which we call GeppNet.',\n",
       "  'GeppNet uses a self-organizing map (SOM) to reorganize the input onto a two-dimensional lattice.',\n",
       "  'This serves as a long-term memory, which is fed into a simple linear layer for classification.',\n",
       "  'After the SOM is initialized, it can only be updated if the input is sufficiently novel.',\n",
       "  'This prevents the model from forgetting older data too quickly.',\n",
       "  'GeppNet also uses rehearsal using all previous training data.',\n",
       "  'A variant of GeppNet, GeppNet+STM, uses a fixed-size memory buffer to store novel examples.',\n",
       "  'When this buffer is full, it replaces the oldest example.',\n",
       "  'During pre-defined intervals, the buffer is used to train the model.',\n",
       "  'GeppNet+STM is better at retaining base-knowledge since it only trains during its consolidation phase, but the STM-free version learns new data better because it updates the model on every novel labeled input.iCaRL BID33 is an incremental class learning framework.',\n",
       "  'Rather than directly using a DNN for classification, iCaRL uses it for supervised representation learning.',\n",
       "  \"During a study session, iCaRL updates a DNN using the study session's data and a set of J stored examples from earlier sessions (J = 2, 000 for CIFAR-100 in their paper), which is a kind of rehearsal.\",\n",
       "  'After a study session, the J examples retained are carefully chosen using herding.',\n",
       "  'After learning the entire dataset, iCaRL has retained J/T exemplars per class (e.g., J/T = 20 for CIFAR-100).',\n",
       "  'The DNN in iCaRL is then used to compute an embedding for each stored example, and then the mean embedding for each class seen is computed.',\n",
       "  'To classify a new instance, the DNN is used to compute an embedding for it, and then the class with the nearest mean embedding is assigned.',\n",
       "  \"iCaRL's performance is heavily influenced by the number of examples it stores, as shown in Fig. 2 .\",\n",
       "  'FearNet is heavily inspired by the dual-memory model of mammalian memory BID28 , which has considerable experimental support from neuroscience BID12 BID38 BID25 BID4 BID39 BID15 .',\n",
       "  'This theory proposes that HC and mPFC operate as complementary memory systems, where HC is responsible for recalling recent memories and mPFC is responsible for recalling remote (mature) memories.',\n",
       "  'GeppNet is the most recent DNN to be based on this theory, but it was also independently explored in the 1990s in French (1997) and BID3 .',\n",
       "  'In this section, we review some of the evidence for the dual-memory model.',\n",
       "  'One of the major reasons why HC is thought to be responsible for recent memories is that if HC is bilaterally destroyed, then anterograde amnesia occurs with old memories for semantic information preserved.',\n",
       "  'One mechanism HC may use to facilitate creating new memories is adult neurogenesis.',\n",
       "  \"This occurs in HC's dentate gyrus BID2 BID9 .\",\n",
       "  'The new neurons have higher initial plasticity, but it reduces as time progresses BID7 .In contrast, mPFC is responsible for the recall of remote (long-term) memories BID4 .',\n",
       "  'BID39 and BID15 showed that mPFC plays a strong role in memory consolidation during REM sleep.',\n",
       "  'BID28 and BID10 theorized that, during sleep, HC reactivates recent memories to prevent forgetting which causes these recent memories to replay in mPFC as well, with dreams possibly being caused by this process.',\n",
       "  'After memories are transferred from HC to mPFC, evidence suggests that corresponding memory in HC is erased (Poe, 2017).Recently, BID25 performed contextual fear conditioning (CFC) experiments in mice to trace the formation and consolidation of recent memories to long-term storage.',\n",
       "  'CFC experiments involve shocking mice while subjecting them to various visual stimuli (i.e., colored lights).',\n",
       "  \"They found that BLA, which is responsible for regulating the brain's fear response, would shift where it retrieved the corresponding memory from (HC or mPFC) as that memory was consolidated over time.\",\n",
       "  'FearNet follows the memory consolidation theory proposed by BID25 .',\n",
       "  'FearNet has two complementary memory centers, 1) a short-term memory system that immediately learns new information for recent recall (HC) and 2) a DNN for the storage of remote memories (mPFC).',\n",
       "  'FearNet also has a separate BLA network that determines which memory center contains the associated memory required for prediction.',\n",
       "  'During sleep phases, FearNet uses a generative model to consolidate data from HC to mPFC through pseudorehearsal.',\n",
       "  'Pseudocode for FearNet is provided in the supplemental material.',\n",
       "  'Because the focus of our work is not representation learning, we use pre-trained ResNet embeddings to obtain features that are fed to FearNet.',\n",
       "  \"FearNet's HC model is a variant of a probabilistic neural network BID37 .\",\n",
       "  'HC computes class conditional probabilities using stored training examples.',\n",
       "  \"Formally, HC estimates the probability that an input feature vector x belongs to class k as DISPLAYFORM0 (1) DISPLAYFORM1 where > 0 is a regularization parameter and u k,j is the j'th stored exemplar in HC for class k. All exemplars are removed from HC after they are consolidated into mPFC.FearNet's mPFC is implemented using a DNN trained both to reconstruct its input using a symmetric encoder-decoder (autoencoder) and to compute P mP F C (C = k|x).\",\n",
       "  'The autoencoder enables us to The mPFC and BLA sub-systems in FearNet.',\n",
       "  'mPFC is responsible for the long-term storage of remote memories.',\n",
       "  'BLA is used during prediction time to determine if the memory should be recalled from short-or long-term memory.use pseudorehearsal, which is described in more detail in Sec. 4.2.',\n",
       "  'The loss function for mPFC is DISPLAYFORM2 where L class is the supervised classification loss and L recon is the unsupervised reconstruction loss, as illustrated in FIG1 .',\n",
       "  'For L class , we use standard softmax loss.',\n",
       "  'L recon is the weighted sum of mean squared error (MSE) reconstruction losses from each layer, which is given by DISPLAYFORM3 where M is the number of mPFC layers, H j is the number of hidden units in layer j, h encoder,(i,j) and h decoder, (i,j) are the outputs of the encoder/decoder at layer j respectively, and λ j is the reconstruction weight for that layer.',\n",
       "  'mPFC is similar to a Ladder Network BID32 , which combines classification and reconstruction to improve regularization, especially during lowshot learning.',\n",
       "  'The λ j hyperparameters were found empirically, with λ 0 being largest and decreasing for deeper layers (see supplementary material).',\n",
       "  'This prioritizes the reconstruction task, which makes the generated pseudo-examples more realistic.',\n",
       "  'When training is completed during a study session, all of the data in HC is pushed through the encoder to extract a dense feature representation of the original data, and then we compute a mean feature vector µ c and covariance matrix Σ c for each class c. These are stored and used to generate pseudo-examples during consolidation (see Sec. 4.2).',\n",
       "  \"We study FearNet's performance as a function of how much data is stored in HC in Sec. 6.2.\",\n",
       "  \"During FearNet's sleep phase, the original inputs stored in HC are transferred to mPFC using pseudo-examples created by an autoencoder.\",\n",
       "  'This process is known as intrinsic replay, and it was used by Draelos et al. FORMULA1 for unsupervised learning.',\n",
       "  'Using the class statistics from the encoder, pseudo-examples for class c are generated by sampling a Gaussian with mean µ c and covariance matrix Σ c to obtainx rand .',\n",
       "  'Then,x rand is passed through the decoder to generate a pseudo-example.',\n",
       "  'To create a balanced training set, for each class that mPFC has learned, we generate m pseudo-examples, where m is the average number of examples per class stored in HC.',\n",
       "  'The pseudo-examples are mixed with the data in HC, and the mixture is used to fine-tune mPFC using backpropagation.',\n",
       "  'After consolidation, all units in HC are deleted.',\n",
       "  'During prediction, FearNet uses the BLA network ( FIG1 ) to determine whether to classify an input x using HC or mPFC.',\n",
       "  'This can be challenging because if HC has only been trained on one class, it will put all of its probability mass on that class, whereas mPFC will likely be less confident.',\n",
       "  'The output of BLA is given by A (x) and will be a value between 0 and 1, with a 1 indicating mPFC should be used.',\n",
       "  'BLA is trained after each study session using only the data in HC and with pseudoexamples generated with mPFC, using the same procedure described in Sec. 4.2.',\n",
       "  'Instead of using solely BLA to determine which network to use, we found that combining its output with those of mPFC and HC improved results.',\n",
       "  'The predicted classŷ is computed aŝ DISPLAYFORM0 where DISPLAYFORM1 ψ is the probability of the class according to HC weighted by the confidence that the associated memory is actually stored in HC.',\n",
       "  'BLA has the same number of layers/units as the mPFC encoder, and uses a logistic output unit.',\n",
       "  'We discuss alternative BLA models in supplemental material.',\n",
       "  'Evaluating Incremental Learning Performance.',\n",
       "  'To evaluate how well the incrementally trained models perform compared to an offline model, we use the three metrics proposed in BID23 .',\n",
       "  \"After each study session t in which a model learned a new class k, we compute the model's test accuracy on the new class (α new,t ), the accuracy on the base-knowledge (α base,t ), and the accuracy of all of the test data seen to this point (α all,t ).\",\n",
       "  \"After all T study sessions are complete, a model's ability to retain the base-knowledge is given by DISPLAYFORM0 , where α of f line is the accuracy of a multi-layer perceptron (MLP) trained offline (i.e., it is given all of the training data at once).\",\n",
       "  \"The model's ability to immediately recall new information is measured by and Ω all are relative to an offline MLP model, so a value of 1 indicates that a model has similar performance to the offline baseline.\",\n",
       "  'This allows results across datasets to be better compared.',\n",
       "  'Note that Ω base > 1 and Ω all > 1 only if the incremental learning algorithm is more accurate than the offline model, which can occur due to better regularization strategies employed by different models.',\n",
       "  'Datasets.',\n",
       "  'We evaluate all of the models on three benchmark datasets TAB1 : CIFAR-100, CUB-200, and AudioSet.',\n",
       "  'CIFAR-100 is a popular image classification dataset containing 100 mutually-exclusive object categories, and it was used in BID33 to evaluate iCaRL.',\n",
       "  'All images are 32 × 32 pixels.',\n",
       "  'CUB-200 is a fine-grained image classification dataset containing high resolution images of 200 different bird species BID40 .',\n",
       "  'We use the 2011 version of the dataset.',\n",
       "  'AudioSet is an audio classification dataset BID16 .',\n",
       "  'We use the variant of AudioSet used by BID23 , which contains a 100 class subset such that none of the classes were super-or sub-classes of one another.',\n",
       "  'Also, since the AudioSet data samples can have more than one class, the chosen samples had only one of the 100 classes chosen in this subset.',\n",
       "  'DISPLAYFORM1 For CIFAR-100 and CUB-200, we extract ResNet-50 image embeddings as the input to each of the models, where ResNet-50 was pre-trained on ImageNet BID21 .',\n",
       "  'We use the output after the mean pooling layer and normalize the features to unit length.',\n",
       "  'For AudioSet, we use the audio CNN embeddings produced by pre-training the model on the YouTube-8M dataset BID1 .',\n",
       "  'We use the pre-extracted AudioSet feature embeddings, which represent ten second sound clips (i.e., ten 128-dimensional vectors concatenated in order).Comparison Models.',\n",
       "  'We compare FearNet to FEL, GeppNet, GeppNet+STM, iCaRL, and an onenearest neighbor (1-NN).',\n",
       "  'FEL, GeppNet, and GeppNet+STM were chosen due to their previously reported efficacy at incremental class learning in BID23 .',\n",
       "  'iCARL is explicitly designed for incremental class learning, and represents the state-of-the-art on this problem.',\n",
       "  'We compare against 1-NN due to its similarity to our HC model.',\n",
       "  '1-NN does not forget any previously observed examples, but it tends to have worse generalization error than parametric methods and requires storing all of the training data.',\n",
       "  'In each of our experiments, all models take the same feature embedding as input for a given dataset.',\n",
       "  'This required modifying iCaRL by turning its CNN into a fully connected network.',\n",
       "  'We performed a hyperparameter search for each model/dataset combination to tune the number of units and layers (see Supplemental Materials).Training Parameters.',\n",
       "  'FearNet was implemented in Tensorflow.',\n",
       "  'For mPFC and BLA, each fully connected layer uses an exponential linear unit activation function BID5 .',\n",
       "  'The output of the encoder also connects to a softmax output layer.',\n",
       "  'Xavier initialization is used to initialize all weight layers BID19 , and all of the biases are initialized to one.',\n",
       "  \"BLA's architecture is identical to mPFC's encoder, except it has a logistic output unit, instead of a softmax layer.mPFC and BLA were trained using NAdam.\",\n",
       "  'We train mPFC on the base-knowledge set for 1,000 epochs, consolidate HC over to mPFC for 60 epochs, and train BLA for 20 epochs.',\n",
       "  \"Because mPFC's decoder is vital to preserving memories, its learning rate is 1/100 times lower than the encoder.\",\n",
       "  'We performed a hyperparameter search for each dataset and model, varying the model shape (64-1,024 units), depth (2-4 layers), and how often to sleep (see Sec. 6.2).',\n",
       "  'Across datasets, mPFC and BLA performed best with two hidden layers, but the number of units per layer varied across datasets.',\n",
       "  'The specific values used for each dataset are given in supplemental material.',\n",
       "  'In preliminary experiments, we found no benefit to adding weight decay to mPFC, likely because the reconstruction task helps regularize the model.',\n",
       "  'Unless otherwise noted, each class is only seen in one unique study-session and the first baseknowledge study session contains half the classes in the dataset.',\n",
       "  'We perform additional experiments to study how changing the number of base-knowledge classes affects performance in Sec. 6.2.',\n",
       "  'Unless otherwise noted, FearNet sleeps every 10 study sessions across datasets.',\n",
       "  'TAB2 shows incremental class learning summary results for all six methods.',\n",
       "  'FearNet achieves the best Ω base and Ω all on all three datasets.',\n",
       "  'FIG3 shows that FearNet more closely resembles the offline MLP baseline than other methods.',\n",
       "  'Ω new measures test accuracy on the most recently trained class.',\n",
       "  '1 For FearNet, this measures the performance of HC and BLA.',\n",
       "  'Ω new does not account for how well the class was consolidated into mPFC which happens later during a sleep phase; however, Ω all does account for this.',\n",
       "  'FEL achieves a high Ω new score because it is able to achieve nearly perfect test accuracy on every new class it learns, but this results in forgetting more quickly than FearNet.',\n",
       "  '1-NN is similar to our HC model; but on its own, it fails to generalize as well as FearNet, is memory inefficient, and is slow to make predictions.',\n",
       "  'The final mean-class test accuracy for the offline MLP used to normalize the metrics is 69.9% for CIFAR-100, 59.8% for CUB-200, and 45.8% for AudioSet.',\n",
       "  'Table 3 : FearNet performance when the location of the associated memory is known using an oracle versus using BLA.',\n",
       "  'Novelty Detection with BLA.',\n",
       "  'We evaluated the performance of BLA by comparing it to an oracle version of FearNet, i.e., a version that knew if the relevant memory was stored in either mPFC or HC.',\n",
       "  \"Table 3 shows that FearNet's BLA does a good job at predicting which network to use; however, the decrease in Ω new suggests BLA is sometimes using mPFC when it should be using HC.\",\n",
       "  'FIG5 , it is better able to retain its base-knowledge, but this reduces its ability to recall new information.',\n",
       "  'In humans, sleep deprivation is known to impair new learning BID41 , and that forgetting occurs during sleep BID30 .',\n",
       "  'Each time FearNet sleeps, the mPFC weights are perturbed which can cause it to gradually forget older memories.',\n",
       "  \"Sleeping less causes HC's recall performance to deteriorate.\",\n",
       "  'Table 4 : Multi-modal incremental learning experiment.',\n",
       "  'FearNet was trained with various base-knowledge sets (column-header) and then incrementally trained on all remaining data.',\n",
       "  'Multi-Modal Incremental Learning.',\n",
       "  'As shown in Sec. 6.1, FearNet can incrementally learn and retain information from a single dataset, but how does it perform if new inputs differ greatly from previously learned ones?',\n",
       "  'This scenario is one of the first shown to cause catastrophic forgetting in MLPs.',\n",
       "  'To study this, we trained FearNet to incrementally learn CIFAR-100 and AudioSet, which after training is a 200-way classification problem.',\n",
       "  \"To do this, AudioSet's features are zero-padded to make them the same length as CIFAR-100s.\",\n",
       "  'Table 4 shows the performance of FearNet for three separate training paradigms: 1) FearNet learns CIFAR-100 as the baseknowledge and then incrementally learns AudioSet; 2) FearNet learns AudioSet as the baseknowledge and then incrementally learns CIFAR-100; and 3) the base-knowledge contains a 50/50 split from both datasets with FearNet incrementally learning the remaining classes.',\n",
       "  'Our results suggest FearNet is capable of incrementally learning multi-modal information, if the model has a good starting point (high base-knowledge); however, if the model starts with lower base-knowledge performance (e.g., AudioSet), the model struggles to learn new information incrementally (see Supplemental Material for detailed plots).Base-Knowledge Effect on Performance.',\n",
       "  \"In this section, we examine how the size of the baseknowledge (i.e., number of classes) affects FearNet's performance on CUB-200.\",\n",
       "  'To do this, we varied the size of the base-knowledge from 10-150 classes, with the remaining classes learned incrementally.',\n",
       "  'Detailed plots are provided in the Supplemental Material.',\n",
       "  'As the base-knowledge size increases, there is a noticeable increase in overall model performance because 1) mPFC has a better learned representation from a larger quantity of data and 2) there are not as many incremental learning steps remaining for the dataset, so the base-knowledge performance is less perturbed.',\n",
       "  \"FearNet's mPFC is trained to both discriminate examples and also generate new examples.\",\n",
       "  \"While the main use of mPFC's generative abilities is to enable psuedorehearsal, this ability may also help make the model more robust to catastrophic forgetting.\",\n",
       "  'BID18 observed that unsupervised networks are more robust (but not immune) to catastrophic forgetting because there are no target outputs to be forgotten.',\n",
       "  'Since the pseudoexample generator is learned as a unsupervised reconstruction task, this could explain why FearNet is slow to forget old information.',\n",
       "  'Table 5 : Memory requirements to train CIFAR-100 and the amount of memory that would be required if these models were trained up to 1,000 classes.',\n",
       "  'Table 5 shows the memory requirements for each model in Sec. 6.1 for learning CIFAR-100 and a hypothetical extrapolation for learning 1,000 classes.',\n",
       "  'This chart accounts for a fixed model capacity and storage of any data or class statistics.',\n",
       "  \"FearNet's memory footprint is comparatively small because it only stores class statistics rather than some or all of the raw training data, which makes it better suited for deployment.\",\n",
       "  'An open question is how to deal with storage and updating of class statistics if classes are seen in more than one study sessions.',\n",
       "  'One possibility is to use a running update for the class means and covariances, but it may be better to favor the data from the most recent study session due to learning in the autoencoder.',\n",
       "  'FearNet assumed that the output of the mPFC encoder was normally distributed for each class, which may not be the case.',\n",
       "  'It would be interesting to consider modeling the classes with a more complex model, e.g., a Gaussian Mixture Model.',\n",
       "  'BID34 showed that pseudorehearsal worked reasonably well with randomly generated vectors because they were associated with the weights of a given class.',\n",
       "  \"Replaying these vectors strengthened their corresponding weights, which could be what is happening with the pseudo-examples generated by FearNet's decoder.\",\n",
       "  'The largest impact on model size is the stored covariance matrix Σ c for each class.',\n",
       "  'We tested a variant of FearNet that used a diagonal Σ c instead of a full covariance matrix.',\n",
       "  'TAB5 shows that performance degrades, but FearNet still works.',\n",
       "  'FearNet can be adapted to other paradigms, such as unsupervised learning and regression.',\n",
       "  \"For unsupervised learning, FearNet's mPFC already does a form of it implicitly.\",\n",
       "  \"For regression, this would require changing mPFC's loss function and may require grouping input feature vectors into similar collections.\",\n",
       "  'FearNet could also be adapted to perform the supervised data permutation experiment performed by BID20 and BID24 .',\n",
       "  'This would likely require storing statistics from previous permutations and classes.',\n",
       "  'FearNet would sleep between learning different permutations; however, if the number of classes was high, recent recall may suffer.',\n",
       "  'In this paper, we proposed a brain-inspired framework capable of incrementally learning data with different modalities and object classes.',\n",
       "  'FearNet outperforms existing methods for incremental class learning on large image and audio classification benchmarks, demonstrating that FearNet is capable of recalling and consolidating recently learned information while also retaining old information.',\n",
       "  'In addition, we showed that FearNet is more memory efficient, making it ideal for platforms where size, weight, and power requirements are limited.',\n",
       "  'Future work will include 1) integrating BLA directly into the model (versus training it independently); 2) replacing HC with a semi-parametric model; 3) learning the feature embedding from raw inputs; and 4) replacing the pseduorehearsal mechanism with a generative model that does not require the storage of class statistics, which would be more memory efficient.',\n",
       "  'A SUPPLEMENTAL MATERIAL A.1 MODEL HYPERPARAMETERS TAB1 shows the training parameters for the FearNet model for each dataset.',\n",
       "  \"We also experimented with various dropout rates, weight decay, and various activation functions; however, weight decay did not work well with FearNet's mPFC.\",\n",
       "  'TAB1 : FearNet Training Parameters TAB2 shows the training parameters for the iCaRL framework used in this paper.',\n",
       "  \"We adapted the code from the author's GitHub page for our own experiments.\",\n",
       "  'The ResNet-18 convolutional neural network was replaced with a fully-connected neural network.',\n",
       "  'We experimented with various regularization strategies to increase the initial base-knowledge accuracy with weight decay working the best.',\n",
       "  'The values that are given as a range of values are the hyperparameter search spaces.',\n",
       "  'TAB9 shows the training parameters for GeppNet and GeppNet+STM.',\n",
       "  'Parameters not listed here are the default parameters defined by BID17 .',\n",
       "  'The values that are given as a range of values are the hyperparameter search spaces.',\n",
       "  'A.3 BLA VARIANTS Our BLA model is a classifier that determines whether a prediction should be made using HC (recent memory) or mPFC (remote memory).',\n",
       "  'An alternative approach would be to use an outlier detection algorithm that determines whether the data being processed by a sub-network is an outlier for that sub-network and should therefore be processed by the other sub-network.',\n",
       "  'To explore this alternative BLA formulation, we experimented with three outlier detection algorithms: 1) one-class support vector machine (SVM) BID36 , 2) determining if the data fits into a Gaussian distribution using a minimum covariance determinant estimation (i.e., elliptical envelope) (Rousseeuw BID35 , and 3) the isolation forest BID27 .',\n",
       "  'All three of these methods set a rejection criterion for if the test sample exists in HC; whereas the binary MLP reports a probability on how likely the test sample resides in HC.',\n",
       "  'TAB5 : Performance of different BLA variants.',\n",
       "  \"Pseudocode for FearNet's training and prediction algorithms are given in Algorithms 1 and 2 respectively.\",\n",
       "  'The variables match the ones defined in the paper.',\n",
       "  'Algorithm 1: FearNet Training Data: X,y Classes/Study-Sessions: T; K: Sleep Frequency; Initialize mPFC with base-knowledge; Store µ t , Σ t for each class in the base-knowledge; for c ← T /2 to T do Store X, y for class c in HC; if c % K == 0 then Fine-tune mPFC with X, y in HC and pseudoexamples generated by mPFC decoder; Update µ t , Σ t for all classes seen so far; Clear HC; else Update BLA;Algorithm 2: FearNet Prediction Data: X A (X) ← P BLA (C = 1|X); ψ ← max k P HC (C=k|X)A(X) 1−A(X); if ψ > max k P mP F C (C = k|X) then return arg max k P HC (C = k |X); else return arg max k P mP F C (C = k |X);A.5 MULTI-MODAL LEARNING EXPERIMENT Fig. S1 shows the plots for the multi-modal experiments in Sec. 6.2.',\n",
       "  'The three base-knowledge experiments were 1) CIFAR-100 is the base-knowledge and AudioSet is trained incrementally, 2) AudioSet is the base-knowledge and then AudioSet is trained incrementally, and 3) the base-knowledge is a 50/50 mix of the two datasets and then the remaining classes are trained incrementally.',\n",
       "  'For all three base-knowledge experiments, we show the mean-class accuracy on the base-knowledge and the entire test set.',\n",
       "  'FearNet works well when it adequately learns the base-knowledge (Experiment #1 and #3); however, when FearNet learns it poorly, incremental learning deteriorates.',\n",
       "  'A.6 BASE-KNOWLEDGE EFFECT ON PERFORMANCE Figure S1 : Detailed plots for the multi-modal experiment.',\n",
       "  'The top row is when the base-knowledge was CIFAR-100, the middle row is when the base-knowledge was AudioSet, and the bottom row is when the base-knowledge was a 50/50 mix from the two datasets.',\n",
       "  \"The left column represents the mean-class accuracy on the base-knowledge test set and the right column computes mean-class accuracy on the entire test set.remains relatively even because the size of the base-knowledge has no effect on the HC model's ability to immediately recall new information; however, there is a very slight decrease that corresponds to the BLA model erroneously favoring mPFC in a few cases.\",\n",
       "  'Most importantly, Ω all sees an increase in performance because; like Ω base , there are not as many sleep phases to perturb older memories in mPFC.'],\n",
       " 'source_labels': [0, 0, 0, 0, 1, 0, 0, 0, 0],\n",
       " 'rouge_scores': [0.285714281044898,\n",
       "  0.18181817681818196,\n",
       "  0.22727272227272738,\n",
       "  0.26666666275555556,\n",
       "  0.3243243195032871,\n",
       "  0.2799999950720001,\n",
       "  0.2499999957031251,\n",
       "  0.2926829218560381,\n",
       "  0.1999999950500001],\n",
       " 'paper_id': 'SJ1Xmf-Rb',\n",
       " 'target': ['FearNet is a memory efficient neural-network, inspired by memory formation in the mammalian brain, that is capable of incremental class learning without catastrophic forgetting.',\n",
       "  'This paper presents a novel solution to an incremental classification problem based on a dual memory system. '],\n",
       " 'title': 'FearNet: Brain-Inspired Model for Incremental Learning'}"
      ]
     },
     "execution_count": 5,
     "metadata": {},
     "output_type": "execute_result"
    }
   ],
   "source": [
    "test_sample = json.loads(lines[0])\n",
    "test_sample"
   ]
  },
  {
   "cell_type": "code",
   "execution_count": 6,
   "id": "292bb95f",
   "metadata": {},
   "outputs": [],
   "source": [
    "for target_sample in test_sample['target']:\n",
    "    if target_sample in test_sample['source']:\n",
    "        print(target_sample)"
   ]
  },
  {
   "cell_type": "code",
   "execution_count": 19,
   "id": "356750bd",
   "metadata": {},
   "outputs": [
    {
     "name": "stdout",
     "output_type": "stream",
     "text": [
      "Incremental class learning involves sequentially learning classes in bursts of examples from the same class. This violates the assumptions that underlie  methods for training standard deep neural networks, and will cause them to suffer from catastrophic forgetting.\n"
     ]
    }
   ],
   "source": [
    "summarizer = SingleLangSummarizer(ft_en)\n",
    "print(summarizer.summarize(' '.join(test_sample['source']), 2))"
   ]
  },
  {
   "cell_type": "code",
   "execution_count": 3,
   "id": "c54848d6",
   "metadata": {},
   "outputs": [
    {
     "name": "stderr",
     "output_type": "stream",
     "text": [
      "2021-08-11 13:55:17.627847: I tensorflow/stream_executor/platform/default/dso_loader.cc:53] Successfully opened dynamic library libcudart.so.11.0\n"
     ]
    }
   ],
   "source": [
    "# flask==2.0.1\n",
    "# flask_socketio==5.1.1\n",
    "# simple-websocket==0.3.0"
   ]
  },
  {
   "cell_type": "code",
   "execution_count": 15,
   "id": "727a6286",
   "metadata": {},
   "outputs": [
    {
     "name": "stdout",
     "output_type": "stream",
     "text": [
      "\u001b[1mDownloading and preparing dataset 558.32 MiB (download: 558.32 MiB, generated: 1.27 GiB, total: 1.82 GiB) to /home/anton/tensorflow_datasets/cnn_dailymail/3.1.0...\u001b[0m\n"
     ]
    },
    {
     "data": {
      "application/vnd.jupyter.widget-view+json": {
       "model_id": "de99ba470ea948e2b038e10d38a6adbd",
       "version_major": 2,
       "version_minor": 0
      },
      "text/plain": [
       "Dl Completed...: 0 url [00:00, ? url/s]"
      ]
     },
     "metadata": {},
     "output_type": "display_data"
    },
    {
     "data": {
      "application/vnd.jupyter.widget-view+json": {
       "model_id": "01b81e0032534651bd7673d48ce48833",
       "version_major": 2,
       "version_minor": 0
      },
      "text/plain": [
       "Dl Size...: 0 MiB [00:00, ? MiB/s]"
      ]
     },
     "metadata": {},
     "output_type": "display_data"
    },
    {
     "data": {
      "application/vnd.jupyter.widget-view+json": {
       "model_id": "cb3243943910475c97d852a10d25f877",
       "version_major": 2,
       "version_minor": 0
      },
      "text/plain": [
       "Extraction completed...: 0 file [00:00, ? file/s]"
      ]
     },
     "metadata": {},
     "output_type": "display_data"
    },
    {
     "data": {
      "application/vnd.jupyter.widget-view+json": {
       "model_id": "",
       "version_major": 2,
       "version_minor": 0
      },
      "text/plain": [
       "Generating splits...:   0%|          | 0/3 [00:00<?, ? splits/s]"
      ]
     },
     "metadata": {},
     "output_type": "display_data"
    },
    {
     "data": {
      "application/vnd.jupyter.widget-view+json": {
       "model_id": "",
       "version_major": 2,
       "version_minor": 0
      },
      "text/plain": [
       "Generating train examples...:   0%|          | 0/287113 [00:00<?, ? examples/s]"
      ]
     },
     "metadata": {},
     "output_type": "display_data"
    },
    {
     "data": {
      "application/vnd.jupyter.widget-view+json": {
       "model_id": "",
       "version_major": 2,
       "version_minor": 0
      },
      "text/plain": [
       "Shuffling cnn_dailymail-train.tfrecord...:   0%|          | 0/287113 [00:00<?, ? examples/s]"
      ]
     },
     "metadata": {},
     "output_type": "display_data"
    },
    {
     "data": {
      "application/vnd.jupyter.widget-view+json": {
       "model_id": "",
       "version_major": 2,
       "version_minor": 0
      },
      "text/plain": [
       "Generating validation examples...:   0%|          | 0/13368 [00:00<?, ? examples/s]"
      ]
     },
     "metadata": {},
     "output_type": "display_data"
    },
    {
     "data": {
      "application/vnd.jupyter.widget-view+json": {
       "model_id": "",
       "version_major": 2,
       "version_minor": 0
      },
      "text/plain": [
       "Shuffling cnn_dailymail-validation.tfrecord...:   0%|          | 0/13368 [00:00<?, ? examples/s]"
      ]
     },
     "metadata": {},
     "output_type": "display_data"
    },
    {
     "data": {
      "application/vnd.jupyter.widget-view+json": {
       "model_id": "",
       "version_major": 2,
       "version_minor": 0
      },
      "text/plain": [
       "Generating test examples...:   0%|          | 0/11490 [00:00<?, ? examples/s]"
      ]
     },
     "metadata": {},
     "output_type": "display_data"
    },
    {
     "data": {
      "application/vnd.jupyter.widget-view+json": {
       "model_id": "",
       "version_major": 2,
       "version_minor": 0
      },
      "text/plain": [
       "Shuffling cnn_dailymail-test.tfrecord...:   0%|          | 0/11490 [00:00<?, ? examples/s]"
      ]
     },
     "metadata": {},
     "output_type": "display_data"
    },
    {
     "name": "stdout",
     "output_type": "stream",
     "text": [
      "\u001b[1mDataset cnn_dailymail downloaded and prepared to /home/anton/tensorflow_datasets/cnn_dailymail/3.1.0. Subsequent calls will reuse this data.\u001b[0m\n"
     ]
    },
    {
     "name": "stderr",
     "output_type": "stream",
     "text": [
      "2021-08-11 14:10:22.544657: I tensorflow/stream_executor/platform/default/dso_loader.cc:53] Successfully opened dynamic library libcuda.so.1\n",
      "2021-08-11 14:10:22.582802: I tensorflow/stream_executor/cuda/cuda_gpu_executor.cc:937] successful NUMA node read from SysFS had negative value (-1), but there must be at least one NUMA node, so returning NUMA node zero\n",
      "2021-08-11 14:10:22.583235: I tensorflow/core/common_runtime/gpu/gpu_device.cc:1733] Found device 0 with properties: \n",
      "pciBusID: 0000:01:00.0 name: NVIDIA GeForce RTX 3080 Laptop GPU computeCapability: 8.6\n",
      "coreClock: 1.245GHz coreCount: 48 deviceMemorySize: 15.75GiB deviceMemoryBandwidth: 357.69GiB/s\n",
      "2021-08-11 14:10:22.583254: I tensorflow/stream_executor/platform/default/dso_loader.cc:53] Successfully opened dynamic library libcudart.so.11.0\n",
      "2021-08-11 14:10:22.600636: I tensorflow/stream_executor/platform/default/dso_loader.cc:53] Successfully opened dynamic library libcublas.so.11\n",
      "2021-08-11 14:10:22.600674: I tensorflow/stream_executor/platform/default/dso_loader.cc:53] Successfully opened dynamic library libcublasLt.so.11\n",
      "2021-08-11 14:10:22.605962: I tensorflow/stream_executor/platform/default/dso_loader.cc:53] Successfully opened dynamic library libcufft.so.10\n",
      "2021-08-11 14:10:22.607936: I tensorflow/stream_executor/platform/default/dso_loader.cc:53] Successfully opened dynamic library libcurand.so.10\n",
      "2021-08-11 14:10:22.609548: I tensorflow/stream_executor/platform/default/dso_loader.cc:53] Successfully opened dynamic library libcusolver.so.11\n",
      "2021-08-11 14:10:22.613219: I tensorflow/stream_executor/platform/default/dso_loader.cc:53] Successfully opened dynamic library libcusparse.so.11\n",
      "2021-08-11 14:10:22.613308: W tensorflow/stream_executor/platform/default/dso_loader.cc:64] Could not load dynamic library 'libcudnn.so.8'; dlerror: libcudnn.so.8: cannot open shared object file: No such file or directory\n",
      "2021-08-11 14:10:22.613317: W tensorflow/core/common_runtime/gpu/gpu_device.cc:1766] Cannot dlopen some GPU libraries. Please make sure the missing libraries mentioned above are installed properly if you would like to use GPU. Follow the guide at https://www.tensorflow.org/install/gpu for how to download and setup the required libraries for your platform.\n",
      "Skipping registering GPU devices...\n",
      "2021-08-11 14:10:22.613926: I tensorflow/core/platform/cpu_feature_guard.cc:142] This TensorFlow binary is optimized with oneAPI Deep Neural Network Library (oneDNN) to use the following CPU instructions in performance-critical operations:  AVX2 FMA\n",
      "To enable them in other operations, rebuild TensorFlow with the appropriate compiler flags.\n",
      "2021-08-11 14:10:22.614727: I tensorflow/core/common_runtime/gpu/gpu_device.cc:1258] Device interconnect StreamExecutor with strength 1 edge matrix:\n",
      "2021-08-11 14:10:22.614735: I tensorflow/core/common_runtime/gpu/gpu_device.cc:1264]      \n"
     ]
    },
    {
     "data": {
      "text/plain": [
       "{Split('train'): <PrefetchDataset shapes: {article: (), highlights: ()}, types: {article: tf.string, highlights: tf.string}>,\n",
       " Split('validation'): <PrefetchDataset shapes: {article: (), highlights: ()}, types: {article: tf.string, highlights: tf.string}>,\n",
       " Split('test'): <PrefetchDataset shapes: {article: (), highlights: ()}, types: {article: tf.string, highlights: tf.string}>}"
      ]
     },
     "execution_count": 15,
     "metadata": {},
     "output_type": "execute_result"
    }
   ],
   "source": [
    "# ds"
   ]
  },
  {
   "cell_type": "code",
   "execution_count": 58,
   "id": "56249c1a",
   "metadata": {},
   "outputs": [
    {
     "name": "stdout",
     "output_type": "stream",
     "text": [
      "(CNN) -- Ralph Mata was an internal affairs lieutenant for the Miami-Dade Police Department, working in the division that investigates allegations of wrongdoing by cops. Outside the office, authorities allege that the 45-year-old longtime officer worked with a drug trafficking organization to help plan a murder plot and get guns. A criminal complaint unsealed in U.S. District Court in New Jersey Tuesday accuses Mata, also known as \"The Milk Man,\" of using his role as a police officer to help the drug trafficking organization in exchange for money and gifts, including a Rolex watch. In one instance, the complaint alleges, Mata arranged to pay two assassins to kill rival drug dealers. The killers would pose as cops, pulling over their targets before shooting them, according to the complaint. \"Ultimately, the (organization) decided not to move forward with the murder plot, but Mata still received a payment for setting up the meetings,\" federal prosecutors said in a statement. The complaint also alleges that Mata used his police badge to purchase weapons for drug traffickers. Mata, according to the complaint, then used contacts at the airport to transport the weapons in his carry-on luggage on trips from Miami to the Dominican Republic. Court documents released by investigators do not specify the name of the drug trafficking organization with which Mata allegedly conspired but says the organization has been importing narcotics from places such as Ecuador and the Dominican Republic by hiding them \"inside shipping containers containing pallets of produce, including bananas.\" The organization \"has been distributing narcotics in New Jersey and elsewhere,\" the complaint says. Authorities arrested Mata on Tuesday in Miami Gardens, Florida. It was not immediately clear whether Mata has an attorney, and police officials could not be immediately reached for comment. Mata has worked for the Miami-Dade Police Department since 1992, including directing investigations in Miami Gardens and working as a lieutenant in the K-9 unit at Miami International Airport, according to the complaint. Since March 2010, he had been working in the internal affairs division. Mata faces charges of aiding and abetting a conspiracy to distribute cocaine, conspiring to distribute cocaine and engaging in monetary transactions in property derived from specified unlawful activity. He is scheduled to appear in federal court in Florida on Wednesday. If convicted, Mata could face life in prison. CNN's Suzanne Presto contributed to this report.\n",
      "---------\n",
      "Criminal complaint: Cop used his role to help cocaine traffickers .\n",
      "Ralph Mata, an internal affairs lieutenant, allegedly helped group get guns .\n",
      "He also arranged to pay two assassins in a murder plot, a complaint alleges .\n"
     ]
    }
   ],
   "source": [
    "# test_dataset = tf.data.Dataset.from_tensor_slices(list(ds['test']))\n",
    "print(train_list[1]['article'].numpy().decode('utf-8'))\n",
    "print('---------')\n",
    "print(train_list[1]['highlights'].numpy().decode('utf-8'))"
   ]
  },
  {
   "cell_type": "code",
   "execution_count": 55,
   "id": "6e52dbd9",
   "metadata": {},
   "outputs": [],
   "source": []
  },
  {
   "cell_type": "code",
   "execution_count": 56,
   "id": "cb0bd3aa",
   "metadata": {},
   "outputs": [
    {
     "name": "stdout",
     "output_type": "stream",
     "text": [
      "debug: sentences:\n",
      "(CNN) -- Ralph Mata was an internal affairs lieutenant for the Miami-Dade Police Department, working in the division that investigates allegations of wrongdoing by cops.\n",
      "Outside the office, authorities allege that the 45-year-old longtime officer worked with a drug trafficking organization to help plan a murder plot and get guns.\n",
      "A criminal complaint unsealed in U.S. District Court in New Jersey Tuesday accuses Mata, also known as \"The Milk Man,\" of using his role as a police officer to help the drug trafficking organization in exchange for money and gifts, including a Rolex watch.\n",
      "In one instance, the complaint alleges, Mata arranged to pay two assassins to kill rival drug dealers.\n",
      "The killers would pose as cops, pulling over their targets before shooting them, according to the complaint.\n",
      "\"Ultimately, the (organization) decided not to move forward with the murder plot, but Mata still received a payment for setting up the meetings,\" federal prosecutors said in a statement.\n",
      "The complaint also alleges that Mata used his police badge to purchase weapons for drug traffickers.\n",
      "Mata, according to the complaint, then used contacts at the airport to transport the weapons in his carry-on luggage on trips from Miami to the Dominican Republic.\n",
      "Court documents released by investigators do not specify the name of the drug trafficking organization with which Mata allegedly conspired but says the organization has been importing narcotics from places such as Ecuador and the Dominican Republic by hiding them \"inside shipping containers containing pallets of produce, including bananas.\"\n",
      "The organization \"has been distributing narcotics in New Jersey and elsewhere,\" the complaint says.\n",
      "Authorities arrested Mata on Tuesday in Miami Gardens, Florida.\n",
      "It was not immediately clear whether Mata has an attorney, and police officials could not be immediately reached for comment.\n",
      "Mata has worked for the Miami-Dade Police Department since 1992, including directing investigations in Miami Gardens and working as a lieutenant in the K-9 unit at Miami International Airport, according to the complaint.\n",
      "Since March 2010, he had been working in the internal affairs division.\n",
      "Mata faces charges of aiding and abetting a conspiracy to distribute cocaine, conspiring to distribute cocaine and engaging in monetary transactions in property derived from specified unlawful activity.\n",
      "He is scheduled to appear in federal court in Florida on Wednesday.\n",
      "If convicted, Mata could face life in prison.\n",
      "CNN's Suzanne Presto contributed to this report.\n"
     ]
    },
    {
     "data": {
      "text/plain": [
       "'A criminal complaint unsealed in U.S. District Court in New Jersey Tuesday accuses Mata, also known as \"The Milk Man,\" of using his role as a police officer to help the drug trafficking organization in exchange for money and gifts, including a Rolex watch. \"Ultimately, the (organization) decided not to move forward with the murder plot, but Mata still received a payment for setting up the meetings,\" federal prosecutors said in a statement. Mata has worked for the Miami-Dade Police Department since 1992, including directing investigations in Miami Gardens and working as a lieutenant in the K-9 unit at Miami International Airport, according to the complaint.'"
      ]
     },
     "execution_count": 56,
     "metadata": {},
     "output_type": "execute_result"
    }
   ],
   "source": []
  },
  {
   "cell_type": "code",
   "execution_count": 71,
   "id": "db336260",
   "metadata": {},
   "outputs": [
    {
     "name": "stdout",
     "output_type": "stream",
     "text": [
      "debug: sentences:\n",
      "By .\n",
      "Associated Press .\n",
      "PUBLISHED: .\n",
      "14:11 EST, 25 October 2013 .\n",
      "| .\n",
      "UPDATED: .\n",
      "15:36 EST, 25 October 2013 .\n",
      "The bishop of the Fargo Catholic Diocese in North Dakota has exposed potentially hundreds of church members in Fargo, Grand Forks and Jamestown to the hepatitis A virus in late September and early October.\n",
      "The state Health Department has issued an advisory of exposure for anyone who attended five churches and took communion.\n",
      "Bishop John Folda (pictured) of the Fargo Catholic Diocese in North Dakota has exposed potentially hundreds of church members in Fargo, Grand Forks and Jamestown to the hepatitis A .\n",
      "State Immunization Program Manager Molly Howell says the risk is low, but officials feel it's important to alert people to the possible exposure.\n",
      "The diocese announced on Monday that Bishop John Folda is taking time off after being diagnosed with hepatitis A.\n",
      "The diocese says he contracted the infection through contaminated food while attending a conference for newly ordained bishops in Italy last month.\n",
      "Symptoms of hepatitis A include fever, tiredness, loss of appetite, nausea and abdominal discomfort.\n",
      "Fargo Catholic Diocese in North Dakota (pictured) is where the bishop is located .\n",
      "--------------------------------------------------\n",
      "Bishop John Folda (pictured) of the Fargo Catholic Diocese in North Dakota has exposed potentially hundreds of church members in Fargo, Grand Forks and Jamestown to the hepatitis A . The diocese announced on Monday that Bishop John Folda is taking time off after being diagnosed with hepatitis A. Fargo Catholic Diocese in North Dakota (pictured) is where the bishop is located .\n",
      "--------------------------------------------------\n",
      "Bishop John Folda, of North Dakota, is taking time off after being diagnosed .\n",
      "He contracted the infection through contaminated food in Italy .\n",
      "Church members in Fargo, Grand Forks and Jamestown could have been exposed .\n"
     ]
    },
    {
     "data": {
      "text/plain": [
       "[{'rouge-1': {'r': 0.6060606060606061,\n",
       "   'p': 0.46511627906976744,\n",
       "   'f': 0.5263157845602493},\n",
       "  'rouge-2': {'r': 0.3939393939393939, 'p': 0.25, 'f': 0.3058823481910035},\n",
       "  'rouge-l': {'r': 0.5757575757575758,\n",
       "   'p': 0.4418604651162791,\n",
       "   'f': 0.4999999950865652}}]"
      ]
     },
     "execution_count": 71,
     "metadata": {},
     "output_type": "execute_result"
    }
   ],
   "source": [
    "text_0 = train_list[0]\n",
    "hyp0 = summarizer.summarize(text_0['article'].numpy().decode('utf-8'), k=3)\n",
    "ref0 = text_0['highlights'].numpy().decode('utf-8')\n",
    "print('-' * 50)\n",
    "print(hyp0)\n",
    "print('-' * 50)\n",
    "print(ref0)\n",
    "rouge.get_scores(hyp0, ref0)"
   ]
  },
  {
   "cell_type": "code",
   "execution_count": 68,
   "id": "620ca0a8",
   "metadata": {},
   "outputs": [
    {
     "name": "stdout",
     "output_type": "stream",
     "text": [
      "debug: sentences:\n",
      "(CNN) -- Ralph Mata was an internal affairs lieutenant for the Miami-Dade Police Department, working in the division that investigates allegations of wrongdoing by cops.\n",
      "Outside the office, authorities allege that the 45-year-old longtime officer worked with a drug trafficking organization to help plan a murder plot and get guns.\n",
      "A criminal complaint unsealed in U.S. District Court in New Jersey Tuesday accuses Mata, also known as \"The Milk Man,\" of using his role as a police officer to help the drug trafficking organization in exchange for money and gifts, including a Rolex watch.\n",
      "In one instance, the complaint alleges, Mata arranged to pay two assassins to kill rival drug dealers.\n",
      "The killers would pose as cops, pulling over their targets before shooting them, according to the complaint.\n",
      "\"Ultimately, the (organization) decided not to move forward with the murder plot, but Mata still received a payment for setting up the meetings,\" federal prosecutors said in a statement.\n",
      "The complaint also alleges that Mata used his police badge to purchase weapons for drug traffickers.\n",
      "Mata, according to the complaint, then used contacts at the airport to transport the weapons in his carry-on luggage on trips from Miami to the Dominican Republic.\n",
      "Court documents released by investigators do not specify the name of the drug trafficking organization with which Mata allegedly conspired but says the organization has been importing narcotics from places such as Ecuador and the Dominican Republic by hiding them \"inside shipping containers containing pallets of produce, including bananas.\"\n",
      "The organization \"has been distributing narcotics in New Jersey and elsewhere,\" the complaint says.\n",
      "Authorities arrested Mata on Tuesday in Miami Gardens, Florida.\n",
      "It was not immediately clear whether Mata has an attorney, and police officials could not be immediately reached for comment.\n",
      "Mata has worked for the Miami-Dade Police Department since 1992, including directing investigations in Miami Gardens and working as a lieutenant in the K-9 unit at Miami International Airport, according to the complaint.\n",
      "Since March 2010, he had been working in the internal affairs division.\n",
      "Mata faces charges of aiding and abetting a conspiracy to distribute cocaine, conspiring to distribute cocaine and engaging in monetary transactions in property derived from specified unlawful activity.\n",
      "He is scheduled to appear in federal court in Florida on Wednesday.\n",
      "If convicted, Mata could face life in prison.\n",
      "CNN's Suzanne Presto contributed to this report.\n"
     ]
    },
    {
     "data": {
      "text/plain": [
       "[{'rouge-1': {'r': 0.3333333333333333,\n",
       "   'p': 0.13580246913580246,\n",
       "   'f': 0.19298245202677755},\n",
       "  'rouge-2': {'r': 0.11764705882352941,\n",
       "   'p': 0.0380952380952381,\n",
       "   'f': 0.057553953139071724},\n",
       "  'rouge-l': {'r': 0.3333333333333333,\n",
       "   'p': 0.13580246913580246,\n",
       "   'f': 0.19298245202677755}}]"
      ]
     },
     "execution_count": 68,
     "metadata": {},
     "output_type": "execute_result"
    }
   ],
   "source": [
    "text_1 = train_list[1]\n",
    "hyp1 = summarizer.summarize(text_1['article'].numpy().decode('utf-8'), k=3)\n",
    "ref1 = text_1['highlights'].numpy().decode('utf-8')\n",
    "rouge.get_scores(hyp1, ref1)"
   ]
  },
  {
   "cell_type": "code",
   "execution_count": 70,
   "id": "8655f4fc",
   "metadata": {},
   "outputs": [
    {
     "data": {
      "text/plain": [
       "{'rouge-1': {'r': 0.4696969696969697,\n",
       "  'p': 0.30045937410278495,\n",
       "  'f': 0.3596491182935134},\n",
       " 'rouge-2': {'r': 0.2557932263814617,\n",
       "  'p': 0.14404761904761904,\n",
       "  'f': 0.18171815066503763},\n",
       " 'rouge-l': {'r': 0.4545454545454546,\n",
       "  'p': 0.2888314671260408,\n",
       "  'f': 0.3464912235566714}}"
      ]
     },
     "execution_count": 70,
     "metadata": {},
     "output_type": "execute_result"
    }
   ],
   "source": [
    "rouge.get_scores([hyp0, hyp1], [ref0, ref1], avg=True)"
   ]
  },
  {
   "cell_type": "markdown",
   "id": "506cb990",
   "metadata": {},
   "source": [
    "## Evaluating SingleLangSummarizer (no stopwords removal, no lemmatizing) with FastText english model on cnn_dailymail"
   ]
  },
  {
   "cell_type": "markdown",
   "id": "b51a2e92",
   "metadata": {},
   "source": [
    "### Train"
   ]
  },
  {
   "cell_type": "code",
   "execution_count": 30,
   "id": "e2ec7c8d",
   "metadata": {
    "scrolled": true
   },
   "outputs": [
    {
     "name": "stderr",
     "output_type": "stream",
     "text": [
      "2021-08-21 20:07:39.801410: I tensorflow/stream_executor/cuda/cuda_gpu_executor.cc:937] successful NUMA node read from SysFS had negative value (-1), but there must be at least one NUMA node, so returning NUMA node zero\n",
      "2021-08-21 20:07:39.854460: W tensorflow/stream_executor/platform/default/dso_loader.cc:64] Could not load dynamic library 'libcudnn.so.8'; dlerror: libcudnn.so.8: cannot open shared object file: No such file or directory\n",
      "2021-08-21 20:07:39.854513: W tensorflow/core/common_runtime/gpu/gpu_device.cc:1835] Cannot dlopen some GPU libraries. Please make sure the missing libraries mentioned above are installed properly if you would like to use GPU. Follow the guide at https://www.tensorflow.org/install/gpu for how to download and setup the required libraries for your platform.\n",
      "Skipping registering GPU devices...\n",
      "2021-08-21 20:07:39.855851: I tensorflow/core/platform/cpu_feature_guard.cc:142] This TensorFlow binary is optimized with oneAPI Deep Neural Network Library (oneDNN) to use the following CPU instructions in performance-critical operations:  AVX2 FMA\n",
      "To enable them in other operations, rebuild TensorFlow with the appropriate compiler flags.\n"
     ]
    },
    {
     "data": {
      "text/plain": [
       "{'train': <PrefetchDataset shapes: {article: (), highlights: ()}, types: {article: tf.string, highlights: tf.string}>,\n",
       " 'validation': <PrefetchDataset shapes: {article: (), highlights: ()}, types: {article: tf.string, highlights: tf.string}>,\n",
       " 'test': <PrefetchDataset shapes: {article: (), highlights: ()}, types: {article: tf.string, highlights: tf.string}>}"
      ]
     },
     "execution_count": 30,
     "metadata": {},
     "output_type": "execute_result"
    }
   ],
   "source": [
    "# Getting dataset\n",
    "ds, ds_info = tfds.load('cnn_dailymail', with_info=True)\n",
    "ds"
   ]
  },
  {
   "cell_type": "code",
   "execution_count": 5,
   "id": "3ac4edcf",
   "metadata": {},
   "outputs": [],
   "source": [
    "# Initializing summarizer\n",
    "summarizer = SingleLangSummarizer(ft_en)"
   ]
  },
  {
   "cell_type": "code",
   "execution_count": 11,
   "id": "167a08d3",
   "metadata": {},
   "outputs": [],
   "source": [
    "# Defining function for evaluation\n",
    "def evaluate_cnn_dailymail(summarizer, data, k: int = 3):\n",
    "    hyps, refs = [], []\n",
    "    for sample in tqdm(data):\n",
    "        text = sample['article'].numpy().decode('utf-8')\n",
    "        ref = sample['highlights'].numpy().decode('utf-8')\n",
    "        hyp = summarizer.summarize(text, k)\n",
    "        hyps.append(hyp)\n",
    "        refs.append(ref)\n",
    "    print(json.dumps(rouge.get_scores(hyps, refs, avg=True), indent=4))"
   ]
  },
  {
   "cell_type": "code",
   "execution_count": 7,
   "id": "758ea922",
   "metadata": {},
   "outputs": [
    {
     "name": "stderr",
     "output_type": "stream",
     "text": [
      "2021-08-11 15:55:57.209068: I tensorflow/compiler/mlir/mlir_graph_optimization_pass.cc:176] None of the MLIR Optimization Passes are enabled (registered 2)\n",
      "2021-08-11 15:55:57.228297: I tensorflow/core/platform/profile_utils/cpu_utils.cc:114] CPU Frequency: 2199995000 Hz\n",
      "  1%|▋                                                                       | 2772/287113 [07:43<13:11:35,  5.99it/s]\n"
     ]
    },
    {
     "ename": "KeyboardInterrupt",
     "evalue": "",
     "output_type": "error",
     "traceback": [
      "\u001b[0;31m---------------------------------------------------------------------------\u001b[0m",
      "\u001b[0;31mKeyboardInterrupt\u001b[0m                         Traceback (most recent call last)",
      "\u001b[0;32m/tmp/ipykernel_9088/814340623.py\u001b[0m in \u001b[0;36m<module>\u001b[0;34m\u001b[0m\n\u001b[1;32m      1\u001b[0m \u001b[0;31m# Train\u001b[0m\u001b[0;34m\u001b[0m\u001b[0;34m\u001b[0m\u001b[0;34m\u001b[0m\u001b[0m\n\u001b[0;32m----> 2\u001b[0;31m \u001b[0mevaluate_cnn_dailymail\u001b[0m\u001b[0;34m(\u001b[0m\u001b[0msummarizer\u001b[0m\u001b[0;34m,\u001b[0m \u001b[0mlist\u001b[0m\u001b[0;34m(\u001b[0m\u001b[0mds\u001b[0m\u001b[0;34m[\u001b[0m\u001b[0;34m'train'\u001b[0m\u001b[0;34m]\u001b[0m\u001b[0;34m)\u001b[0m\u001b[0;34m)\u001b[0m\u001b[0;34m\u001b[0m\u001b[0;34m\u001b[0m\u001b[0m\n\u001b[0m",
      "\u001b[0;32m/tmp/ipykernel_9088/2979973242.py\u001b[0m in \u001b[0;36mevaluate_cnn_dailymail\u001b[0;34m(summarizer, data, k)\u001b[0m\n\u001b[1;32m      5\u001b[0m         \u001b[0mtext\u001b[0m \u001b[0;34m=\u001b[0m \u001b[0msample\u001b[0m\u001b[0;34m[\u001b[0m\u001b[0;34m'article'\u001b[0m\u001b[0;34m]\u001b[0m\u001b[0;34m.\u001b[0m\u001b[0mnumpy\u001b[0m\u001b[0;34m(\u001b[0m\u001b[0;34m)\u001b[0m\u001b[0;34m.\u001b[0m\u001b[0mdecode\u001b[0m\u001b[0;34m(\u001b[0m\u001b[0;34m'utf-8'\u001b[0m\u001b[0;34m)\u001b[0m\u001b[0;34m\u001b[0m\u001b[0;34m\u001b[0m\u001b[0m\n\u001b[1;32m      6\u001b[0m         \u001b[0mref\u001b[0m \u001b[0;34m=\u001b[0m \u001b[0msample\u001b[0m\u001b[0;34m[\u001b[0m\u001b[0;34m'highlights'\u001b[0m\u001b[0;34m]\u001b[0m\u001b[0;34m.\u001b[0m\u001b[0mnumpy\u001b[0m\u001b[0;34m(\u001b[0m\u001b[0;34m)\u001b[0m\u001b[0;34m.\u001b[0m\u001b[0mdecode\u001b[0m\u001b[0;34m(\u001b[0m\u001b[0;34m'utf-8'\u001b[0m\u001b[0;34m)\u001b[0m\u001b[0;34m\u001b[0m\u001b[0;34m\u001b[0m\u001b[0m\n\u001b[0;32m----> 7\u001b[0;31m         \u001b[0mhyp\u001b[0m \u001b[0;34m=\u001b[0m \u001b[0msummarizer\u001b[0m\u001b[0;34m.\u001b[0m\u001b[0msummarize\u001b[0m\u001b[0;34m(\u001b[0m\u001b[0mtext\u001b[0m\u001b[0;34m,\u001b[0m \u001b[0mk\u001b[0m\u001b[0;34m)\u001b[0m\u001b[0;34m\u001b[0m\u001b[0;34m\u001b[0m\u001b[0m\n\u001b[0m\u001b[1;32m      8\u001b[0m         \u001b[0mhyps\u001b[0m\u001b[0;34m.\u001b[0m\u001b[0mappend\u001b[0m\u001b[0;34m(\u001b[0m\u001b[0mhyp\u001b[0m\u001b[0;34m)\u001b[0m\u001b[0;34m\u001b[0m\u001b[0;34m\u001b[0m\u001b[0m\n\u001b[1;32m      9\u001b[0m         \u001b[0mrefs\u001b[0m\u001b[0;34m.\u001b[0m\u001b[0mappend\u001b[0m\u001b[0;34m(\u001b[0m\u001b[0mref\u001b[0m\u001b[0;34m)\u001b[0m\u001b[0;34m\u001b[0m\u001b[0;34m\u001b[0m\u001b[0m\n",
      "\u001b[0;32m/tmp/ipykernel_9088/1093383447.py\u001b[0m in \u001b[0;36msummarize\u001b[0;34m(self, text, k)\u001b[0m\n\u001b[1;32m     31\u001b[0m \u001b[0;31m#         print(*sentences, sep='\\n')\u001b[0m\u001b[0;34m\u001b[0m\u001b[0;34m\u001b[0m\u001b[0;34m\u001b[0m\u001b[0m\n\u001b[1;32m     32\u001b[0m         \u001b[0mvecs\u001b[0m \u001b[0;34m=\u001b[0m \u001b[0;34m[\u001b[0m\u001b[0mself\u001b[0m\u001b[0;34m.\u001b[0m\u001b[0m_sentence_to_vec\u001b[0m\u001b[0;34m(\u001b[0m\u001b[0ms\u001b[0m\u001b[0;34m)\u001b[0m \u001b[0;32mfor\u001b[0m \u001b[0ms\u001b[0m \u001b[0;32min\u001b[0m \u001b[0msentences\u001b[0m\u001b[0;34m]\u001b[0m\u001b[0;34m\u001b[0m\u001b[0;34m\u001b[0m\u001b[0m\n\u001b[0;32m---> 33\u001b[0;31m         \u001b[0mmatrix\u001b[0m \u001b[0;34m=\u001b[0m \u001b[0mself\u001b[0m\u001b[0;34m.\u001b[0m\u001b[0m_get_similarity_matrix\u001b[0m\u001b[0;34m(\u001b[0m\u001b[0mvecs\u001b[0m\u001b[0;34m)\u001b[0m\u001b[0;34m\u001b[0m\u001b[0;34m\u001b[0m\u001b[0m\n\u001b[0m\u001b[1;32m     34\u001b[0m         \u001b[0mnx_graph\u001b[0m \u001b[0;34m=\u001b[0m \u001b[0mnx\u001b[0m\u001b[0;34m.\u001b[0m\u001b[0mfrom_numpy_array\u001b[0m\u001b[0;34m(\u001b[0m\u001b[0mmatrix\u001b[0m\u001b[0;34m)\u001b[0m\u001b[0;34m\u001b[0m\u001b[0;34m\u001b[0m\u001b[0m\n\u001b[1;32m     35\u001b[0m         \u001b[0mscores\u001b[0m \u001b[0;34m=\u001b[0m \u001b[0mnx\u001b[0m\u001b[0;34m.\u001b[0m\u001b[0mpagerank\u001b[0m\u001b[0;34m(\u001b[0m\u001b[0mnx_graph\u001b[0m\u001b[0;34m)\u001b[0m\u001b[0;34m\u001b[0m\u001b[0;34m\u001b[0m\u001b[0m\n",
      "\u001b[0;32m/tmp/ipykernel_9088/1093383447.py\u001b[0m in \u001b[0;36m_get_similarity_matrix\u001b[0;34m(self, sentences)\u001b[0m\n\u001b[1;32m     22\u001b[0m         \u001b[0mmatrix\u001b[0m \u001b[0;34m=\u001b[0m \u001b[0mnp\u001b[0m\u001b[0;34m.\u001b[0m\u001b[0mzeros\u001b[0m\u001b[0;34m(\u001b[0m\u001b[0;34m(\u001b[0m\u001b[0mlen\u001b[0m\u001b[0;34m(\u001b[0m\u001b[0msentences\u001b[0m\u001b[0;34m)\u001b[0m\u001b[0;34m,\u001b[0m \u001b[0mlen\u001b[0m\u001b[0;34m(\u001b[0m\u001b[0msentences\u001b[0m\u001b[0;34m)\u001b[0m\u001b[0;34m)\u001b[0m\u001b[0;34m,\u001b[0m \u001b[0mdtype\u001b[0m\u001b[0;34m=\u001b[0m\u001b[0mnp\u001b[0m\u001b[0;34m.\u001b[0m\u001b[0mfloat32\u001b[0m\u001b[0;34m)\u001b[0m\u001b[0;34m\u001b[0m\u001b[0;34m\u001b[0m\u001b[0m\n\u001b[1;32m     23\u001b[0m         \u001b[0;32mfor\u001b[0m \u001b[0mi\u001b[0m\u001b[0;34m,\u001b[0m \u001b[0mj\u001b[0m \u001b[0;32min\u001b[0m \u001b[0mcombinations\u001b[0m\u001b[0;34m(\u001b[0m\u001b[0mrange\u001b[0m\u001b[0;34m(\u001b[0m\u001b[0mlen\u001b[0m\u001b[0;34m(\u001b[0m\u001b[0msentences\u001b[0m\u001b[0;34m)\u001b[0m\u001b[0;34m)\u001b[0m\u001b[0;34m,\u001b[0m \u001b[0;36m2\u001b[0m\u001b[0;34m)\u001b[0m\u001b[0;34m:\u001b[0m\u001b[0;34m\u001b[0m\u001b[0;34m\u001b[0m\u001b[0m\n\u001b[0;32m---> 24\u001b[0;31m             \u001b[0msimilarity\u001b[0m \u001b[0;34m=\u001b[0m \u001b[0mcosine_similarity\u001b[0m\u001b[0;34m(\u001b[0m\u001b[0msentences\u001b[0m\u001b[0;34m[\u001b[0m\u001b[0mi\u001b[0m\u001b[0;34m]\u001b[0m\u001b[0;34m.\u001b[0m\u001b[0mreshape\u001b[0m\u001b[0;34m(\u001b[0m\u001b[0;36m1\u001b[0m\u001b[0;34m,\u001b[0m \u001b[0;34m-\u001b[0m\u001b[0;36m1\u001b[0m\u001b[0;34m)\u001b[0m\u001b[0;34m,\u001b[0m \u001b[0msentences\u001b[0m\u001b[0;34m[\u001b[0m\u001b[0mj\u001b[0m\u001b[0;34m]\u001b[0m\u001b[0;34m.\u001b[0m\u001b[0mreshape\u001b[0m\u001b[0;34m(\u001b[0m\u001b[0;36m1\u001b[0m\u001b[0;34m,\u001b[0m \u001b[0;34m-\u001b[0m\u001b[0;36m1\u001b[0m\u001b[0;34m)\u001b[0m\u001b[0;34m)\u001b[0m\u001b[0;34m\u001b[0m\u001b[0;34m\u001b[0m\u001b[0m\n\u001b[0m\u001b[1;32m     25\u001b[0m             \u001b[0mmatrix\u001b[0m\u001b[0;34m[\u001b[0m\u001b[0mi\u001b[0m\u001b[0;34m]\u001b[0m\u001b[0;34m[\u001b[0m\u001b[0mj\u001b[0m\u001b[0;34m]\u001b[0m \u001b[0;34m=\u001b[0m \u001b[0mmatrix\u001b[0m\u001b[0;34m[\u001b[0m\u001b[0mj\u001b[0m\u001b[0;34m]\u001b[0m\u001b[0;34m[\u001b[0m\u001b[0mi\u001b[0m\u001b[0;34m]\u001b[0m \u001b[0;34m=\u001b[0m \u001b[0msimilarity\u001b[0m\u001b[0;34m\u001b[0m\u001b[0;34m\u001b[0m\u001b[0m\n\u001b[1;32m     26\u001b[0m         \u001b[0;32mreturn\u001b[0m \u001b[0mmatrix\u001b[0m\u001b[0;34m\u001b[0m\u001b[0;34m\u001b[0m\u001b[0m\n",
      "\u001b[0;32m~/Work/interviews/aspose/venv/lib/python3.8/site-packages/sklearn/metrics/pairwise.py\u001b[0m in \u001b[0;36mcosine_similarity\u001b[0;34m(X, Y, dense_output)\u001b[0m\n\u001b[1;32m   1180\u001b[0m     \u001b[0mX\u001b[0m\u001b[0;34m,\u001b[0m \u001b[0mY\u001b[0m \u001b[0;34m=\u001b[0m \u001b[0mcheck_pairwise_arrays\u001b[0m\u001b[0;34m(\u001b[0m\u001b[0mX\u001b[0m\u001b[0;34m,\u001b[0m \u001b[0mY\u001b[0m\u001b[0;34m)\u001b[0m\u001b[0;34m\u001b[0m\u001b[0;34m\u001b[0m\u001b[0m\n\u001b[1;32m   1181\u001b[0m \u001b[0;34m\u001b[0m\u001b[0m\n\u001b[0;32m-> 1182\u001b[0;31m     \u001b[0mX_normalized\u001b[0m \u001b[0;34m=\u001b[0m \u001b[0mnormalize\u001b[0m\u001b[0;34m(\u001b[0m\u001b[0mX\u001b[0m\u001b[0;34m,\u001b[0m \u001b[0mcopy\u001b[0m\u001b[0;34m=\u001b[0m\u001b[0;32mTrue\u001b[0m\u001b[0;34m)\u001b[0m\u001b[0;34m\u001b[0m\u001b[0;34m\u001b[0m\u001b[0m\n\u001b[0m\u001b[1;32m   1183\u001b[0m     \u001b[0;32mif\u001b[0m \u001b[0mX\u001b[0m \u001b[0;32mis\u001b[0m \u001b[0mY\u001b[0m\u001b[0;34m:\u001b[0m\u001b[0;34m\u001b[0m\u001b[0;34m\u001b[0m\u001b[0m\n\u001b[1;32m   1184\u001b[0m         \u001b[0mY_normalized\u001b[0m \u001b[0;34m=\u001b[0m \u001b[0mX_normalized\u001b[0m\u001b[0;34m\u001b[0m\u001b[0;34m\u001b[0m\u001b[0m\n",
      "\u001b[0;32m~/Work/interviews/aspose/venv/lib/python3.8/site-packages/sklearn/utils/validation.py\u001b[0m in \u001b[0;36minner_f\u001b[0;34m(*args, **kwargs)\u001b[0m\n\u001b[1;32m     61\u001b[0m             \u001b[0mextra_args\u001b[0m \u001b[0;34m=\u001b[0m \u001b[0mlen\u001b[0m\u001b[0;34m(\u001b[0m\u001b[0margs\u001b[0m\u001b[0;34m)\u001b[0m \u001b[0;34m-\u001b[0m \u001b[0mlen\u001b[0m\u001b[0;34m(\u001b[0m\u001b[0mall_args\u001b[0m\u001b[0;34m)\u001b[0m\u001b[0;34m\u001b[0m\u001b[0;34m\u001b[0m\u001b[0m\n\u001b[1;32m     62\u001b[0m             \u001b[0;32mif\u001b[0m \u001b[0mextra_args\u001b[0m \u001b[0;34m<=\u001b[0m \u001b[0;36m0\u001b[0m\u001b[0;34m:\u001b[0m\u001b[0;34m\u001b[0m\u001b[0;34m\u001b[0m\u001b[0m\n\u001b[0;32m---> 63\u001b[0;31m                 \u001b[0;32mreturn\u001b[0m \u001b[0mf\u001b[0m\u001b[0;34m(\u001b[0m\u001b[0;34m*\u001b[0m\u001b[0margs\u001b[0m\u001b[0;34m,\u001b[0m \u001b[0;34m**\u001b[0m\u001b[0mkwargs\u001b[0m\u001b[0;34m)\u001b[0m\u001b[0;34m\u001b[0m\u001b[0;34m\u001b[0m\u001b[0m\n\u001b[0m\u001b[1;32m     64\u001b[0m \u001b[0;34m\u001b[0m\u001b[0m\n\u001b[1;32m     65\u001b[0m             \u001b[0;31m# extra_args > 0\u001b[0m\u001b[0;34m\u001b[0m\u001b[0;34m\u001b[0m\u001b[0;34m\u001b[0m\u001b[0m\n",
      "\u001b[0;32m~/Work/interviews/aspose/venv/lib/python3.8/site-packages/sklearn/preprocessing/_data.py\u001b[0m in \u001b[0;36mnormalize\u001b[0;34m(X, norm, axis, copy, return_norm)\u001b[0m\n\u001b[1;32m   1902\u001b[0m         \u001b[0;32mraise\u001b[0m \u001b[0mValueError\u001b[0m\u001b[0;34m(\u001b[0m\u001b[0;34m\"'%d' is not a supported axis\"\u001b[0m \u001b[0;34m%\u001b[0m \u001b[0maxis\u001b[0m\u001b[0;34m)\u001b[0m\u001b[0;34m\u001b[0m\u001b[0;34m\u001b[0m\u001b[0m\n\u001b[1;32m   1903\u001b[0m \u001b[0;34m\u001b[0m\u001b[0m\n\u001b[0;32m-> 1904\u001b[0;31m     X = check_array(X, accept_sparse=sparse_format, copy=copy,\n\u001b[0m\u001b[1;32m   1905\u001b[0m                     estimator='the normalize function', dtype=FLOAT_DTYPES)\n\u001b[1;32m   1906\u001b[0m     \u001b[0;32mif\u001b[0m \u001b[0maxis\u001b[0m \u001b[0;34m==\u001b[0m \u001b[0;36m0\u001b[0m\u001b[0;34m:\u001b[0m\u001b[0;34m\u001b[0m\u001b[0;34m\u001b[0m\u001b[0m\n",
      "\u001b[0;32m~/Work/interviews/aspose/venv/lib/python3.8/site-packages/sklearn/utils/validation.py\u001b[0m in \u001b[0;36minner_f\u001b[0;34m(*args, **kwargs)\u001b[0m\n\u001b[1;32m     61\u001b[0m             \u001b[0mextra_args\u001b[0m \u001b[0;34m=\u001b[0m \u001b[0mlen\u001b[0m\u001b[0;34m(\u001b[0m\u001b[0margs\u001b[0m\u001b[0;34m)\u001b[0m \u001b[0;34m-\u001b[0m \u001b[0mlen\u001b[0m\u001b[0;34m(\u001b[0m\u001b[0mall_args\u001b[0m\u001b[0;34m)\u001b[0m\u001b[0;34m\u001b[0m\u001b[0;34m\u001b[0m\u001b[0m\n\u001b[1;32m     62\u001b[0m             \u001b[0;32mif\u001b[0m \u001b[0mextra_args\u001b[0m \u001b[0;34m<=\u001b[0m \u001b[0;36m0\u001b[0m\u001b[0;34m:\u001b[0m\u001b[0;34m\u001b[0m\u001b[0;34m\u001b[0m\u001b[0m\n\u001b[0;32m---> 63\u001b[0;31m                 \u001b[0;32mreturn\u001b[0m \u001b[0mf\u001b[0m\u001b[0;34m(\u001b[0m\u001b[0;34m*\u001b[0m\u001b[0margs\u001b[0m\u001b[0;34m,\u001b[0m \u001b[0;34m**\u001b[0m\u001b[0mkwargs\u001b[0m\u001b[0;34m)\u001b[0m\u001b[0;34m\u001b[0m\u001b[0;34m\u001b[0m\u001b[0m\n\u001b[0m\u001b[1;32m     64\u001b[0m \u001b[0;34m\u001b[0m\u001b[0m\n\u001b[1;32m     65\u001b[0m             \u001b[0;31m# extra_args > 0\u001b[0m\u001b[0;34m\u001b[0m\u001b[0;34m\u001b[0m\u001b[0;34m\u001b[0m\u001b[0m\n",
      "\u001b[0;32m~/Work/interviews/aspose/venv/lib/python3.8/site-packages/sklearn/utils/validation.py\u001b[0m in \u001b[0;36mcheck_array\u001b[0;34m(array, accept_sparse, accept_large_sparse, dtype, order, copy, force_all_finite, ensure_2d, allow_nd, ensure_min_samples, ensure_min_features, estimator)\u001b[0m\n\u001b[1;32m    718\u001b[0m \u001b[0;34m\u001b[0m\u001b[0m\n\u001b[1;32m    719\u001b[0m         \u001b[0;32mif\u001b[0m \u001b[0mforce_all_finite\u001b[0m\u001b[0;34m:\u001b[0m\u001b[0;34m\u001b[0m\u001b[0;34m\u001b[0m\u001b[0m\n\u001b[0;32m--> 720\u001b[0;31m             _assert_all_finite(array,\n\u001b[0m\u001b[1;32m    721\u001b[0m                                allow_nan=force_all_finite == 'allow-nan')\n\u001b[1;32m    722\u001b[0m \u001b[0;34m\u001b[0m\u001b[0m\n",
      "\u001b[0;32m~/Work/interviews/aspose/venv/lib/python3.8/site-packages/sklearn/utils/validation.py\u001b[0m in \u001b[0;36m_assert_all_finite\u001b[0;34m(X, allow_nan, msg_dtype)\u001b[0m\n\u001b[1;32m     94\u001b[0m     \u001b[0;31m# safely to reduce dtype induced overflows.\u001b[0m\u001b[0;34m\u001b[0m\u001b[0;34m\u001b[0m\u001b[0;34m\u001b[0m\u001b[0m\n\u001b[1;32m     95\u001b[0m     \u001b[0mis_float\u001b[0m \u001b[0;34m=\u001b[0m \u001b[0mX\u001b[0m\u001b[0;34m.\u001b[0m\u001b[0mdtype\u001b[0m\u001b[0;34m.\u001b[0m\u001b[0mkind\u001b[0m \u001b[0;32min\u001b[0m \u001b[0;34m'fc'\u001b[0m\u001b[0;34m\u001b[0m\u001b[0;34m\u001b[0m\u001b[0m\n\u001b[0;32m---> 96\u001b[0;31m     \u001b[0;32mif\u001b[0m \u001b[0mis_float\u001b[0m \u001b[0;32mand\u001b[0m \u001b[0;34m(\u001b[0m\u001b[0mnp\u001b[0m\u001b[0;34m.\u001b[0m\u001b[0misfinite\u001b[0m\u001b[0;34m(\u001b[0m\u001b[0m_safe_accumulator_op\u001b[0m\u001b[0;34m(\u001b[0m\u001b[0mnp\u001b[0m\u001b[0;34m.\u001b[0m\u001b[0msum\u001b[0m\u001b[0;34m,\u001b[0m \u001b[0mX\u001b[0m\u001b[0;34m)\u001b[0m\u001b[0;34m)\u001b[0m\u001b[0;34m)\u001b[0m\u001b[0;34m:\u001b[0m\u001b[0;34m\u001b[0m\u001b[0;34m\u001b[0m\u001b[0m\n\u001b[0m\u001b[1;32m     97\u001b[0m         \u001b[0;32mpass\u001b[0m\u001b[0;34m\u001b[0m\u001b[0;34m\u001b[0m\u001b[0m\n\u001b[1;32m     98\u001b[0m     \u001b[0;32melif\u001b[0m \u001b[0mis_float\u001b[0m\u001b[0;34m:\u001b[0m\u001b[0;34m\u001b[0m\u001b[0;34m\u001b[0m\u001b[0m\n",
      "\u001b[0;32m~/Work/interviews/aspose/venv/lib/python3.8/site-packages/sklearn/utils/extmath.py\u001b[0m in \u001b[0;36m_safe_accumulator_op\u001b[0;34m(op, x, *args, **kwargs)\u001b[0m\n\u001b[1;32m    685\u001b[0m     \"\"\"\n\u001b[1;32m    686\u001b[0m     \u001b[0;32mif\u001b[0m \u001b[0mnp\u001b[0m\u001b[0;34m.\u001b[0m\u001b[0missubdtype\u001b[0m\u001b[0;34m(\u001b[0m\u001b[0mx\u001b[0m\u001b[0;34m.\u001b[0m\u001b[0mdtype\u001b[0m\u001b[0;34m,\u001b[0m \u001b[0mnp\u001b[0m\u001b[0;34m.\u001b[0m\u001b[0mfloating\u001b[0m\u001b[0;34m)\u001b[0m \u001b[0;32mand\u001b[0m \u001b[0mx\u001b[0m\u001b[0;34m.\u001b[0m\u001b[0mdtype\u001b[0m\u001b[0;34m.\u001b[0m\u001b[0mitemsize\u001b[0m \u001b[0;34m<\u001b[0m \u001b[0;36m8\u001b[0m\u001b[0;34m:\u001b[0m\u001b[0;34m\u001b[0m\u001b[0;34m\u001b[0m\u001b[0m\n\u001b[0;32m--> 687\u001b[0;31m         \u001b[0mresult\u001b[0m \u001b[0;34m=\u001b[0m \u001b[0mop\u001b[0m\u001b[0;34m(\u001b[0m\u001b[0mx\u001b[0m\u001b[0;34m,\u001b[0m \u001b[0;34m*\u001b[0m\u001b[0margs\u001b[0m\u001b[0;34m,\u001b[0m \u001b[0;34m**\u001b[0m\u001b[0mkwargs\u001b[0m\u001b[0;34m,\u001b[0m \u001b[0mdtype\u001b[0m\u001b[0;34m=\u001b[0m\u001b[0mnp\u001b[0m\u001b[0;34m.\u001b[0m\u001b[0mfloat64\u001b[0m\u001b[0;34m)\u001b[0m\u001b[0;34m\u001b[0m\u001b[0;34m\u001b[0m\u001b[0m\n\u001b[0m\u001b[1;32m    688\u001b[0m     \u001b[0;32melse\u001b[0m\u001b[0;34m:\u001b[0m\u001b[0;34m\u001b[0m\u001b[0;34m\u001b[0m\u001b[0m\n\u001b[1;32m    689\u001b[0m         \u001b[0mresult\u001b[0m \u001b[0;34m=\u001b[0m \u001b[0mop\u001b[0m\u001b[0;34m(\u001b[0m\u001b[0mx\u001b[0m\u001b[0;34m,\u001b[0m \u001b[0;34m*\u001b[0m\u001b[0margs\u001b[0m\u001b[0;34m,\u001b[0m \u001b[0;34m**\u001b[0m\u001b[0mkwargs\u001b[0m\u001b[0;34m)\u001b[0m\u001b[0;34m\u001b[0m\u001b[0;34m\u001b[0m\u001b[0m\n",
      "\u001b[0;32m<__array_function__ internals>\u001b[0m in \u001b[0;36msum\u001b[0;34m(*args, **kwargs)\u001b[0m\n",
      "\u001b[0;32m~/Work/interviews/aspose/venv/lib/python3.8/site-packages/numpy/core/fromnumeric.py\u001b[0m in \u001b[0;36msum\u001b[0;34m(a, axis, dtype, out, keepdims, initial, where)\u001b[0m\n\u001b[1;32m   2239\u001b[0m         \u001b[0;32mreturn\u001b[0m \u001b[0mres\u001b[0m\u001b[0;34m\u001b[0m\u001b[0;34m\u001b[0m\u001b[0m\n\u001b[1;32m   2240\u001b[0m \u001b[0;34m\u001b[0m\u001b[0m\n\u001b[0;32m-> 2241\u001b[0;31m     return _wrapreduction(a, np.add, 'sum', axis, dtype, out, keepdims=keepdims,\n\u001b[0m\u001b[1;32m   2242\u001b[0m                           initial=initial, where=where)\n\u001b[1;32m   2243\u001b[0m \u001b[0;34m\u001b[0m\u001b[0m\n",
      "\u001b[0;32m~/Work/interviews/aspose/venv/lib/python3.8/site-packages/numpy/core/fromnumeric.py\u001b[0m in \u001b[0;36m_wrapreduction\u001b[0;34m(obj, ufunc, method, axis, dtype, out, **kwargs)\u001b[0m\n\u001b[1;32m     68\u001b[0m \u001b[0;34m\u001b[0m\u001b[0m\n\u001b[1;32m     69\u001b[0m \u001b[0;34m\u001b[0m\u001b[0m\n\u001b[0;32m---> 70\u001b[0;31m \u001b[0;32mdef\u001b[0m \u001b[0m_wrapreduction\u001b[0m\u001b[0;34m(\u001b[0m\u001b[0mobj\u001b[0m\u001b[0;34m,\u001b[0m \u001b[0mufunc\u001b[0m\u001b[0;34m,\u001b[0m \u001b[0mmethod\u001b[0m\u001b[0;34m,\u001b[0m \u001b[0maxis\u001b[0m\u001b[0;34m,\u001b[0m \u001b[0mdtype\u001b[0m\u001b[0;34m,\u001b[0m \u001b[0mout\u001b[0m\u001b[0;34m,\u001b[0m \u001b[0;34m**\u001b[0m\u001b[0mkwargs\u001b[0m\u001b[0;34m)\u001b[0m\u001b[0;34m:\u001b[0m\u001b[0;34m\u001b[0m\u001b[0;34m\u001b[0m\u001b[0m\n\u001b[0m\u001b[1;32m     71\u001b[0m     passkwargs = {k: v for k, v in kwargs.items()\n\u001b[1;32m     72\u001b[0m                   if v is not np._NoValue}\n",
      "\u001b[0;31mKeyboardInterrupt\u001b[0m: "
     ]
    }
   ],
   "source": [
    "# Train\n",
    "evaluate_cnn_dailymail(summarizer, list(ds['train']))"
   ]
  },
  {
   "cell_type": "code",
   "execution_count": 8,
   "id": "d822f02d",
   "metadata": {},
   "outputs": [
    {
     "data": {
      "text/plain": [
       "13368"
      ]
     },
     "execution_count": 8,
     "metadata": {},
     "output_type": "execute_result"
    }
   ],
   "source": [
    "# Validation\n",
    "val = list(ds['validation'])\n",
    "len(val)"
   ]
  },
  {
   "cell_type": "code",
   "execution_count": 12,
   "id": "7b5b3ce6",
   "metadata": {
    "scrolled": true
   },
   "outputs": [
    {
     "name": "stderr",
     "output_type": "stream",
     "text": [
      "100%|███████████████████████████████████████████████████████████████████████████| 13368/13368 [26:40<00:00,  8.35it/s]\n"
     ]
    },
    {
     "name": "stdout",
     "output_type": "stream",
     "text": [
      "{\n",
      "    \"rouge-1\": {\n",
      "        \"r\": 0.34489054437451205,\n",
      "        \"p\": 0.22542288039598582,\n",
      "        \"f\": 0.26357269051841586\n",
      "    },\n",
      "    \"rouge-2\": {\n",
      "        \"r\": 0.10720480599459638,\n",
      "        \"p\": 0.065581516534886,\n",
      "        \"f\": 0.07804714178094152\n",
      "    },\n",
      "    \"rouge-l\": {\n",
      "        \"r\": 0.310961474565765,\n",
      "        \"p\": 0.2031631889617812,\n",
      "        \"f\": 0.2375559584110965\n",
      "    }\n",
      "}\n"
     ]
    }
   ],
   "source": [
    "evaluate_cnn_dailymail(summarizer, val)"
   ]
  },
  {
   "cell_type": "code",
   "execution_count": 13,
   "id": "9fb68886",
   "metadata": {},
   "outputs": [
    {
     "data": {
      "text/plain": [
       "11490"
      ]
     },
     "execution_count": 13,
     "metadata": {},
     "output_type": "execute_result"
    }
   ],
   "source": [
    "# Test\n",
    "test = list(ds['test'])\n",
    "len(test)"
   ]
  },
  {
   "cell_type": "code",
   "execution_count": 16,
   "id": "f18d91b0",
   "metadata": {},
   "outputs": [
    {
     "name": "stderr",
     "output_type": "stream",
     "text": [
      "100%|███████████████████████████████████████████████████████████████████████████| 11490/11490 [23:22<00:00,  8.19it/s]\n"
     ]
    },
    {
     "name": "stdout",
     "output_type": "stream",
     "text": [
      "{\n",
      "    \"rouge-1\": {\n",
      "        \"r\": 0.34512175359695446,\n",
      "        \"p\": 0.21787056480942532,\n",
      "        \"f\": 0.25846525347495475\n",
      "    },\n",
      "    \"rouge-2\": {\n",
      "        \"r\": 0.1057098270264606,\n",
      "        \"p\": 0.062296011345463614,\n",
      "        \"f\": 0.07507965718344696\n",
      "    },\n",
      "    \"rouge-l\": {\n",
      "        \"r\": 0.31091823545802955,\n",
      "        \"p\": 0.1962828177921399,\n",
      "        \"f\": 0.23280499034968744\n",
      "    }\n",
      "}\n"
     ]
    }
   ],
   "source": [
    "evaluate_cnn_dailymail(summarizer, test)"
   ]
  },
  {
   "cell_type": "markdown",
   "id": "579ffa7c",
   "metadata": {},
   "source": [
    "<br/><br/><br/><br/><br/>\n",
    "\n",
    "# Training only on CnnDailymail"
   ]
  },
  {
   "cell_type": "markdown",
   "id": "f9f448c9",
   "metadata": {},
   "source": [
    "## CnnDailymail analysis"
   ]
  },
  {
   "cell_type": "markdown",
   "id": "878fe0ff",
   "metadata": {},
   "source": [
    "<br/>\n",
    "\n",
    "### In the following cells we analyze lengths of sentences and documents to understand how our model should look like\n",
    "<br/>"
   ]
  },
  {
   "cell_type": "code",
   "execution_count": 53,
   "id": "3a5d363f",
   "metadata": {},
   "outputs": [
    {
     "name": "stderr",
     "output_type": "stream",
     "text": [
      "  0%|                                                                            | 47/287113 [00:00<20:44, 230.63it/s]"
     ]
    },
    {
     "name": "stdout",
     "output_type": "stream",
     "text": [
      "current max(sentences_count): 15\n",
      "current min(sentences_count): 15\n",
      "current max(words_count): 36\n",
      "current min(words_count): 2\n"
     ]
    },
    {
     "name": "stderr",
     "output_type": "stream",
     "text": [
      "  3%|██▌                                                                      | 10041/287113 [00:45<20:26, 225.87it/s]"
     ]
    },
    {
     "name": "stdout",
     "output_type": "stream",
     "text": [
      "current max(sentences_count): 209\n",
      "current min(sentences_count): 3\n",
      "current max(words_count): 791\n",
      "current min(words_count): 1\n"
     ]
    },
    {
     "name": "stderr",
     "output_type": "stream",
     "text": [
      "  7%|█████                                                                    | 20043/287113 [01:29<20:30, 216.99it/s]"
     ]
    },
    {
     "name": "stdout",
     "output_type": "stream",
     "text": [
      "current max(sentences_count): 255\n",
      "current min(sentences_count): 3\n",
      "current max(words_count): 791\n",
      "current min(words_count): 1\n"
     ]
    },
    {
     "name": "stderr",
     "output_type": "stream",
     "text": [
      " 10%|███████▋                                                                 | 30025/287113 [02:14<18:59, 225.69it/s]"
     ]
    },
    {
     "name": "stdout",
     "output_type": "stream",
     "text": [
      "current max(sentences_count): 255\n",
      "current min(sentences_count): 3\n",
      "current max(words_count): 791\n",
      "current min(words_count): 1\n"
     ]
    },
    {
     "name": "stderr",
     "output_type": "stream",
     "text": [
      " 14%|██████████▏                                                              | 40035/287113 [02:59<17:08, 240.13it/s]"
     ]
    },
    {
     "name": "stdout",
     "output_type": "stream",
     "text": [
      "current max(sentences_count): 304\n",
      "current min(sentences_count): 1\n",
      "current max(words_count): 1746\n",
      "current min(words_count): 1\n"
     ]
    },
    {
     "name": "stderr",
     "output_type": "stream",
     "text": [
      " 17%|████████████▋                                                            | 50050/287113 [03:43<16:37, 237.57it/s]"
     ]
    },
    {
     "name": "stdout",
     "output_type": "stream",
     "text": [
      "current max(sentences_count): 352\n",
      "current min(sentences_count): 1\n",
      "current max(words_count): 1746\n",
      "current min(words_count): 1\n"
     ]
    },
    {
     "name": "stderr",
     "output_type": "stream",
     "text": [
      " 21%|███████████████▎                                                         | 60024/287113 [04:30<19:23, 195.22it/s]"
     ]
    },
    {
     "name": "stdout",
     "output_type": "stream",
     "text": [
      "current max(sentences_count): 352\n",
      "current min(sentences_count): 1\n",
      "current max(words_count): 1746\n",
      "current min(words_count): 1\n"
     ]
    },
    {
     "name": "stderr",
     "output_type": "stream",
     "text": [
      " 24%|█████████████████▊                                                       | 70031/287113 [05:17<17:49, 203.04it/s]"
     ]
    },
    {
     "name": "stdout",
     "output_type": "stream",
     "text": [
      "current max(sentences_count): 352\n",
      "current min(sentences_count): 1\n",
      "current max(words_count): 1746\n",
      "current min(words_count): 1\n"
     ]
    },
    {
     "name": "stderr",
     "output_type": "stream",
     "text": [
      " 28%|████████████████████▎                                                    | 80035/287113 [06:04<16:20, 211.17it/s]"
     ]
    },
    {
     "name": "stdout",
     "output_type": "stream",
     "text": [
      "current max(sentences_count): 352\n",
      "current min(sentences_count): 1\n",
      "current max(words_count): 1746\n",
      "current min(words_count): 1\n"
     ]
    },
    {
     "name": "stderr",
     "output_type": "stream",
     "text": [
      " 31%|██████████████████████▉                                                  | 90031/287113 [06:50<14:05, 233.05it/s]"
     ]
    },
    {
     "name": "stdout",
     "output_type": "stream",
     "text": [
      "current max(sentences_count): 352\n",
      "current min(sentences_count): 1\n",
      "current max(words_count): 1746\n",
      "current min(words_count): 1\n"
     ]
    },
    {
     "name": "stderr",
     "output_type": "stream",
     "text": [
      " 35%|█████████████████████████                                               | 100034/287113 [07:37<14:06, 220.96it/s]"
     ]
    },
    {
     "name": "stdout",
     "output_type": "stream",
     "text": [
      "current max(sentences_count): 399\n",
      "current min(sentences_count): 1\n",
      "current max(words_count): 1746\n",
      "current min(words_count): 1\n"
     ]
    },
    {
     "name": "stderr",
     "output_type": "stream",
     "text": [
      " 38%|███████████████████████████▌                                            | 110047/287113 [08:23<13:09, 224.37it/s]"
     ]
    },
    {
     "name": "stdout",
     "output_type": "stream",
     "text": [
      "current max(sentences_count): 399\n",
      "current min(sentences_count): 1\n",
      "current max(words_count): 1746\n",
      "current min(words_count): 1\n"
     ]
    },
    {
     "name": "stderr",
     "output_type": "stream",
     "text": [
      " 42%|██████████████████████████████                                          | 120033/287113 [09:10<14:34, 191.17it/s]"
     ]
    },
    {
     "name": "stdout",
     "output_type": "stream",
     "text": [
      "current max(sentences_count): 399\n",
      "current min(sentences_count): 1\n",
      "current max(words_count): 1746\n",
      "current min(words_count): 1\n"
     ]
    },
    {
     "name": "stderr",
     "output_type": "stream",
     "text": [
      " 45%|████████████████████████████████▌                                       | 130046/287113 [09:57<11:36, 225.55it/s]"
     ]
    },
    {
     "name": "stdout",
     "output_type": "stream",
     "text": [
      "current max(sentences_count): 399\n",
      "current min(sentences_count): 1\n",
      "current max(words_count): 1746\n",
      "current min(words_count): 1\n"
     ]
    },
    {
     "name": "stderr",
     "output_type": "stream",
     "text": [
      " 49%|███████████████████████████████████                                     | 140040/287113 [10:44<11:09, 219.78it/s]"
     ]
    },
    {
     "name": "stdout",
     "output_type": "stream",
     "text": [
      "current max(sentences_count): 399\n",
      "current min(sentences_count): 1\n",
      "current max(words_count): 1746\n",
      "current min(words_count): 1\n"
     ]
    },
    {
     "name": "stderr",
     "output_type": "stream",
     "text": [
      " 52%|█████████████████████████████████████▌                                  | 150028/287113 [11:31<10:44, 212.64it/s]"
     ]
    },
    {
     "name": "stdout",
     "output_type": "stream",
     "text": [
      "current max(sentences_count): 399\n",
      "current min(sentences_count): 1\n",
      "current max(words_count): 1746\n",
      "current min(words_count): 1\n"
     ]
    },
    {
     "name": "stderr",
     "output_type": "stream",
     "text": [
      " 56%|████████████████████████████████████████▏                               | 160071/287113 [12:18<09:22, 226.03it/s]"
     ]
    },
    {
     "name": "stdout",
     "output_type": "stream",
     "text": [
      "current max(sentences_count): 399\n",
      "current min(sentences_count): 1\n",
      "current max(words_count): 1746\n",
      "current min(words_count): 1\n"
     ]
    },
    {
     "name": "stderr",
     "output_type": "stream",
     "text": [
      " 59%|██████████████████████████████████████████▋                             | 170035/287113 [13:05<09:28, 206.09it/s]"
     ]
    },
    {
     "name": "stdout",
     "output_type": "stream",
     "text": [
      "current max(sentences_count): 399\n",
      "current min(sentences_count): 1\n",
      "current max(words_count): 1746\n",
      "current min(words_count): 1\n"
     ]
    },
    {
     "name": "stderr",
     "output_type": "stream",
     "text": [
      " 63%|█████████████████████████████████████████████▏                          | 180032/287113 [13:52<08:11, 217.66it/s]"
     ]
    },
    {
     "name": "stdout",
     "output_type": "stream",
     "text": [
      "current max(sentences_count): 399\n",
      "current min(sentences_count): 1\n",
      "current max(words_count): 1746\n",
      "current min(words_count): 1\n"
     ]
    },
    {
     "name": "stderr",
     "output_type": "stream",
     "text": [
      " 66%|███████████████████████████████████████████████▋                        | 190033/287113 [14:39<07:50, 206.35it/s]"
     ]
    },
    {
     "name": "stdout",
     "output_type": "stream",
     "text": [
      "current max(sentences_count): 399\n",
      "current min(sentences_count): 1\n",
      "current max(words_count): 1746\n",
      "current min(words_count): 1\n"
     ]
    },
    {
     "name": "stderr",
     "output_type": "stream",
     "text": [
      " 70%|██████████████████████████████████████████████████▏                     | 200026/287113 [15:25<06:24, 226.45it/s]"
     ]
    },
    {
     "name": "stdout",
     "output_type": "stream",
     "text": [
      "current max(sentences_count): 399\n",
      "current min(sentences_count): 1\n",
      "current max(words_count): 1746\n",
      "current min(words_count): 1\n"
     ]
    },
    {
     "name": "stderr",
     "output_type": "stream",
     "text": [
      " 73%|████████████████████████████████████████████████████▋                   | 210029/287113 [16:11<05:54, 217.73it/s]"
     ]
    },
    {
     "name": "stdout",
     "output_type": "stream",
     "text": [
      "current max(sentences_count): 399\n",
      "current min(sentences_count): 1\n",
      "current max(words_count): 1746\n",
      "current min(words_count): 1\n"
     ]
    },
    {
     "name": "stderr",
     "output_type": "stream",
     "text": [
      " 77%|███████████████████████████████████████████████████████▏                | 220046/287113 [16:58<05:07, 217.84it/s]"
     ]
    },
    {
     "name": "stdout",
     "output_type": "stream",
     "text": [
      "current max(sentences_count): 399\n",
      "current min(sentences_count): 1\n",
      "current max(words_count): 1746\n",
      "current min(words_count): 1\n"
     ]
    },
    {
     "name": "stderr",
     "output_type": "stream",
     "text": [
      " 80%|█████████████████████████████████████████████████████████▋              | 230033/287113 [17:44<04:31, 210.37it/s]"
     ]
    },
    {
     "name": "stdout",
     "output_type": "stream",
     "text": [
      "current max(sentences_count): 399\n",
      "current min(sentences_count): 1\n",
      "current max(words_count): 1746\n",
      "current min(words_count): 1\n"
     ]
    },
    {
     "name": "stderr",
     "output_type": "stream",
     "text": [
      " 84%|████████████████████████████████████████████████████████████▏           | 240023/287113 [18:31<03:41, 213.05it/s]"
     ]
    },
    {
     "name": "stdout",
     "output_type": "stream",
     "text": [
      "current max(sentences_count): 399\n",
      "current min(sentences_count): 1\n",
      "current max(words_count): 1746\n",
      "current min(words_count): 1\n"
     ]
    },
    {
     "name": "stderr",
     "output_type": "stream",
     "text": [
      " 87%|██████████████████████████████████████████████████████████████▋         | 250032/287113 [19:18<02:50, 216.88it/s]"
     ]
    },
    {
     "name": "stdout",
     "output_type": "stream",
     "text": [
      "current max(sentences_count): 399\n",
      "current min(sentences_count): 1\n",
      "current max(words_count): 1746\n",
      "current min(words_count): 1\n"
     ]
    },
    {
     "name": "stderr",
     "output_type": "stream",
     "text": [
      " 91%|█████████████████████████████████████████████████████████████████▏      | 260048/287113 [20:05<02:00, 225.10it/s]"
     ]
    },
    {
     "name": "stdout",
     "output_type": "stream",
     "text": [
      "current max(sentences_count): 399\n",
      "current min(sentences_count): 1\n",
      "current max(words_count): 1746\n",
      "current min(words_count): 1\n"
     ]
    },
    {
     "name": "stderr",
     "output_type": "stream",
     "text": [
      " 94%|███████████████████████████████████████████████████████████████████▋    | 270040/287113 [20:51<01:30, 188.07it/s]"
     ]
    },
    {
     "name": "stdout",
     "output_type": "stream",
     "text": [
      "current max(sentences_count): 399\n",
      "current min(sentences_count): 1\n",
      "current max(words_count): 1746\n",
      "current min(words_count): 1\n"
     ]
    },
    {
     "name": "stderr",
     "output_type": "stream",
     "text": [
      " 98%|██████████████████████████████████████████████████████████████████████▏ | 280052/287113 [21:38<00:30, 229.54it/s]"
     ]
    },
    {
     "name": "stdout",
     "output_type": "stream",
     "text": [
      "current max(sentences_count): 399\n",
      "current min(sentences_count): 1\n",
      "current max(words_count): 1746\n",
      "current min(words_count): 1\n"
     ]
    },
    {
     "name": "stderr",
     "output_type": "stream",
     "text": [
      "100%|████████████████████████████████████████████████████████████████████████| 287113/287113 [22:11<00:00, 215.56it/s]"
     ]
    },
    {
     "name": "stdout",
     "output_type": "stream",
     "text": [
      "max(sentences_count): 399\n",
      "min(sentences_count): 1\n",
      "max(words_count): 1746\n",
      "min(words_count): 1\n"
     ]
    },
    {
     "name": "stderr",
     "output_type": "stream",
     "text": [
      "\n"
     ]
    }
   ],
   "source": [
    "def get_texts_properties(dataset: List[Dict]) -> Set[int]:\n",
    "    # words_count = set()\n",
    "    # sentences_count = set()\n",
    "    words_count = defaultdict(int)\n",
    "    sentences_count = defaultdict(int)\n",
    "    for i in tqdm(range(len(dataset))):\n",
    "        e = train[i]\n",
    "        text = e['article'].numpy().decode('utf-8')\n",
    "        sentences = sent_tokenize(text.replace('\\n', ' ').strip())\n",
    "        # sentences_count.add(len(sentences))\n",
    "        sentences_count[len(sentences)] += 1\n",
    "        for sentence in sentences:\n",
    "            words = word_tokenize(sentence)\n",
    "            # res = re.sub(r'[^\\w\\s]', '', sentence)\n",
    "            # words_count.add(len(words))\n",
    "            words_count[len(words)] += 1\n",
    "        if i % 10000 == 0:\n",
    "            print(f'current max(sentences_count): {max(sentences_count.keys())}')\n",
    "            print(f'current min(sentences_count): {min(sentences_count.keys())}')\n",
    "            print(f'current max(words_count): {max(words_count.keys())}')\n",
    "            print(f'current min(words_count): {min(words_count.keys())}')\n",
    "    return words_count, sentences_count\n",
    "\n",
    "words_count, sentences_count = get_texts_properties(train)\n",
    "print(f'max(sentences_count): {max(sentences_count.keys())}')\n",
    "print(f'min(sentences_count): {min(sentences_count.keys())}')\n",
    "print(f'max(words_count): {max(words_count.keys())}')\n",
    "print(f'min(words_count): {min(words_count.keys())}')"
   ]
  },
  {
   "cell_type": "code",
   "execution_count": 61,
   "id": "ce5add46",
   "metadata": {
    "pycharm": {
     "name": "#%%\n"
    }
   },
   "outputs": [
    {
     "data": {
      "text/plain": [
       "1"
      ]
     },
     "execution_count": 61,
     "metadata": {},
     "output_type": "execute_result"
    }
   ],
   "source": [
    "# sentences_count[201]\n",
    "words_count[250]"
   ]
  },
  {
   "cell_type": "code",
   "execution_count": 57,
   "id": "ab402869",
   "metadata": {
    "pycharm": {
     "name": "#%%\n"
    }
   },
   "outputs": [
    {
     "data": {
      "image/png": "[encoded data removed]",
      "text/plain": [
       "<Figure size 1080x720 with 2 Axes>"
      ]
     },
     "metadata": {
      "needs_background": "light"
     },
     "output_type": "display_data"
    }
   ],
   "source": [
    "plt.rcParams['figure.figsize'] = (15, 10)\n",
    "fig, (ax, ay) = plt.subplots(2, 1)\n",
    "ax.bar(sentences_count.keys(), sentences_count.values())\n",
    "ay.bar(words_count.keys(), words_count.values())\n",
    "plt.show()"
   ]
  },
  {
   "cell_type": "code",
   "execution_count": 66,
   "id": "d95cde15",
   "metadata": {
    "pycharm": {
     "name": "#%%\n"
    }
   },
   "outputs": [
    {
     "data": {
      "image/png": "[encoded data removed]",
      "text/plain": [
       "<Figure size 1080x720 with 2 Axes>"
      ]
     },
     "metadata": {
      "needs_background": "light"
     },
     "output_type": "display_data"
    }
   ],
   "source": [
    "# sent_data = []\n",
    "# for k, v in sentences_count.items():\n",
    "#     sent_data.extend([k] * v)\n",
    "#\n",
    "# word_data = []\n",
    "# for k, v in words_count.items():\n",
    "#     word_data.extend([k] * v)\n",
    "\n",
    "# sent_data = [[k] * v for k, v in sentences_count.items()]\n",
    "# print(len(sent_data))\n",
    "# print(len(sent_data[0]))\n",
    "\n",
    "fig, (ax, ay) = plt.subplots(1, 2)\n",
    "ax.boxplot(sent_data)\n",
    "ay.boxplot(word_data)\n",
    "plt.show()\n"
   ]
  },
  {
   "cell_type": "markdown",
   "id": "9ff4ecb9",
   "metadata": {
    "pycharm": {
     "name": "#%% md\n"
    }
   },
   "source": [
    "# Making a new dataset out of the CnnDailymail for extractive training"
   ]
  },
  {
   "cell_type": "code",
   "execution_count": 4,
   "id": "57d02cd2",
   "metadata": {
    "pycharm": {
     "name": "#%%  1%|▌                                                                             | 92/13368 [00:16<39:47,  5.56it/s]\n"
    }
   },
   "outputs": [
    {
     "name": "stderr",
     "output_type": "stream",
     "text": [
      "2021-08-22 12:05:18.743055: I tensorflow/stream_executor/cuda/cuda_gpu_executor.cc:937] successful NUMA node read from SysFS had negative value (-1), but there must be at least one NUMA node, so returning NUMA node zero\n",
      "2021-08-22 12:05:18.772671: W tensorflow/stream_executor/platform/default/dso_loader.cc:64] Could not load dynamic library 'libcudnn.so.8'; dlerror: libcudnn.so.8: cannot open shared object file: No such file or directory\n",
      "2021-08-22 12:05:18.772685: W tensorflow/core/common_runtime/gpu/gpu_device.cc:1835] Cannot dlopen some GPU libraries. Please make sure the missing libraries mentioned above are installed properly if you would like to use GPU. Follow the guide at https://www.tensorflow.org/install/gpu for how to download and setup the required libraries for your platform.\n",
      "Skipping registering GPU devices...\n",
      "2021-08-22 12:05:18.773278: I tensorflow/core/platform/cpu_feature_guard.cc:142] This TensorFlow binary is optimized with oneAPI Deep Neural Network Library (oneDNN) to use the following CPU instructions in performance-critical operations:  AVX2 FMA\n",
      "To enable them in other operations, rebuild TensorFlow with the appropriate compiler flags.\n",
      "2021-08-22 12:05:18.853605: I tensorflow/compiler/mlir/mlir_graph_optimization_pass.cc:185] None of the MLIR Optimization Passes are enabled (registered 2)\n"
     ]
    }
   ],
   "source": [
    "# Getting dataset\n",
    "ds, ds_info = tfds.load('cnn_dailymail', with_info=True)\n",
    "# ds\n",
    "train = list(ds['train'])\n",
    "val = list(ds['validation'])\n",
    "test = list(ds['test'])"
   ]
  },
  {
   "cell_type": "markdown",
   "id": "c3af72a7",
   "metadata": {},
   "source": [
    "<br/><br/>\n",
    "\n",
    "### In the following cell abstractive ground truths of CnnDailymail dataset are transformed into extractive ground truths for our model using Rouge-L maximization\n",
    "<br/>\n",
    "\n"
   ]
  },
  {
   "cell_type": "code",
   "execution_count": null,
   "id": "26c4d9a0",
   "metadata": {
    "pycharm": {
     "is_executing": true
    }
   },
   "outputs": [
    {
     "name": "stderr",
     "output_type": "stream",
     "text": [
      "  3%|██▍                                                                    | 10000/287113 [23:59<12:07:47,  6.35it/s]/tmp/ipykernel_9054/104891140.py:45: VisibleDeprecationWarning: Creating an ndarray from ragged nested sequences (which is a list-or-tuple of lists-or-tuples-or ndarrays with different lengths or shapes) is deprecated. If you meant to do this, you must specify 'dtype=object' when creating the ndarray\n",
      "  article_sentences=np.array(article_sentences_list),\n",
      "/tmp/ipykernel_9054/104891140.py:46: VisibleDeprecationWarning: Creating an ndarray from ragged nested sequences (which is a list-or-tuple of lists-or-tuples-or ndarrays with different lengths or shapes) is deprecated. If you meant to do this, you must specify 'dtype=object' when creating the ndarray\n",
      "  labels=np.array(labels_list),\n",
      " 61%|█████████████████████████████████████████▊                           | 173825/287113 [7:21:40<3:47:06,  8.31it/s]"
     ]
    }
   ],
   "source": [
    "save_dir = './preprocessed_cnn_dailymail'\n",
    "\n",
    "\n",
    "def get_article_and_highlights(obj) -> Tuple[str, str]:\n",
    "    return obj['article'].numpy().decode('utf-8'), obj['highlights'].numpy().decode('utf-8')\n",
    "\n",
    "\n",
    "def make_extractive_labels(e, rouge_diff_threshold: float = 0., score_to_use: str = 'rouge-l'):\n",
    "    article, ref = get_article_and_highlights(e)\n",
    "    article_sentences = sent_tokenize(article)\n",
    "    labels = [0] * len(article_sentences)\n",
    "    chosen_sentences = []\n",
    "    max_rouge_score = 0\n",
    "\n",
    "    for si, sentence in enumerate(article_sentences):\n",
    "        hyp = ' '.join(chosen_sentences + [sentence])\n",
    "        no_punct = re.sub(r'[^\\w\\s]', '', sentence)\n",
    "        if len(no_punct) > 0:\n",
    "            scores = rouge.get_scores(hyp, ref)[0]\n",
    "            if scores[score_to_use]['f'] > max_rouge_score + rouge_diff_threshold:\n",
    "                max_rouge_score = scores[score_to_use]['f']\n",
    "                chosen_sentences.append(sentence)\n",
    "                labels[si] = 1\n",
    "\n",
    "    return article_sentences, np.array(labels, dtype=np.uint8), ref\n",
    "\n",
    "\n",
    "def transform_data_to_extractive(dataset, save_dir, n_steps=10000):\n",
    "    labels_list = []\n",
    "    article_sentences_list = []\n",
    "    refs = []\n",
    "    step = 0\n",
    "    for i in tqdm(range(len(dataset))):\n",
    "        article_sentences, labels, ref = make_extractive_labels(dataset[i])\n",
    "        article_sentences_list.append(article_sentences)\n",
    "        labels_list.append(labels)\n",
    "        refs.append(ref)\n",
    "        if i > 0 and i % n_steps == 0:\n",
    "            np.savez_compressed(os.path.join(save_dir, str(step)),\n",
    "                                article_sentences=np.array(article_sentences_list),\n",
    "                                labels=np.array(labels_list),\n",
    "                                refs=np.array(refs))\n",
    "            article_sentences_list = []\n",
    "            labels_list = []\n",
    "            refs = []\n",
    "            step += 1\n",
    "    np.savez_compressed(os.path.join(save_dir, str(step)),\n",
    "                        article_sentences=np.array(article_sentences_list),\n",
    "                        labels=np.array(labels_list),\n",
    "                        refs=np.array(refs))\n",
    "\n",
    "    \n",
    "transform_data_to_extractive(train, os.path.join(save_dir, 'train'))\n",
    "# transform_data_to_extractive(val, os.path.join(save_dir, 'val'))\n",
    "# transform_data_to_extractive(test, os.path.join(save_dir, 'test'))"
   ]
  },
  {
   "cell_type": "code",
   "execution_count": 3,
   "id": "d26c5625",
   "metadata": {
    "pycharm": {
     "is_executing": true,
     "name": "#%%\n"
    }
   },
   "outputs": [],
   "source": [
    "# [<document_batch_dim>, <sentences_dim>, <words_dim>, <word_embedding_dim>]\n",
    "# [<document_batch_dim>, <labels_vec_dim>]\n",
    "\n",
    "class BiLstmBasedCustom(nn.Module):\n",
    "\n",
    "    def __init__(self, embedding_dim: int = 300,\n",
    "                 words_count: int = 150,\n",
    "                 sentences_count: int = 200,\n",
    "                 hidden_dim: int = 150):\n",
    "        super(BiLstmBasedCustom, self).__init__()\n",
    "\n",
    "        self.embedding_dim = embedding_dim\n",
    "        self.words_count = words_count\n",
    "        self.sentences_count = sentences_count\n",
    "        self.hidden_dim = hidden_dim\n",
    "\n",
    "        # Sentence encoder\n",
    "\n",
    "        self.bilstm = nn.LSTM(self.embedding_dim,\n",
    "                              self.hidden_dim // 2,\n",
    "                              num_layers=1,\n",
    "                              bidirectional=True,\n",
    "                              batch_first=True)\n",
    "\n",
    "        self.conv0 = nn.Conv2d(1, 8, 3)\n",
    "        self.bn0 = nn.BatchNorm2d(8)\n",
    "        self.mp0 = nn.MaxPool2d(kernel_size=2)\n",
    "\n",
    "        self.conv1 = nn.Conv2d(8, 16, 3)\n",
    "        self.bn1 = nn.BatchNorm2d(16)\n",
    "        self.mp1 = nn.MaxPool2d(kernel_size=2)\n",
    "\n",
    "        self.conv2 = nn.Conv2d(16, 32, 3)\n",
    "        self.bn2 = nn.BatchNorm2d(32)\n",
    "        self.conv3 = nn.Conv2d(32, 32, 3)\n",
    "        self.bn3 = nn.BatchNorm2d(32)\n",
    "        self.mp23 = nn.MaxPool2d(kernel_size=2)\n",
    "\n",
    "        self.conv4 = nn.Conv2d(32, 64, 3)\n",
    "        self.bn4 = nn.BatchNorm2d(64)\n",
    "        self.conv5 = nn.Conv2d(64, 64, 3)\n",
    "        self.bn5 = nn.BatchNorm2d(64)\n",
    "        self.conv6 = nn.Conv2d(64, 64, 3)\n",
    "        self.bn6 = nn.BatchNorm2d(64)\n",
    "        self.mp456 = nn.MaxPool2d(kernel_size=2)\n",
    "\n",
    "        self.conv7 = nn.Conv2d(64, 128, 3)\n",
    "        self.bn7 = nn.BatchNorm2d(128)\n",
    "        self.conv8 = nn.Conv2d(128, 128, 3)\n",
    "        self.bn8 = nn.BatchNorm2d(128)\n",
    "        self.conv9 = nn.Conv2d(128, 128, 3)\n",
    "        self.bn9 = nn.BatchNorm2d(128)\n",
    "\n",
    "        # Other layers, aggregating sentence embeddings\n",
    "        self.doc_bilstm = nn.LSTM(128,\n",
    "                                  64,\n",
    "                                  bidirectional=True,\n",
    "                                  batch_first=True,\n",
    "                                  num_layers=1)\n",
    "        self.doc_linear0 = nn.Linear(128, 64)\n",
    "        self.doc_linear1 = nn.Linear(64, 32)\n",
    "        self.doc_linear2 = nn.Linear(32, 1)\n",
    "\n",
    "        pass\n",
    "\n",
    "    def _apply_sentence_encoder(self, x: torch.Tensor) -> torch.Tensor:\n",
    "        \"\"\"\n",
    "            Applying sentence encoder layers to every sentence tensor passed\n",
    "            :param x: Tensor, containing list of word embedding for every word in a sentence\n",
    "            :return: Tensor, containing a single vector - embedding of the sentence\n",
    "        \"\"\"\n",
    "\n",
    "        cx, _ = self.bilstm(x)\n",
    "        cx = torch.reshape(cx, (cx.shape[0], 1, self.words_count, self.hidden_dim))\n",
    "\n",
    "        cx = self.conv0(cx)  # output shape: (8, 148, 148)\n",
    "        cx = self.bn0(cx)\n",
    "        cx = F.relu(cx)\n",
    "        cx = self.mp0(cx)  # output_shape: (8, 74, 74)\n",
    "\n",
    "        cx = self.conv1(cx)  # output_shape: (16, 72, 72)\n",
    "        cx = self.bn1(cx)\n",
    "        cx = F.relu(cx)\n",
    "        cx = self.mp1(cx)  # output_shape: (16, 36, 36)\n",
    "\n",
    "        cx = self.conv2(cx)  # output_shape:  (32, 34, 34)\n",
    "        cx = self.bn2(cx)\n",
    "        cx = F.relu(cx)\n",
    "        cx = self.conv3(cx)  # output_shape: (32, 32, 32)\n",
    "        cx = self.bn3(cx)\n",
    "        cx = F.relu(cx)\n",
    "        cx = self.mp23(cx)  # output_shape: (32, 16, 16)\n",
    "\n",
    "        cx = self.conv4(cx)   # output_shape: (64, 14, 14)\n",
    "        cx = self.bn4(cx)\n",
    "        cx = F.relu(cx)\n",
    "        cx = self.conv5(cx)  # output_shape: (64, 12, 12)\n",
    "        cx = self.bn5(cx)\n",
    "        cx = F.relu(cx)\n",
    "        cx = self.conv6(cx)  # output_shape: (64, 10, 10)\n",
    "        cx = self.bn6(cx)\n",
    "        cx = F.relu(cx)\n",
    "        cx = self.mp456(cx)  # output_shape: (64, 5, 5)\n",
    "\n",
    "        cx = self.conv7(cx)  # output_shape: (128, 3, 3)\n",
    "        cx = self.bn7(cx)\n",
    "        cx = F.relu(cx)\n",
    "        cx = self.conv8(cx)  # output_shape: (128, 1, 1)\n",
    "        cx = self.bn8(cx)\n",
    "        cx = F.relu(cx)\n",
    "\n",
    "        cx = torch.flatten(cx, start_dim=1)\n",
    "\n",
    "        return cx\n",
    "\n",
    "\n",
    "    def forward(self, x):\n",
    "\n",
    "        # Input shape: [<document_batch_dim>\n",
    "        #               <sentences_dim>,\n",
    "        #               <words_dim>,\n",
    "        #               <word_embedding_dim>]\n",
    "\n",
    "        hi_list = []\n",
    "        for si in range(self.sentences_count):\n",
    "            xi = x[:, si, :, :]  # slicing sentence\n",
    "            hi = self._apply_sentence_encoder(xi)  # getting stentence embedding\n",
    "            hi_list.append(hi)\n",
    "        hi_ = torch.stack(hi_list, dim=1)\n",
    "\n",
    "        hi_, _ = self.doc_bilstm(hi_)  # output_shape: (N, <sentences_count>, 128)\n",
    "\n",
    "        hi_ = self.doc_linear0(hi_)\n",
    "        hi_ = F.tanh(hi_)\n",
    "\n",
    "        hi_ = self.doc_linear1(hi_)\n",
    "        hi_ = F.tanh(hi_)\n",
    "\n",
    "        hi_ = self.doc_linear2(hi_)\n",
    "        hi_ = torch.flatten(hi_, start_dim=1)\n",
    "        output = F.sigmoid(hi_)\n",
    "\n",
    "        return output"
   ]
  },
  {
   "cell_type": "code",
   "execution_count": 4,
   "id": "0a7396d5",
   "metadata": {
    "pycharm": {
     "is_executing": true,
     "name": "#%%\n"
    }
   },
   "outputs": [],
   "source": [
    "class CnnDailymailDataset(Dataset):\n",
    "    \"\"\"\n",
    "        Dataset class for files, generated during 'abstractive-to-extractive' labels transformation\n",
    "    \"\"\"\n",
    "\n",
    "    def __init__(self, dir,\n",
    "                 word_encoder: FastText,\n",
    "                 words_count: int = 150,\n",
    "                 sentences_count: int = 200):\n",
    "        self.word_encoder = word_encoder\n",
    "\n",
    "        self.words_count = words_count\n",
    "        self.sentences_count = sentences_count\n",
    "        self.device = torch.device(\"cuda:0\" if torch.cuda.is_available() else \"cpu\")\n",
    "\n",
    "        assert os.path.exists(dir), f\"Directory {dir} was not found\"\n",
    "        self.article_sentences, self.labels, self.refs = [], [], []\n",
    "        for filename in os.listdir(dir):\n",
    "            data = np.load(os.path.join(dir, filename), allow_pickle=True)\n",
    "            self.article_sentences.extend(data['article_sentences'])\n",
    "            self.labels.extend(data['labels'])\n",
    "            self.refs.extend(data['refs'])\n",
    "        assert len(self.article_sentences) == len(self.labels) == len(self.refs)\n",
    "\n",
    "    def __len__(self):\n",
    "        return len(self.article_sentences)\n",
    "\n",
    "    def __getitem__(self, item):\n",
    "\n",
    "        # Cropping sentences, as we cannot allow various input size for our model\n",
    "        chosen_sentences = self.article_sentences[item][:self.sentences_count]\n",
    "        chosen_labels = self.labels[item][:self.sentences_count]\n",
    "\n",
    "        # chosen_refs = self.refs[item]\n",
    "\n",
    "        # Encoding\n",
    "        encoded_sentences = []\n",
    "        for sentence in chosen_sentences:\n",
    "            encoded_sentence = []\n",
    "            words = word_tokenize(sentence, language=\"english\")[:self.words_count]\n",
    "            for word in words:\n",
    "                encoding = self.word_encoder.get_word_vector(word)\n",
    "                encoded_sentence.append(encoding)\n",
    "            encoded_sentence = np.array(encoded_sentence, dtype=np.float32)\n",
    "            \n",
    "            encoded_sentence = np.pad(encoded_sentence,\n",
    "                                      pad_width=((0, self.words_count - len(encoded_sentence)), (0, 0)))\n",
    "            encoded_sentences.append(encoded_sentence)\n",
    "\n",
    "\n",
    "        xs = np.array(encoded_sentences)\n",
    "        xs = np.pad(xs, pad_width=((0, self.sentences_count - len(encoded_sentences)), (0, 0), (0, 0)))\n",
    "\n",
    "        ys = np.array(chosen_labels)\n",
    "        mask = np.array([1] * len(chosen_labels))\n",
    "        \n",
    "        ys = np.pad(ys, pad_width=(0, self.sentences_count - len(encoded_sentences)))\n",
    "        mask = np.pad(mask, pad_width=(0, self.sentences_count - len(encoded_sentences)))\n",
    "        \n",
    "        return {'xs': torch.FloatTensor(xs).to(self.device),\n",
    "                'ys': torch.FloatTensor(ys).to(self.device),\n",
    "                'mask': torch.FloatTensor(mask).to(self.device)}"
   ]
  },
  {
   "cell_type": "markdown",
   "id": "c83a2ef0",
   "metadata": {},
   "source": [
    "Loading datasets for training"
   ]
  },
  {
   "cell_type": "code",
   "execution_count": 5,
   "id": "e7e33200",
   "metadata": {
    "pycharm": {
     "is_executing": true,
     "name": "#%%\n"
    }
   },
   "outputs": [],
   "source": [
    "train_dir = '/home/anton/Work/interviews/aspose/repository/extractive_summarization/preprocessed_cnn_dailymail/train'\n",
    "val_dir = '/home/anton/Work/interviews/aspose/repository/extractive_summarization/preprocessed_cnn_dailymail/validation'\n",
    "\n",
    "train_dataset = CnnDailymailDataset(train_dir, ft_en)\n",
    "val_dataset = CnnDailymailDataset(val_dir, ft_en)"
   ]
  },
  {
   "cell_type": "markdown",
   "id": "a2131877",
   "metadata": {},
   "source": [
    "Creating dataloader, setting training parameters"
   ]
  },
  {
   "cell_type": "code",
   "execution_count": 6,
   "id": "918d73f0",
   "metadata": {
    "pycharm": {
     "is_executing": true,
     "name": "#%%\n"
    }
   },
   "outputs": [
    {
     "name": "stdout",
     "output_type": "stream",
     "text": [
      "Device: cuda:0\n",
      "BiLstmBasedCustom(\n",
      "  (bilstm): LSTM(300, 75, batch_first=True, bidirectional=True)\n",
      "  (conv0): Conv2d(1, 8, kernel_size=(3, 3), stride=(1, 1))\n",
      "  (bn0): BatchNorm2d(8, eps=1e-05, momentum=0.1, affine=True, track_running_stats=True)\n",
      "  (mp0): MaxPool2d(kernel_size=2, stride=2, padding=0, dilation=1, ceil_mode=False)\n",
      "  (conv1): Conv2d(8, 16, kernel_size=(3, 3), stride=(1, 1))\n",
      "  (bn1): BatchNorm2d(16, eps=1e-05, momentum=0.1, affine=True, track_running_stats=True)\n",
      "  (mp1): MaxPool2d(kernel_size=2, stride=2, padding=0, dilation=1, ceil_mode=False)\n",
      "  (conv2): Conv2d(16, 32, kernel_size=(3, 3), stride=(1, 1))\n",
      "  (bn2): BatchNorm2d(32, eps=1e-05, momentum=0.1, affine=True, track_running_stats=True)\n",
      "  (conv3): Conv2d(32, 32, kernel_size=(3, 3), stride=(1, 1))\n",
      "  (bn3): BatchNorm2d(32, eps=1e-05, momentum=0.1, affine=True, track_running_stats=True)\n",
      "  (mp23): MaxPool2d(kernel_size=2, stride=2, padding=0, dilation=1, ceil_mode=False)\n",
      "  (conv4): Conv2d(32, 64, kernel_size=(3, 3), stride=(1, 1))\n",
      "  (bn4): BatchNorm2d(64, eps=1e-05, momentum=0.1, affine=True, track_running_stats=True)\n",
      "  (conv5): Conv2d(64, 64, kernel_size=(3, 3), stride=(1, 1))\n",
      "  (bn5): BatchNorm2d(64, eps=1e-05, momentum=0.1, affine=True, track_running_stats=True)\n",
      "  (conv6): Conv2d(64, 64, kernel_size=(3, 3), stride=(1, 1))\n",
      "  (bn6): BatchNorm2d(64, eps=1e-05, momentum=0.1, affine=True, track_running_stats=True)\n",
      "  (mp456): MaxPool2d(kernel_size=2, stride=2, padding=0, dilation=1, ceil_mode=False)\n",
      "  (conv7): Conv2d(64, 128, kernel_size=(3, 3), stride=(1, 1))\n",
      "  (bn7): BatchNorm2d(128, eps=1e-05, momentum=0.1, affine=True, track_running_stats=True)\n",
      "  (conv8): Conv2d(128, 128, kernel_size=(3, 3), stride=(1, 1))\n",
      "  (bn8): BatchNorm2d(128, eps=1e-05, momentum=0.1, affine=True, track_running_stats=True)\n",
      "  (conv9): Conv2d(128, 128, kernel_size=(3, 3), stride=(1, 1))\n",
      "  (bn9): BatchNorm2d(128, eps=1e-05, momentum=0.1, affine=True, track_running_stats=True)\n",
      "  (doc_bilstm): LSTM(128, 64, batch_first=True, bidirectional=True)\n",
      "  (doc_linear0): Linear(in_features=128, out_features=64, bias=True)\n",
      "  (doc_linear1): Linear(in_features=64, out_features=32, bias=True)\n",
      "  (doc_linear2): Linear(in_features=32, out_features=1, bias=True)\n",
      ")\n"
     ]
    }
   ],
   "source": [
    "batch_size = 8\n",
    "learning_rate = 0.001\n",
    "epochs = 5\n",
    "plt.rcParams[\"figure.figsize\"] = (15, 10)\n",
    "log_dir = './log_dir'\n",
    "weights_dir = './weights'\n",
    "writer = SummaryWriter(log_dir)\n",
    "train_steps = 400\n",
    "validation_steps = 200\n",
    "\n",
    "\n",
    "train_loader = DataLoader(train_dataset, batch_size=batch_size, shuffle=True)\n",
    "val_loader = DataLoader(val_dataset, batch_size=batch_size, shuffle=True)\n",
    "\n",
    "device = torch.device(\"cuda:0\" if torch.cuda.is_available() else \"cpu\")\n",
    "print(f\"Device: {device}\")\n",
    "\n",
    "model = BiLstmBasedCustom()\n",
    "model.to(device)\n",
    "\n",
    "print(model)\n",
    "\n",
    "optimizer = torch.optim.Adam(model.parameters(), lr=learning_rate)"
   ]
  },
  {
   "cell_type": "markdown",
   "id": "5642dade",
   "metadata": {},
   "source": [
    "### Training itself starts here"
   ]
  },
  {
   "cell_type": "code",
   "execution_count": 7,
   "id": "a460a606",
   "metadata": {
    "pycharm": {
     "name": "#%%\n"
    }
   },
   "outputs": [
    {
     "name": "stderr",
     "output_type": "stream",
     "text": [
      "  0%|                                                                                         | 0/400 [00:00<?, ?it/s]/home/anton/Work/interviews/aspose/repository/extractive_summarization/venv/lib/python3.8/site-packages/torch/nn/functional.py:718: UserWarning: Named tensors and all their associated APIs are an experimental feature and subject to change. Please do not use them for anything important until they are released as stable. (Triggered internally at  /pytorch/c10/core/TensorImpl.h:1156.)\n",
      "  return torch.max_pool2d(input, kernel_size, stride, padding, dilation, ceil_mode)\n",
      "/home/anton/Work/interviews/aspose/repository/extractive_summarization/venv/lib/python3.8/site-packages/torch/nn/functional.py:1794: UserWarning: nn.functional.tanh is deprecated. Use torch.tanh instead.\n",
      "  warnings.warn(\"nn.functional.tanh is deprecated. Use torch.tanh instead.\")\n",
      "/home/anton/Work/interviews/aspose/repository/extractive_summarization/venv/lib/python3.8/site-packages/torch/nn/functional.py:1805: UserWarning: nn.functional.sigmoid is deprecated. Use torch.sigmoid instead.\n",
      "  warnings.warn(\"nn.functional.sigmoid is deprecated. Use torch.sigmoid instead.\")\n",
      "100%|███████████████████████████████████████████████████████████████████████████████| 400/400 [13:19<00:00,  2.00s/it]\n",
      "100%|███████████████████████████████████████████████████████████████████████████████| 200/200 [02:55<00:00,  1.14it/s]\n",
      "100%|███████████████████████████████████████████████████████████████████████████████| 400/400 [13:53<00:00,  2.08s/it]\n",
      "100%|███████████████████████████████████████████████████████████████████████████████| 200/200 [03:25<00:00,  1.03s/it]\n",
      "100%|███████████████████████████████████████████████████████████████████████████████| 400/400 [14:19<00:00,  2.15s/it]\n",
      "100%|███████████████████████████████████████████████████████████████████████████████| 200/200 [02:53<00:00,  1.15it/s]\n",
      "100%|███████████████████████████████████████████████████████████████████████████████| 400/400 [13:54<00:00,  2.09s/it]\n",
      "100%|███████████████████████████████████████████████████████████████████████████████| 200/200 [02:57<00:00,  1.13it/s]\n",
      "100%|███████████████████████████████████████████████████████████████████████████████| 400/400 [12:51<00:00,  1.93s/it]\n",
      "100%|███████████████████████████████████████████████████████████████████████████████| 200/200 [02:38<00:00,  1.26it/s]\n"
     ]
    }
   ],
   "source": [
    "def evaluate(model, loader):\n",
    "    model.eval()\n",
    "    with torch.set_grad_enabled(False):\n",
    "        val_loss = 0\n",
    "        for bi, data in tqdm(enumerate(val_loader), total=validation_steps):\n",
    "            y_pred = model(data['xs'])\n",
    "            loss = F.binary_cross_entropy(y_pred, data['ys'], weight=data['mask'])\n",
    "            val_loss += ((1 / (bi + 1)) * (loss.item() - val_loss))\n",
    "            if bi >= validation_steps:\n",
    "                break\n",
    "    return val_loss\n",
    "\n",
    "\n",
    "for epoch in range(epochs):\n",
    "\n",
    "    # Train\n",
    "    train_loss = 0\n",
    "    model.train()\n",
    "    for bi, data in tqdm(enumerate(train_loader), total=train_steps):\n",
    "\n",
    "        optimizer.zero_grad()\n",
    "\n",
    "        y_pred = model(data['xs'])\n",
    "        loss = F.binary_cross_entropy(y_pred, data['ys'], weight=data['mask'])\n",
    "\n",
    "        loss.backward()\n",
    "        optimizer.step()\n",
    "        \n",
    "        train_loss += ((1 / (bi + 1)) * (loss.item() - train_loss))\n",
    "        \n",
    "        if bi >= train_steps:\n",
    "            break\n",
    "        \n",
    "    # Validation\n",
    "    val_loss = evaluate(model, val_loader)\n",
    "    \n",
    "    writer.add_scalar('Loss/train', train_loss, epoch)\n",
    "    writer.add_scalar('Loss/val', val_loss, epoch)\n",
    "    \n",
    "    torch.save(model.state_dict(), os.path.join(weights_dir, 'last.pt'))\n",
    "\n"
   ]
  }
 ],
 "metadata": {
  "kernelspec": {
   "display_name": "Python 3 (ipykernel)",
   "language": "python",
   "name": "python3"
  },
  "language_info": {
   "codemirror_mode": {
    "name": "ipython",
    "version": 3
   },
   "file_extension": ".py",
   "mimetype": "text/x-python",
   "name": "python",
   "nbconvert_exporter": "python",
   "pygments_lexer": "ipython3",
   "version": "3.8.10"
  }
 },
 "nbformat": 4,
 "nbformat_minor": 5
}
